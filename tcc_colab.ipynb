{
  "nbformat": 4,
  "nbformat_minor": 0,
  "metadata": {
    "kernelspec": {
      "display_name": "Python 3",
      "language": "python",
      "name": "python3"
    },
    "language_info": {
      "codemirror_mode": {
        "name": "ipython",
        "version": 3
      },
      "file_extension": ".py",
      "mimetype": "text/x-python",
      "name": "python",
      "nbconvert_exporter": "python",
      "pygments_lexer": "ipython3",
      "version": "3.7.6"
    },
    "colab": {
      "name": "tcc_colab.ipynb",
      "provenance": [],
      "collapsed_sections": [
        "3ltndaNbUesq",
        "SmSF4MVBUesx",
        "4yf7GO5EUes6",
        "tg498_ZBUetD",
        "avRzw59DUetW",
        "Zwtx7RF9Uetd",
        "Zv9VnCmMUetw"
      ],
      "toc_visible": true,
      "include_colab_link": true
    }
  },
  "cells": [
    {
      "cell_type": "markdown",
      "metadata": {
        "id": "view-in-github",
        "colab_type": "text"
      },
      "source": [
        "<a href=\"https://colab.research.google.com/github/guimasuko/tcc/blob/main/tcc_colab.ipynb\" target=\"_parent\"><img src=\"https://colab.research.google.com/assets/colab-badge.svg\" alt=\"Open In Colab\"/></a>"
      ]
    },
    {
      "cell_type": "markdown",
      "metadata": {
        "id": "YBycP6dIUer5"
      },
      "source": [
        "#### Olá senhores. Sejam bem-vindos ao tcc do aluno Guilherme Masuko.\n",
        "\n",
        "#### Aqui será desenvolvido toda a metodologia dos dados. Divirtam-se!"
      ]
    },
    {
      "cell_type": "code",
      "metadata": {
        "colab": {
          "base_uri": "https://localhost:8080/"
        },
        "id": "7qhdwdAZYZ82",
        "outputId": "9c6f6cc0-1c5f-4b5a-f4f0-4b5edc1887c5"
      },
      "source": [
        "from google.colab import drive\n",
        "\n",
        "drive.mount('/content/drive')"
      ],
      "execution_count": null,
      "outputs": [
        {
          "output_type": "stream",
          "text": [
            "Mounted at /content/drive\n"
          ],
          "name": "stdout"
        }
      ]
    },
    {
      "cell_type": "code",
      "metadata": {
        "id": "cTBcBRGOUesB"
      },
      "source": [
        "import pandas as pd\n",
        "import numpy as np\n",
        "import matplotlib.pyplot as plt\n",
        "import seaborn as sns"
      ],
      "execution_count": null,
      "outputs": []
    },
    {
      "cell_type": "markdown",
      "metadata": {
        "id": "JNx3GlG_UesC"
      },
      "source": [
        "#### Índices:\n",
        "- ibov - Ibovespa\n",
        "- iee - Índice de Energia Elétrica\n",
        "- ifix - Índice de Fundos de Investimentos Imobiliários\n",
        "- ifnc - Índice BM&FBOVESPA Financeiro\n",
        "- imob - Índice Imobiliário\n",
        "- indx - Índice do Setor Industrial"
      ]
    },
    {
      "cell_type": "code",
      "metadata": {
        "id": "ybn5BKhoUesC"
      },
      "source": [
        "# importando e tratando a base de dados. **Procurar automatizar a importação quando possível\n",
        "# IBOV\n",
        "df = pd.read_csv('/content/drive/Shareddrives/monografia/data_and_code/ibov.csv')\n",
        "df = df.rename(columns={'Último': 'ibov'})\n",
        "df = df.drop(columns=['Abertura','Máxima','Mínima','Vol.', 'Var%'])\n",
        "df = df.set_index('Data')\n",
        "df.index = pd.to_datetime(df.index, dayfirst=True)"
      ],
      "execution_count": null,
      "outputs": []
    },
    {
      "cell_type": "code",
      "metadata": {
        "id": "PV-3xexcUesD"
      },
      "source": [
        "# importando e tratando a base de dados. **Procurar automatizar a importação quando possível\n",
        "# IEE\n",
        "df1 = pd.read_csv('/content/drive/Shareddrives/monografia/data_and_code/iee.csv')\n",
        "df1 = df1.rename(columns={'Último': 'iee'})\n",
        "df1 = df1.drop(columns=['Abertura','Máxima','Mínima','Vol.', 'Var%'])\n",
        "df1 = df1.set_index('Data')\n",
        "df1.index = pd.to_datetime(df1.index, dayfirst=True)"
      ],
      "execution_count": null,
      "outputs": []
    },
    {
      "cell_type": "code",
      "metadata": {
        "id": "DPLU77Q6UesE"
      },
      "source": [
        "# importando e tratando a base de dados. **Procurar automatizar a importação quando possível\n",
        "# IFIX\n",
        "df2 = pd.read_csv('/content/drive/Shareddrives/monografia/data_and_code/ifix.csv')\n",
        "df2 = df2.rename(columns={'Último': 'ifix'})\n",
        "df2 = df2.drop(columns=['Abertura','Máxima','Mínima','Vol.', 'Var%'])\n",
        "df2 = df2.set_index('Data')\n",
        "df2.index = pd.to_datetime(df2.index, dayfirst=True)"
      ],
      "execution_count": null,
      "outputs": []
    },
    {
      "cell_type": "code",
      "metadata": {
        "id": "WKXGBUMnUesE"
      },
      "source": [
        "# importando e tratando a base de dados. **Procurar automatizar a importação quando possível\n",
        "# IFNC\n",
        "df3 = pd.read_csv('/content/drive/Shareddrives/monografia/data_and_code/ifnc.csv')\n",
        "df3 = df3.rename(columns={'Último': 'ifnc'})\n",
        "df3 = df3.drop(columns=['Abertura','Máxima','Mínima','Vol.', 'Var%'])\n",
        "df3 = df3.set_index('Data')\n",
        "df3.index = pd.to_datetime(df3.index, dayfirst=True)"
      ],
      "execution_count": null,
      "outputs": []
    },
    {
      "cell_type": "code",
      "metadata": {
        "id": "HgT5yrUCUesF"
      },
      "source": [
        "# importando e tratando a base de dados. **Procurar automatizar a importação quando possível\n",
        "# IMOB\n",
        "df4 = pd.read_csv('/content/drive/Shareddrives/monografia/data_and_code/imob.csv')\n",
        "df4 = df4.rename(columns={'Último': 'imob'})\n",
        "df4 = df4.drop(columns=['Abertura','Máxima','Mínima','Vol.', 'Var%'])\n",
        "df4 = df4.set_index('Data')\n",
        "df4.index = pd.to_datetime(df4.index, dayfirst=True)"
      ],
      "execution_count": null,
      "outputs": []
    },
    {
      "cell_type": "code",
      "metadata": {
        "id": "fB49MYkQUesG"
      },
      "source": [
        "# importando e tratando a base de dados. **Procurar automatizar a importação quando possível\n",
        "# INDX\n",
        "df5 = pd.read_csv('/content/drive/Shareddrives/monografia/data_and_code/indx.csv')\n",
        "df5 = df5.rename(columns={'Último': 'indx'})\n",
        "df5 = df5.drop(columns=['Abertura','Máxima','Mínima','Vol.', 'Var%'])\n",
        "df5 = df5.set_index('Data')\n",
        "df5.index = pd.to_datetime(df5.index, dayfirst=True)"
      ],
      "execution_count": null,
      "outputs": []
    },
    {
      "cell_type": "code",
      "metadata": {
        "id": "qkb1BSe2UesG"
      },
      "source": [
        "# Tratando os dados para transformar str em float\n",
        "df['ibov'] = df['ibov'].str.replace('.','')\n",
        "df['ibov'] = df['ibov'].str.replace(',','.')\n",
        "\n",
        "df1['iee'] = df1['iee'].str.replace('.','')\n",
        "df1['iee'] = df1['iee'].str.replace(',','.')\n",
        "\n",
        "df2['ifix'] = df2['ifix'].str.replace('.','')\n",
        "df2['ifix'] = df2['ifix'].str.replace(',','.')\n",
        "\n",
        "df3['ifnc'] = df3['ifnc'].str.replace('.','')\n",
        "df3['ifnc'] = df3['ifnc'].str.replace(',','.')\n",
        "\n",
        "df4['imob'] = df4['imob'].str.replace('.','')\n",
        "df4['imob'] = df4['imob'].str.replace(',','.')\n",
        "\n",
        "df5['indx'] = df5['indx'].str.replace('.','')\n",
        "df5['indx'] = df5['indx'].str.replace(',','.')"
      ],
      "execution_count": null,
      "outputs": []
    },
    {
      "cell_type": "code",
      "metadata": {
        "scrolled": true,
        "id": "2GLQ9P4CUesL"
      },
      "source": [
        "# Transformando str em float\n",
        "df['ibov'] = df['ibov'].values.astype(np.float)\n",
        "\n",
        "df1['iee'] = df1['iee'].values.astype(np.float)\n",
        "\n",
        "df2['ifix'] = df2['ifix'].values.astype(np.float)\n",
        "\n",
        "df3['ifnc'] = df3['ifnc'].values.astype(np.float)\n",
        "\n",
        "df4['imob'] = df4['imob'].values.astype(np.float)\n",
        "\n",
        "df5['indx'] = df5['indx'].values.astype(np.float)"
      ],
      "execution_count": null,
      "outputs": []
    },
    {
      "cell_type": "code",
      "metadata": {
        "id": "46fKFbgGUesM",
        "colab": {
          "base_uri": "https://localhost:8080/",
          "height": 235
        },
        "outputId": "8980c756-0df5-456a-d3f1-3e0fdce63571"
      },
      "source": [
        "df.head()"
      ],
      "execution_count": null,
      "outputs": [
        {
          "output_type": "execute_result",
          "data": {
            "text/html": [
              "<div>\n",
              "<style scoped>\n",
              "    .dataframe tbody tr th:only-of-type {\n",
              "        vertical-align: middle;\n",
              "    }\n",
              "\n",
              "    .dataframe tbody tr th {\n",
              "        vertical-align: top;\n",
              "    }\n",
              "\n",
              "    .dataframe thead th {\n",
              "        text-align: right;\n",
              "    }\n",
              "</style>\n",
              "<table border=\"1\" class=\"dataframe\">\n",
              "  <thead>\n",
              "    <tr style=\"text-align: right;\">\n",
              "      <th></th>\n",
              "      <th>ibov</th>\n",
              "    </tr>\n",
              "    <tr>\n",
              "      <th>Data</th>\n",
              "      <th></th>\n",
              "    </tr>\n",
              "  </thead>\n",
              "  <tbody>\n",
              "    <tr>\n",
              "      <th>2005-01-03</th>\n",
              "      <td>25722.01</td>\n",
              "    </tr>\n",
              "    <tr>\n",
              "      <th>2005-01-04</th>\n",
              "      <td>24848.04</td>\n",
              "    </tr>\n",
              "    <tr>\n",
              "      <th>2005-01-05</th>\n",
              "      <td>24691.80</td>\n",
              "    </tr>\n",
              "    <tr>\n",
              "      <th>2005-01-06</th>\n",
              "      <td>24366.93</td>\n",
              "    </tr>\n",
              "    <tr>\n",
              "      <th>2005-01-07</th>\n",
              "      <td>24747.22</td>\n",
              "    </tr>\n",
              "  </tbody>\n",
              "</table>\n",
              "</div>"
            ],
            "text/plain": [
              "                ibov\n",
              "Data                \n",
              "2005-01-03  25722.01\n",
              "2005-01-04  24848.04\n",
              "2005-01-05  24691.80\n",
              "2005-01-06  24366.93\n",
              "2005-01-07  24747.22"
            ]
          },
          "metadata": {
            "tags": []
          },
          "execution_count": 11
        }
      ]
    },
    {
      "cell_type": "code",
      "metadata": {
        "id": "VdN_Q9jvUesQ",
        "colab": {
          "base_uri": "https://localhost:8080/",
          "height": 235
        },
        "outputId": "0171d539-b20d-48f8-a8e6-b22901063218"
      },
      "source": [
        "df1.head()"
      ],
      "execution_count": null,
      "outputs": [
        {
          "output_type": "execute_result",
          "data": {
            "text/html": [
              "<div>\n",
              "<style scoped>\n",
              "    .dataframe tbody tr th:only-of-type {\n",
              "        vertical-align: middle;\n",
              "    }\n",
              "\n",
              "    .dataframe tbody tr th {\n",
              "        vertical-align: top;\n",
              "    }\n",
              "\n",
              "    .dataframe thead th {\n",
              "        text-align: right;\n",
              "    }\n",
              "</style>\n",
              "<table border=\"1\" class=\"dataframe\">\n",
              "  <thead>\n",
              "    <tr style=\"text-align: right;\">\n",
              "      <th></th>\n",
              "      <th>iee</th>\n",
              "    </tr>\n",
              "    <tr>\n",
              "      <th>Data</th>\n",
              "      <th></th>\n",
              "    </tr>\n",
              "  </thead>\n",
              "  <tbody>\n",
              "    <tr>\n",
              "      <th>2005-01-03</th>\n",
              "      <td>6848.30</td>\n",
              "    </tr>\n",
              "    <tr>\n",
              "      <th>2005-01-04</th>\n",
              "      <td>6594.56</td>\n",
              "    </tr>\n",
              "    <tr>\n",
              "      <th>2005-01-05</th>\n",
              "      <td>6569.65</td>\n",
              "    </tr>\n",
              "    <tr>\n",
              "      <th>2005-01-06</th>\n",
              "      <td>6511.44</td>\n",
              "    </tr>\n",
              "    <tr>\n",
              "      <th>2005-01-07</th>\n",
              "      <td>6623.89</td>\n",
              "    </tr>\n",
              "  </tbody>\n",
              "</table>\n",
              "</div>"
            ],
            "text/plain": [
              "                iee\n",
              "Data               \n",
              "2005-01-03  6848.30\n",
              "2005-01-04  6594.56\n",
              "2005-01-05  6569.65\n",
              "2005-01-06  6511.44\n",
              "2005-01-07  6623.89"
            ]
          },
          "metadata": {
            "tags": []
          },
          "execution_count": 12
        }
      ]
    },
    {
      "cell_type": "code",
      "metadata": {
        "id": "NTTl2PCxUesQ",
        "colab": {
          "base_uri": "https://localhost:8080/",
          "height": 235
        },
        "outputId": "2c2a6969-4e87-4af6-b889-ac274e5e4a9e"
      },
      "source": [
        "df2.head()"
      ],
      "execution_count": null,
      "outputs": [
        {
          "output_type": "execute_result",
          "data": {
            "text/html": [
              "<div>\n",
              "<style scoped>\n",
              "    .dataframe tbody tr th:only-of-type {\n",
              "        vertical-align: middle;\n",
              "    }\n",
              "\n",
              "    .dataframe tbody tr th {\n",
              "        vertical-align: top;\n",
              "    }\n",
              "\n",
              "    .dataframe thead th {\n",
              "        text-align: right;\n",
              "    }\n",
              "</style>\n",
              "<table border=\"1\" class=\"dataframe\">\n",
              "  <thead>\n",
              "    <tr style=\"text-align: right;\">\n",
              "      <th></th>\n",
              "      <th>ifix</th>\n",
              "    </tr>\n",
              "    <tr>\n",
              "      <th>Data</th>\n",
              "      <th></th>\n",
              "    </tr>\n",
              "  </thead>\n",
              "  <tbody>\n",
              "    <tr>\n",
              "      <th>2013-01-10</th>\n",
              "      <td>1589.87</td>\n",
              "    </tr>\n",
              "    <tr>\n",
              "      <th>2013-01-11</th>\n",
              "      <td>1587.21</td>\n",
              "    </tr>\n",
              "    <tr>\n",
              "      <th>2013-01-14</th>\n",
              "      <td>1584.45</td>\n",
              "    </tr>\n",
              "    <tr>\n",
              "      <th>2013-01-15</th>\n",
              "      <td>1583.76</td>\n",
              "    </tr>\n",
              "    <tr>\n",
              "      <th>2013-01-16</th>\n",
              "      <td>1583.12</td>\n",
              "    </tr>\n",
              "  </tbody>\n",
              "</table>\n",
              "</div>"
            ],
            "text/plain": [
              "               ifix\n",
              "Data               \n",
              "2013-01-10  1589.87\n",
              "2013-01-11  1587.21\n",
              "2013-01-14  1584.45\n",
              "2013-01-15  1583.76\n",
              "2013-01-16  1583.12"
            ]
          },
          "metadata": {
            "tags": []
          },
          "execution_count": 13
        }
      ]
    },
    {
      "cell_type": "code",
      "metadata": {
        "id": "cIQZtR6AUesR",
        "colab": {
          "base_uri": "https://localhost:8080/",
          "height": 235
        },
        "outputId": "ca90a85d-4b60-47c7-ddfa-60a9a9e694bb"
      },
      "source": [
        "df3.head()"
      ],
      "execution_count": null,
      "outputs": [
        {
          "output_type": "execute_result",
          "data": {
            "text/html": [
              "<div>\n",
              "<style scoped>\n",
              "    .dataframe tbody tr th:only-of-type {\n",
              "        vertical-align: middle;\n",
              "    }\n",
              "\n",
              "    .dataframe tbody tr th {\n",
              "        vertical-align: top;\n",
              "    }\n",
              "\n",
              "    .dataframe thead th {\n",
              "        text-align: right;\n",
              "    }\n",
              "</style>\n",
              "<table border=\"1\" class=\"dataframe\">\n",
              "  <thead>\n",
              "    <tr style=\"text-align: right;\">\n",
              "      <th></th>\n",
              "      <th>ifnc</th>\n",
              "    </tr>\n",
              "    <tr>\n",
              "      <th>Data</th>\n",
              "      <th></th>\n",
              "    </tr>\n",
              "  </thead>\n",
              "  <tbody>\n",
              "    <tr>\n",
              "      <th>2005-01-04</th>\n",
              "      <td>996.03</td>\n",
              "    </tr>\n",
              "    <tr>\n",
              "      <th>2005-01-05</th>\n",
              "      <td>978.39</td>\n",
              "    </tr>\n",
              "    <tr>\n",
              "      <th>2005-01-06</th>\n",
              "      <td>962.94</td>\n",
              "    </tr>\n",
              "    <tr>\n",
              "      <th>2005-01-07</th>\n",
              "      <td>962.60</td>\n",
              "    </tr>\n",
              "    <tr>\n",
              "      <th>2005-01-10</th>\n",
              "      <td>954.51</td>\n",
              "    </tr>\n",
              "  </tbody>\n",
              "</table>\n",
              "</div>"
            ],
            "text/plain": [
              "              ifnc\n",
              "Data              \n",
              "2005-01-04  996.03\n",
              "2005-01-05  978.39\n",
              "2005-01-06  962.94\n",
              "2005-01-07  962.60\n",
              "2005-01-10  954.51"
            ]
          },
          "metadata": {
            "tags": []
          },
          "execution_count": 14
        }
      ]
    },
    {
      "cell_type": "code",
      "metadata": {
        "id": "aicJJNP8UesT",
        "colab": {
          "base_uri": "https://localhost:8080/",
          "height": 235
        },
        "outputId": "e964502e-8bb4-4370-c314-7e6184866a3d"
      },
      "source": [
        "df4.head()"
      ],
      "execution_count": null,
      "outputs": [
        {
          "output_type": "execute_result",
          "data": {
            "text/html": [
              "<div>\n",
              "<style scoped>\n",
              "    .dataframe tbody tr th:only-of-type {\n",
              "        vertical-align: middle;\n",
              "    }\n",
              "\n",
              "    .dataframe tbody tr th {\n",
              "        vertical-align: top;\n",
              "    }\n",
              "\n",
              "    .dataframe thead th {\n",
              "        text-align: right;\n",
              "    }\n",
              "</style>\n",
              "<table border=\"1\" class=\"dataframe\">\n",
              "  <thead>\n",
              "    <tr style=\"text-align: right;\">\n",
              "      <th></th>\n",
              "      <th>imob</th>\n",
              "    </tr>\n",
              "    <tr>\n",
              "      <th>Data</th>\n",
              "      <th></th>\n",
              "    </tr>\n",
              "  </thead>\n",
              "  <tbody>\n",
              "    <tr>\n",
              "      <th>2005-01-03</th>\n",
              "      <td>2537.53</td>\n",
              "    </tr>\n",
              "    <tr>\n",
              "      <th>2005-01-04</th>\n",
              "      <td>2478.76</td>\n",
              "    </tr>\n",
              "    <tr>\n",
              "      <th>2005-01-05</th>\n",
              "      <td>2453.00</td>\n",
              "    </tr>\n",
              "    <tr>\n",
              "      <th>2005-01-06</th>\n",
              "      <td>2427.17</td>\n",
              "    </tr>\n",
              "    <tr>\n",
              "      <th>2005-01-07</th>\n",
              "      <td>2458.28</td>\n",
              "    </tr>\n",
              "  </tbody>\n",
              "</table>\n",
              "</div>"
            ],
            "text/plain": [
              "               imob\n",
              "Data               \n",
              "2005-01-03  2537.53\n",
              "2005-01-04  2478.76\n",
              "2005-01-05  2453.00\n",
              "2005-01-06  2427.17\n",
              "2005-01-07  2458.28"
            ]
          },
          "metadata": {
            "tags": []
          },
          "execution_count": 15
        }
      ]
    },
    {
      "cell_type": "code",
      "metadata": {
        "id": "OIFvGffbUesT",
        "colab": {
          "base_uri": "https://localhost:8080/",
          "height": 235
        },
        "outputId": "fb9a0d5c-50c2-466b-8b4e-e70f4f84c00b"
      },
      "source": [
        "df5.head()"
      ],
      "execution_count": null,
      "outputs": [
        {
          "output_type": "execute_result",
          "data": {
            "text/html": [
              "<div>\n",
              "<style scoped>\n",
              "    .dataframe tbody tr th:only-of-type {\n",
              "        vertical-align: middle;\n",
              "    }\n",
              "\n",
              "    .dataframe tbody tr th {\n",
              "        vertical-align: top;\n",
              "    }\n",
              "\n",
              "    .dataframe thead th {\n",
              "        text-align: right;\n",
              "    }\n",
              "</style>\n",
              "<table border=\"1\" class=\"dataframe\">\n",
              "  <thead>\n",
              "    <tr style=\"text-align: right;\">\n",
              "      <th></th>\n",
              "      <th>indx</th>\n",
              "    </tr>\n",
              "    <tr>\n",
              "      <th>Data</th>\n",
              "      <th></th>\n",
              "    </tr>\n",
              "  </thead>\n",
              "  <tbody>\n",
              "    <tr>\n",
              "      <th>2006-07-04</th>\n",
              "      <td>6083.40</td>\n",
              "    </tr>\n",
              "    <tr>\n",
              "      <th>2006-07-05</th>\n",
              "      <td>5954.59</td>\n",
              "    </tr>\n",
              "    <tr>\n",
              "      <th>2006-07-06</th>\n",
              "      <td>5977.69</td>\n",
              "    </tr>\n",
              "    <tr>\n",
              "      <th>2006-07-07</th>\n",
              "      <td>5937.99</td>\n",
              "    </tr>\n",
              "    <tr>\n",
              "      <th>2006-07-10</th>\n",
              "      <td>5938.08</td>\n",
              "    </tr>\n",
              "  </tbody>\n",
              "</table>\n",
              "</div>"
            ],
            "text/plain": [
              "               indx\n",
              "Data               \n",
              "2006-07-04  6083.40\n",
              "2006-07-05  5954.59\n",
              "2006-07-06  5977.69\n",
              "2006-07-07  5937.99\n",
              "2006-07-10  5938.08"
            ]
          },
          "metadata": {
            "tags": []
          },
          "execution_count": 16
        }
      ]
    },
    {
      "cell_type": "markdown",
      "metadata": {
        "id": "bCz-xJpaUesU"
      },
      "source": [
        "#### Gráficos"
      ]
    },
    {
      "cell_type": "code",
      "metadata": {
        "id": "8V3x62McUesV",
        "colab": {
          "base_uri": "https://localhost:8080/",
          "height": 265
        },
        "outputId": "41b22450-eb30-4d44-88fa-e4af5d301e42"
      },
      "source": [
        "# Série do Ibovespa graficamente\n",
        "plt.plot(df.ibov, label = 'Ibovespa')\n",
        "plt.legend()\n",
        "plt.show()"
      ],
      "execution_count": null,
      "outputs": [
        {
          "output_type": "display_data",
          "data": {
            "image/png": "[encoded data removed]",
            "text/plain": [
              "<Figure size 432x288 with 1 Axes>"
            ]
          },
          "metadata": {
            "tags": [],
            "needs_background": "light"
          }
        }
      ]
    },
    {
      "cell_type": "code",
      "metadata": {
        "id": "S6CBidJ_UesW",
        "colab": {
          "base_uri": "https://localhost:8080/",
          "height": 265
        },
        "outputId": "6e39a51e-737e-4ee7-9ef3-91790b8a4db7"
      },
      "source": [
        "plt.plot(df1.iee, label = 'Índice de Energia Elétrica')\n",
        "plt.legend()\n",
        "plt.show()"
      ],
      "execution_count": null,
      "outputs": [
        {
          "output_type": "display_data",
          "data": {
            "image/png": "[encoded data removed]",
            "text/plain": [
              "<Figure size 432x288 with 1 Axes>"
            ]
          },
          "metadata": {
            "tags": [],
            "needs_background": "light"
          }
        }
      ]
    },
    {
      "cell_type": "code",
      "metadata": {
        "id": "PYsio5_ZUesW",
        "colab": {
          "base_uri": "https://localhost:8080/",
          "height": 265
        },
        "outputId": "f4a6d5f2-026f-41d2-86e2-074bfee71e85"
      },
      "source": [
        "plt.plot(df2.ifix, label = 'Índice de Fundos de Investimentos Imobiliários')\n",
        "plt.legend()\n",
        "plt.show()"
      ],
      "execution_count": null,
      "outputs": [
        {
          "output_type": "display_data",
          "data": {
            "image/png": "[encoded data removed]",
            "text/plain": [
              "<Figure size 432x288 with 1 Axes>"
            ]
          },
          "metadata": {
            "tags": [],
            "needs_background": "light"
          }
        }
      ]
    },
    {
      "cell_type": "code",
      "metadata": {
        "id": "8W72YumpUesX",
        "colab": {
          "base_uri": "https://localhost:8080/",
          "height": 266
        },
        "outputId": "85a408d3-575a-4d9a-89ba-4318c47d2249"
      },
      "source": [
        "plt.plot(df3.ifnc, label = 'Índice BM&FBOVESPA Financeiro')\n",
        "plt.legend()\n",
        "plt.show()"
      ],
      "execution_count": null,
      "outputs": [
        {
          "output_type": "display_data",
          "data": {
            "image/png": "[encoded data removed]",
            "text/plain": [
              "<Figure size 432x288 with 1 Axes>"
            ]
          },
          "metadata": {
            "tags": [],
            "needs_background": "light"
          }
        }
      ]
    },
    {
      "cell_type": "code",
      "metadata": {
        "id": "RPJHlNsCUesZ",
        "colab": {
          "base_uri": "https://localhost:8080/",
          "height": 265
        },
        "outputId": "e1385712-f757-4212-be1b-cba0abc19a4d"
      },
      "source": [
        "plt.plot(df4.imob, label = 'Índice Imobiliário')\n",
        "plt.legend()\n",
        "plt.show()"
      ],
      "execution_count": null,
      "outputs": [
        {
          "output_type": "display_data",
          "data": {
            "image/png": "[encoded data removed]",
            "text/plain": [
              "<Figure size 432x288 with 1 Axes>"
            ]
          },
          "metadata": {
            "tags": [],
            "needs_background": "light"
          }
        }
      ]
    },
    {
      "cell_type": "code",
      "metadata": {
        "id": "E4k9MKB2Uesa",
        "colab": {
          "base_uri": "https://localhost:8080/",
          "height": 265
        },
        "outputId": "bc52def8-e727-427f-8f44-f6a98101c769"
      },
      "source": [
        "plt.plot(df5.indx, label = 'Índice do Setor Industrial')\n",
        "plt.legend()\n",
        "plt.show()"
      ],
      "execution_count": null,
      "outputs": [
        {
          "output_type": "display_data",
          "data": {
            "image/png": "[encoded data removed]",
            "text/plain": [
              "<Figure size 432x288 with 1 Axes>"
            ]
          },
          "metadata": {
            "tags": [],
            "needs_background": "light"
          }
        }
      ]
    },
    {
      "cell_type": "code",
      "metadata": {
        "id": "kXXXnVe1Uesb",
        "colab": {
          "base_uri": "https://localhost:8080/",
          "height": 555
        },
        "outputId": "2ecd7fb3-4505-4f29-b2b9-3c88a392b1a8"
      },
      "source": [
        "fig, axes = plt.subplots(2, 2, figsize = (14, 9))\n",
        "\n",
        "#axes[0,1].plot(df.ibov, color = 'blue')\n",
        "#axes[0,1].set_title(\"Ibovespa\")\n",
        "\n",
        "axes[0,0].plot(df1.iee, color = 'red')\n",
        "axes[0,0].set_title(\"Índice de Energia Elétrica\")\n",
        "\n",
        "# axes[0,2].plot(df2.ifix, color = 'orange')\n",
        "# axes[0,2].set_title(\"Índice de Fundos de Investimentos Imobiliários\")\n",
        "\n",
        "axes[0,1].plot(df3.ifnc, color = 'black')\n",
        "axes[0,1].set_title(\"Índice BM&FBOVESPA Financeiro\")\n",
        "\n",
        "axes[1,0].plot(df4.imob, color = 'green')\n",
        "axes[1,0].set_title(\"Índice Imobiliário\")\n",
        "\n",
        "axes[1,1].plot(df5.indx, color = 'blue')\n",
        "axes[1,1].set_title(\"Índice do Setor Industrial\");"
      ],
      "execution_count": null,
      "outputs": [
        {
          "output_type": "display_data",
          "data": {
            "image/png": "[encoded data removed]",
            "text/plain": [
              "<Figure size 1008x648 with 4 Axes>"
            ]
          },
          "metadata": {
            "tags": [],
            "needs_background": "light"
          }
        }
      ]
    },
    {
      "cell_type": "code",
      "metadata": {
        "id": "8UzoPoOsUesb",
        "colab": {
          "base_uri": "https://localhost:8080/",
          "height": 265
        },
        "outputId": "45c4613d-68c9-454f-a018-0a99ebf25877"
      },
      "source": [
        "plt.plot(df.ibov)\n",
        "plt.plot(df1.iee)\n",
        "plt.plot(df2.ifix)\n",
        "plt.plot(df3.ifnc)\n",
        "plt.plot(df4.imob)\n",
        "plt.plot(df5.indx);\n",
        "\n",
        "#plt.legend([\"Ibovespa\", \"Índice de Energia Elétrica\", \"Índice de Fundos de Investimentos Imobiliários\",\n",
        "#           \"Índice BM&FBOVESPA Financeiro\", \"Índice Imobiliário\", \"Índice do Setor Industrial\"])\n"
      ],
      "execution_count": null,
      "outputs": [
        {
          "output_type": "display_data",
          "data": {
            "image/png": "[encoded data removed]",
            "text/plain": [
              "<Figure size 432x288 with 1 Axes>"
            ]
          },
          "metadata": {
            "tags": [],
            "needs_background": "light"
          }
        }
      ]
    },
    {
      "cell_type": "code",
      "metadata": {
        "id": "Aaiu-XfMUesc"
      },
      "source": [
        "# Adicionando as colunas ibov(t) e ibot(t-1)\n",
        "df['ibov_t'] = df.ibov\n",
        "df['ibov_t_1'] = df.ibov_t.shift(1)"
      ],
      "execution_count": null,
      "outputs": []
    },
    {
      "cell_type": "code",
      "metadata": {
        "id": "PMZkJcH3Uesc",
        "colab": {
          "base_uri": "https://localhost:8080/",
          "height": 235
        },
        "outputId": "867afb0a-91cb-4d8a-9298-a0db11029190"
      },
      "source": [
        "df.head()"
      ],
      "execution_count": null,
      "outputs": [
        {
          "output_type": "execute_result",
          "data": {
            "text/html": [
              "<div>\n",
              "<style scoped>\n",
              "    .dataframe tbody tr th:only-of-type {\n",
              "        vertical-align: middle;\n",
              "    }\n",
              "\n",
              "    .dataframe tbody tr th {\n",
              "        vertical-align: top;\n",
              "    }\n",
              "\n",
              "    .dataframe thead th {\n",
              "        text-align: right;\n",
              "    }\n",
              "</style>\n",
              "<table border=\"1\" class=\"dataframe\">\n",
              "  <thead>\n",
              "    <tr style=\"text-align: right;\">\n",
              "      <th></th>\n",
              "      <th>ibov</th>\n",
              "      <th>ibov_t</th>\n",
              "      <th>ibov_t_1</th>\n",
              "    </tr>\n",
              "    <tr>\n",
              "      <th>Data</th>\n",
              "      <th></th>\n",
              "      <th></th>\n",
              "      <th></th>\n",
              "    </tr>\n",
              "  </thead>\n",
              "  <tbody>\n",
              "    <tr>\n",
              "      <th>2005-01-03</th>\n",
              "      <td>25722.01</td>\n",
              "      <td>25722.01</td>\n",
              "      <td>NaN</td>\n",
              "    </tr>\n",
              "    <tr>\n",
              "      <th>2005-01-04</th>\n",
              "      <td>24848.04</td>\n",
              "      <td>24848.04</td>\n",
              "      <td>25722.01</td>\n",
              "    </tr>\n",
              "    <tr>\n",
              "      <th>2005-01-05</th>\n",
              "      <td>24691.80</td>\n",
              "      <td>24691.80</td>\n",
              "      <td>24848.04</td>\n",
              "    </tr>\n",
              "    <tr>\n",
              "      <th>2005-01-06</th>\n",
              "      <td>24366.93</td>\n",
              "      <td>24366.93</td>\n",
              "      <td>24691.80</td>\n",
              "    </tr>\n",
              "    <tr>\n",
              "      <th>2005-01-07</th>\n",
              "      <td>24747.22</td>\n",
              "      <td>24747.22</td>\n",
              "      <td>24366.93</td>\n",
              "    </tr>\n",
              "  </tbody>\n",
              "</table>\n",
              "</div>"
            ],
            "text/plain": [
              "                ibov    ibov_t  ibov_t_1\n",
              "Data                                    \n",
              "2005-01-03  25722.01  25722.01       NaN\n",
              "2005-01-04  24848.04  24848.04  25722.01\n",
              "2005-01-05  24691.80  24691.80  24848.04\n",
              "2005-01-06  24366.93  24366.93  24691.80\n",
              "2005-01-07  24747.22  24747.22  24366.93"
            ]
          },
          "metadata": {
            "tags": []
          },
          "execution_count": 26
        }
      ]
    },
    {
      "cell_type": "code",
      "metadata": {
        "id": "wiBZ5JPKUesd",
        "colab": {
          "base_uri": "https://localhost:8080/",
          "height": 235
        },
        "outputId": "de448288-fd0e-441f-bd6e-987716ecd5bd"
      },
      "source": [
        "# Retornos do ibovespa\n",
        "df['r_ibov'] = (df.ibov_t - df.ibov_t_1)/df.ibov_t_1\n",
        "df.head()"
      ],
      "execution_count": null,
      "outputs": [
        {
          "output_type": "execute_result",
          "data": {
            "text/html": [
              "<div>\n",
              "<style scoped>\n",
              "    .dataframe tbody tr th:only-of-type {\n",
              "        vertical-align: middle;\n",
              "    }\n",
              "\n",
              "    .dataframe tbody tr th {\n",
              "        vertical-align: top;\n",
              "    }\n",
              "\n",
              "    .dataframe thead th {\n",
              "        text-align: right;\n",
              "    }\n",
              "</style>\n",
              "<table border=\"1\" class=\"dataframe\">\n",
              "  <thead>\n",
              "    <tr style=\"text-align: right;\">\n",
              "      <th></th>\n",
              "      <th>ibov</th>\n",
              "      <th>ibov_t</th>\n",
              "      <th>ibov_t_1</th>\n",
              "      <th>r_ibov</th>\n",
              "    </tr>\n",
              "    <tr>\n",
              "      <th>Data</th>\n",
              "      <th></th>\n",
              "      <th></th>\n",
              "      <th></th>\n",
              "      <th></th>\n",
              "    </tr>\n",
              "  </thead>\n",
              "  <tbody>\n",
              "    <tr>\n",
              "      <th>2005-01-03</th>\n",
              "      <td>25722.01</td>\n",
              "      <td>25722.01</td>\n",
              "      <td>NaN</td>\n",
              "      <td>NaN</td>\n",
              "    </tr>\n",
              "    <tr>\n",
              "      <th>2005-01-04</th>\n",
              "      <td>24848.04</td>\n",
              "      <td>24848.04</td>\n",
              "      <td>25722.01</td>\n",
              "      <td>-0.033978</td>\n",
              "    </tr>\n",
              "    <tr>\n",
              "      <th>2005-01-05</th>\n",
              "      <td>24691.80</td>\n",
              "      <td>24691.80</td>\n",
              "      <td>24848.04</td>\n",
              "      <td>-0.006288</td>\n",
              "    </tr>\n",
              "    <tr>\n",
              "      <th>2005-01-06</th>\n",
              "      <td>24366.93</td>\n",
              "      <td>24366.93</td>\n",
              "      <td>24691.80</td>\n",
              "      <td>-0.013157</td>\n",
              "    </tr>\n",
              "    <tr>\n",
              "      <th>2005-01-07</th>\n",
              "      <td>24747.22</td>\n",
              "      <td>24747.22</td>\n",
              "      <td>24366.93</td>\n",
              "      <td>0.015607</td>\n",
              "    </tr>\n",
              "  </tbody>\n",
              "</table>\n",
              "</div>"
            ],
            "text/plain": [
              "                ibov    ibov_t  ibov_t_1    r_ibov\n",
              "Data                                              \n",
              "2005-01-03  25722.01  25722.01       NaN       NaN\n",
              "2005-01-04  24848.04  24848.04  25722.01 -0.033978\n",
              "2005-01-05  24691.80  24691.80  24848.04 -0.006288\n",
              "2005-01-06  24366.93  24366.93  24691.80 -0.013157\n",
              "2005-01-07  24747.22  24747.22  24366.93  0.015607"
            ]
          },
          "metadata": {
            "tags": []
          },
          "execution_count": 27
        }
      ]
    },
    {
      "cell_type": "code",
      "metadata": {
        "id": "rghVMQveUese",
        "colab": {
          "base_uri": "https://localhost:8080/",
          "height": 235
        },
        "outputId": "0c075e5e-3a86-43c1-e220-501ace6a0f5d"
      },
      "source": [
        "# Retornos em log\n",
        "df['rlog_ibov'] = np.log(df['ibov_t']).diff()\n",
        "df.head()"
      ],
      "execution_count": null,
      "outputs": [
        {
          "output_type": "execute_result",
          "data": {
            "text/html": [
              "<div>\n",
              "<style scoped>\n",
              "    .dataframe tbody tr th:only-of-type {\n",
              "        vertical-align: middle;\n",
              "    }\n",
              "\n",
              "    .dataframe tbody tr th {\n",
              "        vertical-align: top;\n",
              "    }\n",
              "\n",
              "    .dataframe thead th {\n",
              "        text-align: right;\n",
              "    }\n",
              "</style>\n",
              "<table border=\"1\" class=\"dataframe\">\n",
              "  <thead>\n",
              "    <tr style=\"text-align: right;\">\n",
              "      <th></th>\n",
              "      <th>ibov</th>\n",
              "      <th>ibov_t</th>\n",
              "      <th>ibov_t_1</th>\n",
              "      <th>r_ibov</th>\n",
              "      <th>rlog_ibov</th>\n",
              "    </tr>\n",
              "    <tr>\n",
              "      <th>Data</th>\n",
              "      <th></th>\n",
              "      <th></th>\n",
              "      <th></th>\n",
              "      <th></th>\n",
              "      <th></th>\n",
              "    </tr>\n",
              "  </thead>\n",
              "  <tbody>\n",
              "    <tr>\n",
              "      <th>2005-01-03</th>\n",
              "      <td>25722.01</td>\n",
              "      <td>25722.01</td>\n",
              "      <td>NaN</td>\n",
              "      <td>NaN</td>\n",
              "      <td>NaN</td>\n",
              "    </tr>\n",
              "    <tr>\n",
              "      <th>2005-01-04</th>\n",
              "      <td>24848.04</td>\n",
              "      <td>24848.04</td>\n",
              "      <td>25722.01</td>\n",
              "      <td>-0.033978</td>\n",
              "      <td>-0.034568</td>\n",
              "    </tr>\n",
              "    <tr>\n",
              "      <th>2005-01-05</th>\n",
              "      <td>24691.80</td>\n",
              "      <td>24691.80</td>\n",
              "      <td>24848.04</td>\n",
              "      <td>-0.006288</td>\n",
              "      <td>-0.006308</td>\n",
              "    </tr>\n",
              "    <tr>\n",
              "      <th>2005-01-06</th>\n",
              "      <td>24366.93</td>\n",
              "      <td>24366.93</td>\n",
              "      <td>24691.80</td>\n",
              "      <td>-0.013157</td>\n",
              "      <td>-0.013244</td>\n",
              "    </tr>\n",
              "    <tr>\n",
              "      <th>2005-01-07</th>\n",
              "      <td>24747.22</td>\n",
              "      <td>24747.22</td>\n",
              "      <td>24366.93</td>\n",
              "      <td>0.015607</td>\n",
              "      <td>0.015486</td>\n",
              "    </tr>\n",
              "  </tbody>\n",
              "</table>\n",
              "</div>"
            ],
            "text/plain": [
              "                ibov    ibov_t  ibov_t_1    r_ibov  rlog_ibov\n",
              "Data                                                         \n",
              "2005-01-03  25722.01  25722.01       NaN       NaN        NaN\n",
              "2005-01-04  24848.04  24848.04  25722.01 -0.033978  -0.034568\n",
              "2005-01-05  24691.80  24691.80  24848.04 -0.006288  -0.006308\n",
              "2005-01-06  24366.93  24366.93  24691.80 -0.013157  -0.013244\n",
              "2005-01-07  24747.22  24747.22  24366.93  0.015607   0.015486"
            ]
          },
          "metadata": {
            "tags": []
          },
          "execution_count": 28
        }
      ]
    },
    {
      "cell_type": "code",
      "metadata": {
        "id": "PeuvjSXTUesf",
        "colab": {
          "base_uri": "https://localhost:8080/",
          "height": 268
        },
        "outputId": "6e397bfa-c7c9-456e-eca0-c87d128c4ac9"
      },
      "source": [
        "# Série dos retornos (log) do Ibovespa\n",
        "plt.plot( df.rlog_ibov, label = 'Retorno Ibovespa (Log)')\n",
        "plt.legend()\n",
        "plt.show()"
      ],
      "execution_count": null,
      "outputs": [
        {
          "output_type": "display_data",
          "data": {
            "image/png": "[encoded data removed]",
            "text/plain": [
              "<Figure size 432x288 with 1 Axes>"
            ]
          },
          "metadata": {
            "tags": [],
            "needs_background": "light"
          }
        }
      ]
    },
    {
      "cell_type": "code",
      "metadata": {
        "id": "3sSFT-Un533F"
      },
      "source": [
        "# média e variância\n",
        "avg = np.average(df.rlog_ibov.dropna())\n",
        "var = np.var(df.rlog_ibov.dropna())"
      ],
      "execution_count": null,
      "outputs": []
    },
    {
      "cell_type": "code",
      "metadata": {
        "id": "yXhtVt-3Uesf",
        "colab": {
          "base_uri": "https://localhost:8080/",
          "height": 333
        },
        "outputId": "c5ea9a84-6e8b-4a65-f18c-99a43269cb4c"
      },
      "source": [
        "# Distribuição dos retornos\n",
        "ax = sns.distplot(df.rlog_ibov,\n",
        "                  bins=100,\n",
        "                  kde=True,\n",
        "                  color='blue',\n",
        "                  hist_kws={\"linewidth\": 15,'alpha':1})\n",
        "ax.set(xlabel='Distribuição dos retornos', ylabel='Frequência');"
      ],
      "execution_count": null,
      "outputs": [
        {
          "output_type": "stream",
          "text": [
            "/usr/local/lib/python3.7/dist-packages/seaborn/distributions.py:2557: FutureWarning: `distplot` is a deprecated function and will be removed in a future version. Please adapt your code to use either `displot` (a figure-level function with similar flexibility) or `histplot` (an axes-level function for histograms).\n",
            "  warnings.warn(msg, FutureWarning)\n"
          ],
          "name": "stderr"
        },
        {
          "output_type": "display_data",
          "data": {
            "image/png": "[encoded data removed]",
            "text/plain": [
              "<Figure size 432x288 with 1 Axes>"
            ]
          },
          "metadata": {
            "tags": [],
            "needs_background": "light"
          }
        }
      ]
    },
    {
      "cell_type": "code",
      "metadata": {
        "id": "DJFB54gCUesf",
        "colab": {
          "base_uri": "https://localhost:8080/",
          "height": 279
        },
        "outputId": "2e8dd10a-2c29-4550-e786-2b8e03d521cd"
      },
      "source": [
        "# Distribuição dos retornos\n",
        "ax = sns.kdeplot(df.rlog_ibov,\n",
        "                  color='blue')\n",
        "ax.set(xlabel='Distribuição dos retornos', ylabel='Frequência');"
      ],
      "execution_count": null,
      "outputs": [
        {
          "output_type": "display_data",
          "data": {
            "image/png": "[encoded data removed]",
            "text/plain": [
              "<Figure size 432x288 with 1 Axes>"
            ]
          },
          "metadata": {
            "tags": [],
            "needs_background": "light"
          }
        }
      ]
    },
    {
      "cell_type": "code",
      "metadata": {
        "colab": {
          "base_uri": "https://localhost:8080/",
          "height": 518
        },
        "id": "u4e09ms15tEE",
        "outputId": "bb902cce-bf40-4628-cbd8-05bef5c67f91"
      },
      "source": [
        "# Distribuição dos retornos\n",
        "sns.set(rc={'figure.figsize':(12,8)});\n",
        "ax = sns.histplot(df.rlog_ibov,\n",
        "                  bins=100,\n",
        "                  kde=True,\n",
        "                  color='blue',\n",
        "                  stat = \"density\");\n",
        "ax.set(xlabel='Distribuição dos retornos', ylabel='Frequência');\n",
        "ax.set_title('média = %.5f,  variância = %.5f' % (avg, var));"
      ],
      "execution_count": null,
      "outputs": [
        {
          "output_type": "display_data",
          "data": {
            "image/png": "[encoded data removed]",
            "text/plain": [
              "<Figure size 864x576 with 1 Axes>"
            ]
          },
          "metadata": {
            "tags": []
          }
        }
      ]
    },
    {
      "cell_type": "code",
      "metadata": {
        "id": "TQOvsRocUesg"
      },
      "source": [
        "df = df.drop(columns=['ibov_t','ibov_t_1','r_ibov'])"
      ],
      "execution_count": null,
      "outputs": []
    },
    {
      "cell_type": "code",
      "metadata": {
        "id": "k40aDVlqUesh"
      },
      "source": [
        "# Juntar todos dataframes\n",
        "# df2 (ifix) começa em 2013 (não pega sub-prime)\n",
        "# df5 (indx) começa em 04/07/2006 (a partir dessa data, teremos nosso dataframe com todos índices, exceto o ifix)\n",
        "df = pd.concat([df, df1, df3, df4, df5], axis=1)"
      ],
      "execution_count": null,
      "outputs": []
    },
    {
      "cell_type": "code",
      "metadata": {
        "id": "VBuvAoXXUesh"
      },
      "source": [
        "# soltando os NaN's\n",
        "df = df.dropna()"
      ],
      "execution_count": null,
      "outputs": []
    },
    {
      "cell_type": "code",
      "metadata": {
        "id": "3CJCx-EkUesh",
        "colab": {
          "base_uri": "https://localhost:8080/",
          "height": 677
        },
        "outputId": "5c396eb8-75b4-4120-a49c-be93f9ac8a90"
      },
      "source": [
        "# DataFrame pronto!\n",
        "df.head(20)"
      ],
      "execution_count": null,
      "outputs": [
        {
          "output_type": "execute_result",
          "data": {
            "text/html": [
              "<div>\n",
              "<style scoped>\n",
              "    .dataframe tbody tr th:only-of-type {\n",
              "        vertical-align: middle;\n",
              "    }\n",
              "\n",
              "    .dataframe tbody tr th {\n",
              "        vertical-align: top;\n",
              "    }\n",
              "\n",
              "    .dataframe thead th {\n",
              "        text-align: right;\n",
              "    }\n",
              "</style>\n",
              "<table border=\"1\" class=\"dataframe\">\n",
              "  <thead>\n",
              "    <tr style=\"text-align: right;\">\n",
              "      <th></th>\n",
              "      <th>ibov</th>\n",
              "      <th>rlog_ibov</th>\n",
              "      <th>iee</th>\n",
              "      <th>ifnc</th>\n",
              "      <th>imob</th>\n",
              "      <th>indx</th>\n",
              "    </tr>\n",
              "    <tr>\n",
              "      <th>Data</th>\n",
              "      <th></th>\n",
              "      <th></th>\n",
              "      <th></th>\n",
              "      <th></th>\n",
              "      <th></th>\n",
              "      <th></th>\n",
              "    </tr>\n",
              "  </thead>\n",
              "  <tbody>\n",
              "    <tr>\n",
              "      <th>2006-07-04</th>\n",
              "      <td>37367.34</td>\n",
              "      <td>0.000271</td>\n",
              "      <td>11560.73</td>\n",
              "      <td>2355.45</td>\n",
              "      <td>4201.63</td>\n",
              "      <td>6083.40</td>\n",
              "    </tr>\n",
              "    <tr>\n",
              "      <th>2006-07-05</th>\n",
              "      <td>36378.03</td>\n",
              "      <td>-0.026832</td>\n",
              "      <td>11291.64</td>\n",
              "      <td>2276.81</td>\n",
              "      <td>4094.04</td>\n",
              "      <td>5954.59</td>\n",
              "    </tr>\n",
              "    <tr>\n",
              "      <th>2006-07-06</th>\n",
              "      <td>36533.13</td>\n",
              "      <td>0.004254</td>\n",
              "      <td>11380.44</td>\n",
              "      <td>2293.96</td>\n",
              "      <td>4111.49</td>\n",
              "      <td>5977.69</td>\n",
              "    </tr>\n",
              "    <tr>\n",
              "      <th>2006-07-07</th>\n",
              "      <td>36101.98</td>\n",
              "      <td>-0.011872</td>\n",
              "      <td>11254.17</td>\n",
              "      <td>2260.48</td>\n",
              "      <td>4072.16</td>\n",
              "      <td>5937.99</td>\n",
              "    </tr>\n",
              "    <tr>\n",
              "      <th>2006-07-10</th>\n",
              "      <td>36140.64</td>\n",
              "      <td>0.001070</td>\n",
              "      <td>11326.05</td>\n",
              "      <td>2244.01</td>\n",
              "      <td>4062.54</td>\n",
              "      <td>5938.08</td>\n",
              "    </tr>\n",
              "    <tr>\n",
              "      <th>2006-07-11</th>\n",
              "      <td>36553.56</td>\n",
              "      <td>0.011361</td>\n",
              "      <td>11384.82</td>\n",
              "      <td>2265.02</td>\n",
              "      <td>4083.62</td>\n",
              "      <td>6008.85</td>\n",
              "    </tr>\n",
              "    <tr>\n",
              "      <th>2006-07-12</th>\n",
              "      <td>36229.71</td>\n",
              "      <td>-0.008899</td>\n",
              "      <td>11276.11</td>\n",
              "      <td>2232.36</td>\n",
              "      <td>4032.97</td>\n",
              "      <td>5939.00</td>\n",
              "    </tr>\n",
              "    <tr>\n",
              "      <th>2006-07-13</th>\n",
              "      <td>35354.28</td>\n",
              "      <td>-0.024460</td>\n",
              "      <td>10993.54</td>\n",
              "      <td>2180.37</td>\n",
              "      <td>3922.94</td>\n",
              "      <td>5784.00</td>\n",
              "    </tr>\n",
              "    <tr>\n",
              "      <th>2006-07-14</th>\n",
              "      <td>35349.68</td>\n",
              "      <td>-0.000130</td>\n",
              "      <td>10943.13</td>\n",
              "      <td>2163.19</td>\n",
              "      <td>3897.91</td>\n",
              "      <td>5756.32</td>\n",
              "    </tr>\n",
              "    <tr>\n",
              "      <th>2006-07-17</th>\n",
              "      <td>34866.31</td>\n",
              "      <td>-0.013768</td>\n",
              "      <td>10818.56</td>\n",
              "      <td>2124.88</td>\n",
              "      <td>3838.11</td>\n",
              "      <td>5719.06</td>\n",
              "    </tr>\n",
              "    <tr>\n",
              "      <th>2006-07-18</th>\n",
              "      <td>35130.42</td>\n",
              "      <td>0.007546</td>\n",
              "      <td>11065.02</td>\n",
              "      <td>2121.43</td>\n",
              "      <td>3852.24</td>\n",
              "      <td>5765.04</td>\n",
              "    </tr>\n",
              "    <tr>\n",
              "      <th>2006-07-19</th>\n",
              "      <td>36785.45</td>\n",
              "      <td>0.046035</td>\n",
              "      <td>11567.81</td>\n",
              "      <td>2269.54</td>\n",
              "      <td>4052.88</td>\n",
              "      <td>5946.39</td>\n",
              "    </tr>\n",
              "    <tr>\n",
              "      <th>2006-07-20</th>\n",
              "      <td>35846.84</td>\n",
              "      <td>-0.025847</td>\n",
              "      <td>11473.63</td>\n",
              "      <td>2238.05</td>\n",
              "      <td>3978.24</td>\n",
              "      <td>5831.40</td>\n",
              "    </tr>\n",
              "    <tr>\n",
              "      <th>2006-07-21</th>\n",
              "      <td>35510.40</td>\n",
              "      <td>-0.009430</td>\n",
              "      <td>11327.64</td>\n",
              "      <td>2245.86</td>\n",
              "      <td>3948.15</td>\n",
              "      <td>5758.90</td>\n",
              "    </tr>\n",
              "    <tr>\n",
              "      <th>2006-07-24</th>\n",
              "      <td>36224.39</td>\n",
              "      <td>0.019907</td>\n",
              "      <td>11462.70</td>\n",
              "      <td>2319.23</td>\n",
              "      <td>4041.53</td>\n",
              "      <td>5841.75</td>\n",
              "    </tr>\n",
              "    <tr>\n",
              "      <th>2006-07-25</th>\n",
              "      <td>36680.83</td>\n",
              "      <td>0.012522</td>\n",
              "      <td>11448.14</td>\n",
              "      <td>2351.18</td>\n",
              "      <td>4100.48</td>\n",
              "      <td>5904.44</td>\n",
              "    </tr>\n",
              "    <tr>\n",
              "      <th>2006-07-26</th>\n",
              "      <td>36594.30</td>\n",
              "      <td>-0.002362</td>\n",
              "      <td>11275.69</td>\n",
              "      <td>2347.03</td>\n",
              "      <td>4082.85</td>\n",
              "      <td>5854.72</td>\n",
              "    </tr>\n",
              "    <tr>\n",
              "      <th>2006-07-27</th>\n",
              "      <td>36887.72</td>\n",
              "      <td>0.007986</td>\n",
              "      <td>11238.96</td>\n",
              "      <td>2345.81</td>\n",
              "      <td>4101.89</td>\n",
              "      <td>5901.61</td>\n",
              "    </tr>\n",
              "    <tr>\n",
              "      <th>2006-07-28</th>\n",
              "      <td>37381.06</td>\n",
              "      <td>0.013285</td>\n",
              "      <td>11373.60</td>\n",
              "      <td>2378.58</td>\n",
              "      <td>4151.11</td>\n",
              "      <td>5938.17</td>\n",
              "    </tr>\n",
              "    <tr>\n",
              "      <th>2006-07-31</th>\n",
              "      <td>37077.12</td>\n",
              "      <td>-0.008164</td>\n",
              "      <td>11240.48</td>\n",
              "      <td>2378.39</td>\n",
              "      <td>4128.38</td>\n",
              "      <td>5894.74</td>\n",
              "    </tr>\n",
              "  </tbody>\n",
              "</table>\n",
              "</div>"
            ],
            "text/plain": [
              "                ibov  rlog_ibov       iee     ifnc     imob     indx\n",
              "Data                                                                \n",
              "2006-07-04  37367.34   0.000271  11560.73  2355.45  4201.63  6083.40\n",
              "2006-07-05  36378.03  -0.026832  11291.64  2276.81  4094.04  5954.59\n",
              "2006-07-06  36533.13   0.004254  11380.44  2293.96  4111.49  5977.69\n",
              "2006-07-07  36101.98  -0.011872  11254.17  2260.48  4072.16  5937.99\n",
              "2006-07-10  36140.64   0.001070  11326.05  2244.01  4062.54  5938.08\n",
              "2006-07-11  36553.56   0.011361  11384.82  2265.02  4083.62  6008.85\n",
              "2006-07-12  36229.71  -0.008899  11276.11  2232.36  4032.97  5939.00\n",
              "2006-07-13  35354.28  -0.024460  10993.54  2180.37  3922.94  5784.00\n",
              "2006-07-14  35349.68  -0.000130  10943.13  2163.19  3897.91  5756.32\n",
              "2006-07-17  34866.31  -0.013768  10818.56  2124.88  3838.11  5719.06\n",
              "2006-07-18  35130.42   0.007546  11065.02  2121.43  3852.24  5765.04\n",
              "2006-07-19  36785.45   0.046035  11567.81  2269.54  4052.88  5946.39\n",
              "2006-07-20  35846.84  -0.025847  11473.63  2238.05  3978.24  5831.40\n",
              "2006-07-21  35510.40  -0.009430  11327.64  2245.86  3948.15  5758.90\n",
              "2006-07-24  36224.39   0.019907  11462.70  2319.23  4041.53  5841.75\n",
              "2006-07-25  36680.83   0.012522  11448.14  2351.18  4100.48  5904.44\n",
              "2006-07-26  36594.30  -0.002362  11275.69  2347.03  4082.85  5854.72\n",
              "2006-07-27  36887.72   0.007986  11238.96  2345.81  4101.89  5901.61\n",
              "2006-07-28  37381.06   0.013285  11373.60  2378.58  4151.11  5938.17\n",
              "2006-07-31  37077.12  -0.008164  11240.48  2378.39  4128.38  5894.74"
            ]
          },
          "metadata": {
            "tags": []
          },
          "execution_count": 36
        }
      ]
    },
    {
      "cell_type": "code",
      "metadata": {
        "id": "p-8FdeMjUesj",
        "colab": {
          "base_uri": "https://localhost:8080/"
        },
        "outputId": "7c812b7a-31a0-4b7f-c30c-f4ac3d51761b"
      },
      "source": [
        "# Encontrando os quartis da distribuição\n",
        "df.rlog_ibov.describe()"
      ],
      "execution_count": null,
      "outputs": [
        {
          "output_type": "execute_result",
          "data": {
            "text/plain": [
              "count    3593.000000\n",
              "mean        0.000294\n",
              "std         0.017854\n",
              "min        -0.159938\n",
              "25%        -0.008384\n",
              "50%         0.000524\n",
              "75%         0.009612\n",
              "max         0.136782\n",
              "Name: rlog_ibov, dtype: float64"
            ]
          },
          "metadata": {
            "tags": []
          },
          "execution_count": 37
        }
      ]
    },
    {
      "cell_type": "code",
      "metadata": {
        "id": "3H57n9uSUesj"
      },
      "source": [
        "# Deixando apenas as colunas Data (index) e rlog_ibov\n",
        "q_var = df.drop(columns = ['ibov', 'iee', 'ifnc', 'imob', 'indx'])"
      ],
      "execution_count": null,
      "outputs": []
    },
    {
      "cell_type": "code",
      "metadata": {
        "id": "rtgudVTkUesk"
      },
      "source": [
        "# Retirando o único NaN\n",
        "q_var = q_var.dropna()"
      ],
      "execution_count": null,
      "outputs": []
    },
    {
      "cell_type": "code",
      "metadata": {
        "id": "HcsXqI3CUesk"
      },
      "source": [
        "# Ordenando, de maneira crescente, a coluna rlog_ibov \n",
        "q_var = q_var.sort_values(by=['rlog_ibov'])"
      ],
      "execution_count": null,
      "outputs": []
    },
    {
      "cell_type": "code",
      "metadata": {
        "id": "Vle1mnNlUesl",
        "colab": {
          "base_uri": "https://localhost:8080/"
        },
        "outputId": "52b58672-34e7-4cc2-eaee-7bac4a4504b3"
      },
      "source": [
        "# Tamanho da coluna\n",
        "len(q_var.rlog_ibov)"
      ],
      "execution_count": null,
      "outputs": [
        {
          "output_type": "execute_result",
          "data": {
            "text/plain": [
              "3593"
            ]
          },
          "metadata": {
            "tags": []
          },
          "execution_count": 41
        }
      ]
    },
    {
      "cell_type": "code",
      "metadata": {
        "id": "oRJ_Vzn0Uesl",
        "colab": {
          "base_uri": "https://localhost:8080/"
        },
        "outputId": "e6d4fded-6bbe-4cd2-a61e-db4ea1920cf2"
      },
      "source": [
        "# 5% da coluna\n",
        "len(q_var.rlog_ibov)*0.05 "
      ],
      "execution_count": null,
      "outputs": [
        {
          "output_type": "execute_result",
          "data": {
            "text/plain": [
              "179.65"
            ]
          },
          "metadata": {
            "tags": []
          },
          "execution_count": 42
        }
      ]
    },
    {
      "cell_type": "code",
      "metadata": {
        "id": "RAtJwv9CUesm",
        "colab": {
          "base_uri": "https://localhost:8080/",
          "height": 436
        },
        "outputId": "d10e9d48-be93-4ce1-d27e-67d688544c12"
      },
      "source": [
        "# 5% de 3593 é 180 (arredondando). Pegando os 180 primeiros valores em ordem crescente (após o sort)\n",
        "# da coluna rlog_ibov, estaremos pegando os 5% dos piores retornos?\n",
        "q_var.head(180)"
      ],
      "execution_count": null,
      "outputs": [
        {
          "output_type": "execute_result",
          "data": {
            "text/html": [
              "<div>\n",
              "<style scoped>\n",
              "    .dataframe tbody tr th:only-of-type {\n",
              "        vertical-align: middle;\n",
              "    }\n",
              "\n",
              "    .dataframe tbody tr th {\n",
              "        vertical-align: top;\n",
              "    }\n",
              "\n",
              "    .dataframe thead th {\n",
              "        text-align: right;\n",
              "    }\n",
              "</style>\n",
              "<table border=\"1\" class=\"dataframe\">\n",
              "  <thead>\n",
              "    <tr style=\"text-align: right;\">\n",
              "      <th></th>\n",
              "      <th>rlog_ibov</th>\n",
              "    </tr>\n",
              "    <tr>\n",
              "      <th>Data</th>\n",
              "      <th></th>\n",
              "    </tr>\n",
              "  </thead>\n",
              "  <tbody>\n",
              "    <tr>\n",
              "      <th>2020-03-12</th>\n",
              "      <td>-0.159938</td>\n",
              "    </tr>\n",
              "    <tr>\n",
              "      <th>2020-03-16</th>\n",
              "      <td>-0.149908</td>\n",
              "    </tr>\n",
              "    <tr>\n",
              "      <th>2020-03-09</th>\n",
              "      <td>-0.129806</td>\n",
              "    </tr>\n",
              "    <tr>\n",
              "      <th>2008-10-15</th>\n",
              "      <td>-0.120961</td>\n",
              "    </tr>\n",
              "    <tr>\n",
              "      <th>2020-03-18</th>\n",
              "      <td>-0.109248</td>\n",
              "    </tr>\n",
              "    <tr>\n",
              "      <th>...</th>\n",
              "      <td>...</td>\n",
              "    </tr>\n",
              "    <tr>\n",
              "      <th>2011-11-17</th>\n",
              "      <td>-0.027195</td>\n",
              "    </tr>\n",
              "    <tr>\n",
              "      <th>2008-12-15</th>\n",
              "      <td>-0.027125</td>\n",
              "    </tr>\n",
              "    <tr>\n",
              "      <th>2015-09-18</th>\n",
              "      <td>-0.026866</td>\n",
              "    </tr>\n",
              "    <tr>\n",
              "      <th>2006-07-05</th>\n",
              "      <td>-0.026832</td>\n",
              "    </tr>\n",
              "    <tr>\n",
              "      <th>2007-03-02</th>\n",
              "      <td>-0.026713</td>\n",
              "    </tr>\n",
              "  </tbody>\n",
              "</table>\n",
              "<p>180 rows × 1 columns</p>\n",
              "</div>"
            ],
            "text/plain": [
              "            rlog_ibov\n",
              "Data                 \n",
              "2020-03-12  -0.159938\n",
              "2020-03-16  -0.149908\n",
              "2020-03-09  -0.129806\n",
              "2008-10-15  -0.120961\n",
              "2020-03-18  -0.109248\n",
              "...               ...\n",
              "2011-11-17  -0.027195\n",
              "2008-12-15  -0.027125\n",
              "2015-09-18  -0.026866\n",
              "2006-07-05  -0.026832\n",
              "2007-03-02  -0.026713\n",
              "\n",
              "[180 rows x 1 columns]"
            ]
          },
          "metadata": {
            "tags": []
          },
          "execution_count": 43
        }
      ]
    },
    {
      "cell_type": "code",
      "metadata": {
        "id": "igAgQesKUesn",
        "colab": {
          "base_uri": "https://localhost:8080/"
        },
        "outputId": "e6f6f00d-27a2-44c2-beb0-06c3d0e1d6be"
      },
      "source": [
        "# 1% da coluna\n",
        "len(q_var.rlog_ibov)*0.01 "
      ],
      "execution_count": null,
      "outputs": [
        {
          "output_type": "execute_result",
          "data": {
            "text/plain": [
              "35.93"
            ]
          },
          "metadata": {
            "tags": []
          },
          "execution_count": 44
        }
      ]
    },
    {
      "cell_type": "code",
      "metadata": {
        "id": "C4N2RsThUesn",
        "colab": {
          "base_uri": "https://localhost:8080/",
          "height": 1000
        },
        "outputId": "37644aa7-e796-415b-d3d9-85911d5beeae"
      },
      "source": [
        "# 1% de 3593 é 36 (arredondando). Pegando os 36 primeiros valores em ordem crescente (após o sort)\n",
        "# da coluna rlog_ibov, estaremos pegando os 1% dos piores retornos?\n",
        "q_var.head(36)"
      ],
      "execution_count": null,
      "outputs": [
        {
          "output_type": "execute_result",
          "data": {
            "text/html": [
              "<div>\n",
              "<style scoped>\n",
              "    .dataframe tbody tr th:only-of-type {\n",
              "        vertical-align: middle;\n",
              "    }\n",
              "\n",
              "    .dataframe tbody tr th {\n",
              "        vertical-align: top;\n",
              "    }\n",
              "\n",
              "    .dataframe thead th {\n",
              "        text-align: right;\n",
              "    }\n",
              "</style>\n",
              "<table border=\"1\" class=\"dataframe\">\n",
              "  <thead>\n",
              "    <tr style=\"text-align: right;\">\n",
              "      <th></th>\n",
              "      <th>rlog_ibov</th>\n",
              "    </tr>\n",
              "    <tr>\n",
              "      <th>Data</th>\n",
              "      <th></th>\n",
              "    </tr>\n",
              "  </thead>\n",
              "  <tbody>\n",
              "    <tr>\n",
              "      <th>2020-03-12</th>\n",
              "      <td>-0.159938</td>\n",
              "    </tr>\n",
              "    <tr>\n",
              "      <th>2020-03-16</th>\n",
              "      <td>-0.149908</td>\n",
              "    </tr>\n",
              "    <tr>\n",
              "      <th>2020-03-09</th>\n",
              "      <td>-0.129806</td>\n",
              "    </tr>\n",
              "    <tr>\n",
              "      <th>2008-10-15</th>\n",
              "      <td>-0.120961</td>\n",
              "    </tr>\n",
              "    <tr>\n",
              "      <th>2020-03-18</th>\n",
              "      <td>-0.109248</td>\n",
              "    </tr>\n",
              "    <tr>\n",
              "      <th>2008-10-22</th>\n",
              "      <td>-0.107335</td>\n",
              "    </tr>\n",
              "    <tr>\n",
              "      <th>2008-09-29</th>\n",
              "      <td>-0.098310</td>\n",
              "    </tr>\n",
              "    <tr>\n",
              "      <th>2017-05-18</th>\n",
              "      <td>-0.092110</td>\n",
              "    </tr>\n",
              "    <tr>\n",
              "      <th>2011-08-08</th>\n",
              "      <td>-0.084306</td>\n",
              "    </tr>\n",
              "    <tr>\n",
              "      <th>2008-11-12</th>\n",
              "      <td>-0.080671</td>\n",
              "    </tr>\n",
              "    <tr>\n",
              "      <th>2020-03-11</th>\n",
              "      <td>-0.079455</td>\n",
              "    </tr>\n",
              "    <tr>\n",
              "      <th>2008-09-15</th>\n",
              "      <td>-0.078933</td>\n",
              "    </tr>\n",
              "    <tr>\n",
              "      <th>2008-10-02</th>\n",
              "      <td>-0.076197</td>\n",
              "    </tr>\n",
              "    <tr>\n",
              "      <th>2020-02-26</th>\n",
              "      <td>-0.072622</td>\n",
              "    </tr>\n",
              "    <tr>\n",
              "      <th>2008-10-24</th>\n",
              "      <td>-0.071606</td>\n",
              "    </tr>\n",
              "    <tr>\n",
              "      <th>2008-09-17</th>\n",
              "      <td>-0.069831</td>\n",
              "    </tr>\n",
              "    <tr>\n",
              "      <th>2007-02-27</th>\n",
              "      <td>-0.068566</td>\n",
              "    </tr>\n",
              "    <tr>\n",
              "      <th>2008-01-21</th>\n",
              "      <td>-0.068315</td>\n",
              "    </tr>\n",
              "    <tr>\n",
              "      <th>2008-10-27</th>\n",
              "      <td>-0.067213</td>\n",
              "    </tr>\n",
              "    <tr>\n",
              "      <th>2008-11-21</th>\n",
              "      <td>-0.066654</td>\n",
              "    </tr>\n",
              "    <tr>\n",
              "      <th>2008-11-05</th>\n",
              "      <td>-0.063300</td>\n",
              "    </tr>\n",
              "    <tr>\n",
              "      <th>2011-08-04</th>\n",
              "      <td>-0.058933</td>\n",
              "    </tr>\n",
              "    <tr>\n",
              "      <th>2020-03-27</th>\n",
              "      <td>-0.056664</td>\n",
              "    </tr>\n",
              "    <tr>\n",
              "      <th>2020-04-24</th>\n",
              "      <td>-0.056048</td>\n",
              "    </tr>\n",
              "    <tr>\n",
              "      <th>2008-10-06</th>\n",
              "      <td>-0.055812</td>\n",
              "    </tr>\n",
              "    <tr>\n",
              "      <th>2009-01-12</th>\n",
              "      <td>-0.053836</td>\n",
              "    </tr>\n",
              "    <tr>\n",
              "      <th>2020-03-23</th>\n",
              "      <td>-0.053592</td>\n",
              "    </tr>\n",
              "    <tr>\n",
              "      <th>2009-03-02</th>\n",
              "      <td>-0.052382</td>\n",
              "    </tr>\n",
              "    <tr>\n",
              "      <th>2008-12-01</th>\n",
              "      <td>-0.052029</td>\n",
              "    </tr>\n",
              "    <tr>\n",
              "      <th>2008-03-19</th>\n",
              "      <td>-0.051443</td>\n",
              "    </tr>\n",
              "    <tr>\n",
              "      <th>2016-02-02</th>\n",
              "      <td>-0.049877</td>\n",
              "    </tr>\n",
              "    <tr>\n",
              "      <th>2011-09-22</th>\n",
              "      <td>-0.049462</td>\n",
              "    </tr>\n",
              "    <tr>\n",
              "      <th>2009-02-17</th>\n",
              "      <td>-0.048838</td>\n",
              "    </tr>\n",
              "    <tr>\n",
              "      <th>2009-10-28</th>\n",
              "      <td>-0.048642</td>\n",
              "    </tr>\n",
              "    <tr>\n",
              "      <th>2010-02-04</th>\n",
              "      <td>-0.048460</td>\n",
              "    </tr>\n",
              "    <tr>\n",
              "      <th>2008-10-07</th>\n",
              "      <td>-0.047697</td>\n",
              "    </tr>\n",
              "  </tbody>\n",
              "</table>\n",
              "</div>"
            ],
            "text/plain": [
              "            rlog_ibov\n",
              "Data                 \n",
              "2020-03-12  -0.159938\n",
              "2020-03-16  -0.149908\n",
              "2020-03-09  -0.129806\n",
              "2008-10-15  -0.120961\n",
              "2020-03-18  -0.109248\n",
              "2008-10-22  -0.107335\n",
              "2008-09-29  -0.098310\n",
              "2017-05-18  -0.092110\n",
              "2011-08-08  -0.084306\n",
              "2008-11-12  -0.080671\n",
              "2020-03-11  -0.079455\n",
              "2008-09-15  -0.078933\n",
              "2008-10-02  -0.076197\n",
              "2020-02-26  -0.072622\n",
              "2008-10-24  -0.071606\n",
              "2008-09-17  -0.069831\n",
              "2007-02-27  -0.068566\n",
              "2008-01-21  -0.068315\n",
              "2008-10-27  -0.067213\n",
              "2008-11-21  -0.066654\n",
              "2008-11-05  -0.063300\n",
              "2011-08-04  -0.058933\n",
              "2020-03-27  -0.056664\n",
              "2020-04-24  -0.056048\n",
              "2008-10-06  -0.055812\n",
              "2009-01-12  -0.053836\n",
              "2020-03-23  -0.053592\n",
              "2009-03-02  -0.052382\n",
              "2008-12-01  -0.052029\n",
              "2008-03-19  -0.051443\n",
              "2016-02-02  -0.049877\n",
              "2011-09-22  -0.049462\n",
              "2009-02-17  -0.048838\n",
              "2009-10-28  -0.048642\n",
              "2010-02-04  -0.048460\n",
              "2008-10-07  -0.047697"
            ]
          },
          "metadata": {
            "tags": []
          },
          "execution_count": 45
        }
      ]
    },
    {
      "cell_type": "code",
      "metadata": {
        "id": "EUXvBqvaUeso",
        "colab": {
          "base_uri": "https://localhost:8080/",
          "height": 1000
        },
        "outputId": "67115f98-62a8-4041-81c7-b5555909b6c0"
      },
      "source": [
        "q_var1 = df.drop(df[df.rlog_ibov > -0.047697].index)\n",
        "q_var1"
      ],
      "execution_count": null,
      "outputs": [
        {
          "output_type": "execute_result",
          "data": {
            "text/html": [
              "<div>\n",
              "<style scoped>\n",
              "    .dataframe tbody tr th:only-of-type {\n",
              "        vertical-align: middle;\n",
              "    }\n",
              "\n",
              "    .dataframe tbody tr th {\n",
              "        vertical-align: top;\n",
              "    }\n",
              "\n",
              "    .dataframe thead th {\n",
              "        text-align: right;\n",
              "    }\n",
              "</style>\n",
              "<table border=\"1\" class=\"dataframe\">\n",
              "  <thead>\n",
              "    <tr style=\"text-align: right;\">\n",
              "      <th></th>\n",
              "      <th>ibov</th>\n",
              "      <th>rlog_ibov</th>\n",
              "      <th>iee</th>\n",
              "      <th>ifnc</th>\n",
              "      <th>imob</th>\n",
              "      <th>indx</th>\n",
              "    </tr>\n",
              "    <tr>\n",
              "      <th>Data</th>\n",
              "      <th></th>\n",
              "      <th></th>\n",
              "      <th></th>\n",
              "      <th></th>\n",
              "      <th></th>\n",
              "      <th></th>\n",
              "    </tr>\n",
              "  </thead>\n",
              "  <tbody>\n",
              "    <tr>\n",
              "      <th>2007-02-27</th>\n",
              "      <td>43145.33</td>\n",
              "      <td>-0.068566</td>\n",
              "      <td>13544.38</td>\n",
              "      <td>2916.37</td>\n",
              "      <td>5160.77</td>\n",
              "      <td>7312.55</td>\n",
              "    </tr>\n",
              "    <tr>\n",
              "      <th>2008-01-21</th>\n",
              "      <td>53709.11</td>\n",
              "      <td>-0.068315</td>\n",
              "      <td>15443.79</td>\n",
              "      <td>2335.83</td>\n",
              "      <td>781.17</td>\n",
              "      <td>8454.06</td>\n",
              "    </tr>\n",
              "    <tr>\n",
              "      <th>2008-03-19</th>\n",
              "      <td>58827.36</td>\n",
              "      <td>-0.051443</td>\n",
              "      <td>16724.71</td>\n",
              "      <td>2346.92</td>\n",
              "      <td>829.82</td>\n",
              "      <td>9860.60</td>\n",
              "    </tr>\n",
              "    <tr>\n",
              "      <th>2008-09-15</th>\n",
              "      <td>48416.33</td>\n",
              "      <td>-0.078933</td>\n",
              "      <td>15595.45</td>\n",
              "      <td>2204.33</td>\n",
              "      <td>576.13</td>\n",
              "      <td>7796.14</td>\n",
              "    </tr>\n",
              "    <tr>\n",
              "      <th>2008-09-17</th>\n",
              "      <td>45908.51</td>\n",
              "      <td>-0.069831</td>\n",
              "      <td>14729.72</td>\n",
              "      <td>2092.19</td>\n",
              "      <td>508.55</td>\n",
              "      <td>7274.85</td>\n",
              "    </tr>\n",
              "    <tr>\n",
              "      <th>2008-09-29</th>\n",
              "      <td>46028.06</td>\n",
              "      <td>-0.098310</td>\n",
              "      <td>15476.59</td>\n",
              "      <td>2151.48</td>\n",
              "      <td>502.27</td>\n",
              "      <td>6793.99</td>\n",
              "    </tr>\n",
              "    <tr>\n",
              "      <th>2008-10-02</th>\n",
              "      <td>46145.10</td>\n",
              "      <td>-0.076197</td>\n",
              "      <td>16210.94</td>\n",
              "      <td>2237.56</td>\n",
              "      <td>494.62</td>\n",
              "      <td>6738.97</td>\n",
              "    </tr>\n",
              "    <tr>\n",
              "      <th>2008-10-06</th>\n",
              "      <td>42100.79</td>\n",
              "      <td>-0.055812</td>\n",
              "      <td>15346.43</td>\n",
              "      <td>1972.34</td>\n",
              "      <td>428.62</td>\n",
              "      <td>6117.11</td>\n",
              "    </tr>\n",
              "    <tr>\n",
              "      <th>2008-10-15</th>\n",
              "      <td>36833.02</td>\n",
              "      <td>-0.120961</td>\n",
              "      <td>14198.04</td>\n",
              "      <td>1929.06</td>\n",
              "      <td>332.23</td>\n",
              "      <td>5191.07</td>\n",
              "    </tr>\n",
              "    <tr>\n",
              "      <th>2008-10-22</th>\n",
              "      <td>35069.73</td>\n",
              "      <td>-0.107335</td>\n",
              "      <td>13819.65</td>\n",
              "      <td>1618.12</td>\n",
              "      <td>335.51</td>\n",
              "      <td>5086.17</td>\n",
              "    </tr>\n",
              "    <tr>\n",
              "      <th>2008-10-24</th>\n",
              "      <td>31481.55</td>\n",
              "      <td>-0.071606</td>\n",
              "      <td>12924.14</td>\n",
              "      <td>1379.18</td>\n",
              "      <td>295.40</td>\n",
              "      <td>4670.76</td>\n",
              "    </tr>\n",
              "    <tr>\n",
              "      <th>2008-10-27</th>\n",
              "      <td>29435.11</td>\n",
              "      <td>-0.067213</td>\n",
              "      <td>12683.83</td>\n",
              "      <td>1325.48</td>\n",
              "      <td>269.26</td>\n",
              "      <td>4445.58</td>\n",
              "    </tr>\n",
              "    <tr>\n",
              "      <th>2008-11-05</th>\n",
              "      <td>37785.66</td>\n",
              "      <td>-0.063300</td>\n",
              "      <td>14249.78</td>\n",
              "      <td>1866.62</td>\n",
              "      <td>345.18</td>\n",
              "      <td>5358.00</td>\n",
              "    </tr>\n",
              "    <tr>\n",
              "      <th>2008-11-12</th>\n",
              "      <td>34373.99</td>\n",
              "      <td>-0.080671</td>\n",
              "      <td>14423.14</td>\n",
              "      <td>1699.31</td>\n",
              "      <td>262.19</td>\n",
              "      <td>4959.88</td>\n",
              "    </tr>\n",
              "    <tr>\n",
              "      <th>2008-11-21</th>\n",
              "      <td>31250.60</td>\n",
              "      <td>-0.066654</td>\n",
              "      <td>15349.61</td>\n",
              "      <td>1490.88</td>\n",
              "      <td>213.48</td>\n",
              "      <td>4581.13</td>\n",
              "    </tr>\n",
              "    <tr>\n",
              "      <th>2008-12-01</th>\n",
              "      <td>34740.50</td>\n",
              "      <td>-0.052029</td>\n",
              "      <td>15304.90</td>\n",
              "      <td>1821.90</td>\n",
              "      <td>255.48</td>\n",
              "      <td>4862.91</td>\n",
              "    </tr>\n",
              "    <tr>\n",
              "      <th>2009-01-12</th>\n",
              "      <td>39403.47</td>\n",
              "      <td>-0.053836</td>\n",
              "      <td>15265.69</td>\n",
              "      <td>1963.13</td>\n",
              "      <td>333.58</td>\n",
              "      <td>5677.61</td>\n",
              "    </tr>\n",
              "    <tr>\n",
              "      <th>2009-02-17</th>\n",
              "      <td>39846.97</td>\n",
              "      <td>-0.048838</td>\n",
              "      <td>15814.58</td>\n",
              "      <td>1821.29</td>\n",
              "      <td>335.87</td>\n",
              "      <td>5351.15</td>\n",
              "    </tr>\n",
              "    <tr>\n",
              "      <th>2009-03-02</th>\n",
              "      <td>36234.69</td>\n",
              "      <td>-0.052382</td>\n",
              "      <td>15712.04</td>\n",
              "      <td>1647.27</td>\n",
              "      <td>274.16</td>\n",
              "      <td>4688.84</td>\n",
              "    </tr>\n",
              "    <tr>\n",
              "      <th>2009-10-28</th>\n",
              "      <td>60162.31</td>\n",
              "      <td>-0.048642</td>\n",
              "      <td>22040.50</td>\n",
              "      <td>2971.07</td>\n",
              "      <td>779.83</td>\n",
              "      <td>8940.16</td>\n",
              "    </tr>\n",
              "    <tr>\n",
              "      <th>2010-02-04</th>\n",
              "      <td>63934.01</td>\n",
              "      <td>-0.048460</td>\n",
              "      <td>23887.98</td>\n",
              "      <td>3211.14</td>\n",
              "      <td>835.64</td>\n",
              "      <td>9655.74</td>\n",
              "    </tr>\n",
              "    <tr>\n",
              "      <th>2011-08-04</th>\n",
              "      <td>52811.36</td>\n",
              "      <td>-0.058933</td>\n",
              "      <td>28033.90</td>\n",
              "      <td>2957.23</td>\n",
              "      <td>758.49</td>\n",
              "      <td>8145.22</td>\n",
              "    </tr>\n",
              "    <tr>\n",
              "      <th>2011-08-08</th>\n",
              "      <td>48668.29</td>\n",
              "      <td>-0.084306</td>\n",
              "      <td>26515.37</td>\n",
              "      <td>2757.51</td>\n",
              "      <td>707.58</td>\n",
              "      <td>7701.46</td>\n",
              "    </tr>\n",
              "    <tr>\n",
              "      <th>2011-09-22</th>\n",
              "      <td>53280.28</td>\n",
              "      <td>-0.049462</td>\n",
              "      <td>28157.46</td>\n",
              "      <td>3014.89</td>\n",
              "      <td>729.73</td>\n",
              "      <td>8702.64</td>\n",
              "    </tr>\n",
              "    <tr>\n",
              "      <th>2016-02-02</th>\n",
              "      <td>38596.17</td>\n",
              "      <td>-0.049877</td>\n",
              "      <td>23615.79</td>\n",
              "      <td>3956.41</td>\n",
              "      <td>445.16</td>\n",
              "      <td>11443.79</td>\n",
              "    </tr>\n",
              "    <tr>\n",
              "      <th>2017-05-18</th>\n",
              "      <td>61597.06</td>\n",
              "      <td>-0.092110</td>\n",
              "      <td>35699.38</td>\n",
              "      <td>6608.95</td>\n",
              "      <td>645.39</td>\n",
              "      <td>12527.28</td>\n",
              "    </tr>\n",
              "    <tr>\n",
              "      <th>2020-02-26</th>\n",
              "      <td>105718.29</td>\n",
              "      <td>-0.072622</td>\n",
              "      <td>76253.27</td>\n",
              "      <td>11876.23</td>\n",
              "      <td>1332.44</td>\n",
              "      <td>20194.02</td>\n",
              "    </tr>\n",
              "    <tr>\n",
              "      <th>2020-03-09</th>\n",
              "      <td>86067.20</td>\n",
              "      <td>-0.129806</td>\n",
              "      <td>70181.75</td>\n",
              "      <td>9937.42</td>\n",
              "      <td>1062.03</td>\n",
              "      <td>16711.32</td>\n",
              "    </tr>\n",
              "    <tr>\n",
              "      <th>2020-03-11</th>\n",
              "      <td>85171.13</td>\n",
              "      <td>-0.079455</td>\n",
              "      <td>68939.52</td>\n",
              "      <td>9647.18</td>\n",
              "      <td>1048.18</td>\n",
              "      <td>16350.36</td>\n",
              "    </tr>\n",
              "    <tr>\n",
              "      <th>2020-03-12</th>\n",
              "      <td>72582.53</td>\n",
              "      <td>-0.159938</td>\n",
              "      <td>60947.95</td>\n",
              "      <td>8394.61</td>\n",
              "      <td>876.21</td>\n",
              "      <td>13610.85</td>\n",
              "    </tr>\n",
              "    <tr>\n",
              "      <th>2020-03-16</th>\n",
              "      <td>71168.05</td>\n",
              "      <td>-0.149908</td>\n",
              "      <td>60334.51</td>\n",
              "      <td>8209.97</td>\n",
              "      <td>786.01</td>\n",
              "      <td>12950.03</td>\n",
              "    </tr>\n",
              "    <tr>\n",
              "      <th>2020-03-18</th>\n",
              "      <td>66894.95</td>\n",
              "      <td>-0.109248</td>\n",
              "      <td>56119.21</td>\n",
              "      <td>7880.37</td>\n",
              "      <td>660.46</td>\n",
              "      <td>11926.08</td>\n",
              "    </tr>\n",
              "    <tr>\n",
              "      <th>2020-03-23</th>\n",
              "      <td>63569.62</td>\n",
              "      <td>-0.053592</td>\n",
              "      <td>51681.65</td>\n",
              "      <td>6926.18</td>\n",
              "      <td>658.18</td>\n",
              "      <td>12654.94</td>\n",
              "    </tr>\n",
              "    <tr>\n",
              "      <th>2020-03-27</th>\n",
              "      <td>73428.78</td>\n",
              "      <td>-0.056664</td>\n",
              "      <td>56903.76</td>\n",
              "      <td>8203.17</td>\n",
              "      <td>842.16</td>\n",
              "      <td>14224.42</td>\n",
              "    </tr>\n",
              "    <tr>\n",
              "      <th>2020-04-24</th>\n",
              "      <td>75330.61</td>\n",
              "      <td>-0.056048</td>\n",
              "      <td>58512.88</td>\n",
              "      <td>7791.60</td>\n",
              "      <td>755.69</td>\n",
              "      <td>14766.61</td>\n",
              "    </tr>\n",
              "  </tbody>\n",
              "</table>\n",
              "</div>"
            ],
            "text/plain": [
              "                 ibov  rlog_ibov       iee      ifnc     imob      indx\n",
              "Data                                                                   \n",
              "2007-02-27   43145.33  -0.068566  13544.38   2916.37  5160.77   7312.55\n",
              "2008-01-21   53709.11  -0.068315  15443.79   2335.83   781.17   8454.06\n",
              "2008-03-19   58827.36  -0.051443  16724.71   2346.92   829.82   9860.60\n",
              "2008-09-15   48416.33  -0.078933  15595.45   2204.33   576.13   7796.14\n",
              "2008-09-17   45908.51  -0.069831  14729.72   2092.19   508.55   7274.85\n",
              "2008-09-29   46028.06  -0.098310  15476.59   2151.48   502.27   6793.99\n",
              "2008-10-02   46145.10  -0.076197  16210.94   2237.56   494.62   6738.97\n",
              "2008-10-06   42100.79  -0.055812  15346.43   1972.34   428.62   6117.11\n",
              "2008-10-15   36833.02  -0.120961  14198.04   1929.06   332.23   5191.07\n",
              "2008-10-22   35069.73  -0.107335  13819.65   1618.12   335.51   5086.17\n",
              "2008-10-24   31481.55  -0.071606  12924.14   1379.18   295.40   4670.76\n",
              "2008-10-27   29435.11  -0.067213  12683.83   1325.48   269.26   4445.58\n",
              "2008-11-05   37785.66  -0.063300  14249.78   1866.62   345.18   5358.00\n",
              "2008-11-12   34373.99  -0.080671  14423.14   1699.31   262.19   4959.88\n",
              "2008-11-21   31250.60  -0.066654  15349.61   1490.88   213.48   4581.13\n",
              "2008-12-01   34740.50  -0.052029  15304.90   1821.90   255.48   4862.91\n",
              "2009-01-12   39403.47  -0.053836  15265.69   1963.13   333.58   5677.61\n",
              "2009-02-17   39846.97  -0.048838  15814.58   1821.29   335.87   5351.15\n",
              "2009-03-02   36234.69  -0.052382  15712.04   1647.27   274.16   4688.84\n",
              "2009-10-28   60162.31  -0.048642  22040.50   2971.07   779.83   8940.16\n",
              "2010-02-04   63934.01  -0.048460  23887.98   3211.14   835.64   9655.74\n",
              "2011-08-04   52811.36  -0.058933  28033.90   2957.23   758.49   8145.22\n",
              "2011-08-08   48668.29  -0.084306  26515.37   2757.51   707.58   7701.46\n",
              "2011-09-22   53280.28  -0.049462  28157.46   3014.89   729.73   8702.64\n",
              "2016-02-02   38596.17  -0.049877  23615.79   3956.41   445.16  11443.79\n",
              "2017-05-18   61597.06  -0.092110  35699.38   6608.95   645.39  12527.28\n",
              "2020-02-26  105718.29  -0.072622  76253.27  11876.23  1332.44  20194.02\n",
              "2020-03-09   86067.20  -0.129806  70181.75   9937.42  1062.03  16711.32\n",
              "2020-03-11   85171.13  -0.079455  68939.52   9647.18  1048.18  16350.36\n",
              "2020-03-12   72582.53  -0.159938  60947.95   8394.61   876.21  13610.85\n",
              "2020-03-16   71168.05  -0.149908  60334.51   8209.97   786.01  12950.03\n",
              "2020-03-18   66894.95  -0.109248  56119.21   7880.37   660.46  11926.08\n",
              "2020-03-23   63569.62  -0.053592  51681.65   6926.18   658.18  12654.94\n",
              "2020-03-27   73428.78  -0.056664  56903.76   8203.17   842.16  14224.42\n",
              "2020-04-24   75330.61  -0.056048  58512.88   7791.60   755.69  14766.61"
            ]
          },
          "metadata": {
            "tags": []
          },
          "execution_count": 46
        }
      ]
    },
    {
      "cell_type": "code",
      "metadata": {
        "id": "Y00LjaSfUesp",
        "colab": {
          "base_uri": "https://localhost:8080/"
        },
        "outputId": "683ca12e-d18e-45b3-a23e-f8a8f3394adc"
      },
      "source": [
        "# Conferência \n",
        "len(q_var1)"
      ],
      "execution_count": null,
      "outputs": [
        {
          "output_type": "execute_result",
          "data": {
            "text/plain": [
              "35"
            ]
          },
          "metadata": {
            "tags": []
          },
          "execution_count": 47
        }
      ]
    },
    {
      "cell_type": "code",
      "metadata": {
        "id": "y-XS9X9-Uesp",
        "colab": {
          "base_uri": "https://localhost:8080/",
          "height": 436
        },
        "outputId": "119950be-bd49-4e35-c35a-25146338deee"
      },
      "source": [
        "q_var5 = df.drop(df[df.rlog_ibov > -0.026713].index)\n",
        "q_var5"
      ],
      "execution_count": null,
      "outputs": [
        {
          "output_type": "execute_result",
          "data": {
            "text/html": [
              "<div>\n",
              "<style scoped>\n",
              "    .dataframe tbody tr th:only-of-type {\n",
              "        vertical-align: middle;\n",
              "    }\n",
              "\n",
              "    .dataframe tbody tr th {\n",
              "        vertical-align: top;\n",
              "    }\n",
              "\n",
              "    .dataframe thead th {\n",
              "        text-align: right;\n",
              "    }\n",
              "</style>\n",
              "<table border=\"1\" class=\"dataframe\">\n",
              "  <thead>\n",
              "    <tr style=\"text-align: right;\">\n",
              "      <th></th>\n",
              "      <th>ibov</th>\n",
              "      <th>rlog_ibov</th>\n",
              "      <th>iee</th>\n",
              "      <th>ifnc</th>\n",
              "      <th>imob</th>\n",
              "      <th>indx</th>\n",
              "    </tr>\n",
              "    <tr>\n",
              "      <th>Data</th>\n",
              "      <th></th>\n",
              "      <th></th>\n",
              "      <th></th>\n",
              "      <th></th>\n",
              "      <th></th>\n",
              "      <th></th>\n",
              "    </tr>\n",
              "  </thead>\n",
              "  <tbody>\n",
              "    <tr>\n",
              "      <th>2006-07-05</th>\n",
              "      <td>36378.03</td>\n",
              "      <td>-0.026832</td>\n",
              "      <td>11291.64</td>\n",
              "      <td>2276.81</td>\n",
              "      <td>4094.04</td>\n",
              "      <td>5954.59</td>\n",
              "    </tr>\n",
              "    <tr>\n",
              "      <th>2006-08-23</th>\n",
              "      <td>35512.10</td>\n",
              "      <td>-0.032290</td>\n",
              "      <td>11417.86</td>\n",
              "      <td>2312.16</td>\n",
              "      <td>4010.15</td>\n",
              "      <td>5839.48</td>\n",
              "    </tr>\n",
              "    <tr>\n",
              "      <th>2007-01-05</th>\n",
              "      <td>42245.16</td>\n",
              "      <td>-0.041149</td>\n",
              "      <td>13444.89</td>\n",
              "      <td>2961.41</td>\n",
              "      <td>4999.61</td>\n",
              "      <td>6871.49</td>\n",
              "    </tr>\n",
              "    <tr>\n",
              "      <th>2007-02-27</th>\n",
              "      <td>43145.33</td>\n",
              "      <td>-0.068566</td>\n",
              "      <td>13544.38</td>\n",
              "      <td>2916.37</td>\n",
              "      <td>5160.77</td>\n",
              "      <td>7312.55</td>\n",
              "    </tr>\n",
              "    <tr>\n",
              "      <th>2007-03-05</th>\n",
              "      <td>41179.16</td>\n",
              "      <td>-0.028504</td>\n",
              "      <td>13123.32</td>\n",
              "      <td>2772.13</td>\n",
              "      <td>4936.58</td>\n",
              "      <td>7066.91</td>\n",
              "    </tr>\n",
              "    <tr>\n",
              "      <th>...</th>\n",
              "      <td>...</td>\n",
              "      <td>...</td>\n",
              "      <td>...</td>\n",
              "      <td>...</td>\n",
              "      <td>...</td>\n",
              "      <td>...</td>\n",
              "    </tr>\n",
              "    <tr>\n",
              "      <th>2020-04-24</th>\n",
              "      <td>75330.61</td>\n",
              "      <td>-0.056048</td>\n",
              "      <td>58512.88</td>\n",
              "      <td>7791.60</td>\n",
              "      <td>755.69</td>\n",
              "      <td>14766.61</td>\n",
              "    </tr>\n",
              "    <tr>\n",
              "      <th>2020-04-30</th>\n",
              "      <td>80505.89</td>\n",
              "      <td>-0.032566</td>\n",
              "      <td>61335.14</td>\n",
              "      <td>8410.76</td>\n",
              "      <td>814.22</td>\n",
              "      <td>15716.73</td>\n",
              "    </tr>\n",
              "    <tr>\n",
              "      <th>2020-08-31</th>\n",
              "      <td>99369.15</td>\n",
              "      <td>-0.027531</td>\n",
              "      <td>71966.61</td>\n",
              "      <td>9993.37</td>\n",
              "      <td>962.80</td>\n",
              "      <td>19864.94</td>\n",
              "    </tr>\n",
              "    <tr>\n",
              "      <th>2020-10-28</th>\n",
              "      <td>95368.76</td>\n",
              "      <td>-0.043467</td>\n",
              "      <td>70934.95</td>\n",
              "      <td>9535.49</td>\n",
              "      <td>882.27</td>\n",
              "      <td>20486.76</td>\n",
              "    </tr>\n",
              "    <tr>\n",
              "      <th>2020-10-30</th>\n",
              "      <td>93952.40</td>\n",
              "      <td>-0.027606</td>\n",
              "      <td>69951.35</td>\n",
              "      <td>9341.44</td>\n",
              "      <td>863.71</td>\n",
              "      <td>19822.50</td>\n",
              "    </tr>\n",
              "  </tbody>\n",
              "</table>\n",
              "<p>179 rows × 6 columns</p>\n",
              "</div>"
            ],
            "text/plain": [
              "                ibov  rlog_ibov       iee     ifnc     imob      indx\n",
              "Data                                                                 \n",
              "2006-07-05  36378.03  -0.026832  11291.64  2276.81  4094.04   5954.59\n",
              "2006-08-23  35512.10  -0.032290  11417.86  2312.16  4010.15   5839.48\n",
              "2007-01-05  42245.16  -0.041149  13444.89  2961.41  4999.61   6871.49\n",
              "2007-02-27  43145.33  -0.068566  13544.38  2916.37  5160.77   7312.55\n",
              "2007-03-05  41179.16  -0.028504  13123.32  2772.13  4936.58   7066.91\n",
              "...              ...        ...       ...      ...      ...       ...\n",
              "2020-04-24  75330.61  -0.056048  58512.88  7791.60   755.69  14766.61\n",
              "2020-04-30  80505.89  -0.032566  61335.14  8410.76   814.22  15716.73\n",
              "2020-08-31  99369.15  -0.027531  71966.61  9993.37   962.80  19864.94\n",
              "2020-10-28  95368.76  -0.043467  70934.95  9535.49   882.27  20486.76\n",
              "2020-10-30  93952.40  -0.027606  69951.35  9341.44   863.71  19822.50\n",
              "\n",
              "[179 rows x 6 columns]"
            ]
          },
          "metadata": {
            "tags": []
          },
          "execution_count": 48
        }
      ]
    },
    {
      "cell_type": "code",
      "metadata": {
        "id": "uTmXdMizUesq",
        "colab": {
          "base_uri": "https://localhost:8080/"
        },
        "outputId": "a3f4f7dd-1267-4afd-a605-2b17d68cf2a9"
      },
      "source": [
        "# Conferência \n",
        "len(q_var5)"
      ],
      "execution_count": null,
      "outputs": [
        {
          "output_type": "execute_result",
          "data": {
            "text/plain": [
              "179"
            ]
          },
          "metadata": {
            "tags": []
          },
          "execution_count": 49
        }
      ]
    },
    {
      "cell_type": "markdown",
      "metadata": {
        "id": "3ltndaNbUesq"
      },
      "source": [
        "#### Intervalos do retorno do Ibovespa, de acordo com o quantil\n",
        "- q_var1 (calda de queda 1%): prob(-0.159938 <= rlog_ibov <= -0.047697) = 1%\n",
        "- q_var5 (calda de queda 5%): prob(-0.159938 <= rlog_ibov <=  -0.026713) = 5%\n",
        "- q1 (calda de queda): prob(-0.159938 <= rlog_ibov <= -0.008384) = 25%\n",
        "- qc (central): prob(-0.008384 <= rlog_ibov <= 0.009612) = 50%\n",
        "- q4 (calda de alta): prob(0.009612 <= rlog_ibov <= 0.136782) = 25%"
      ]
    },
    {
      "cell_type": "code",
      "metadata": {
        "id": "xzhG9lPPUesr",
        "colab": {
          "base_uri": "https://localhost:8080/",
          "height": 436
        },
        "outputId": "1232b63e-208a-475c-ac75-726c778c2503"
      },
      "source": [
        "q1 = df.drop(df[df.rlog_ibov > -0.008384].index)\n",
        "q1"
      ],
      "execution_count": null,
      "outputs": [
        {
          "output_type": "execute_result",
          "data": {
            "text/html": [
              "<div>\n",
              "<style scoped>\n",
              "    .dataframe tbody tr th:only-of-type {\n",
              "        vertical-align: middle;\n",
              "    }\n",
              "\n",
              "    .dataframe tbody tr th {\n",
              "        vertical-align: top;\n",
              "    }\n",
              "\n",
              "    .dataframe thead th {\n",
              "        text-align: right;\n",
              "    }\n",
              "</style>\n",
              "<table border=\"1\" class=\"dataframe\">\n",
              "  <thead>\n",
              "    <tr style=\"text-align: right;\">\n",
              "      <th></th>\n",
              "      <th>ibov</th>\n",
              "      <th>rlog_ibov</th>\n",
              "      <th>iee</th>\n",
              "      <th>ifnc</th>\n",
              "      <th>imob</th>\n",
              "      <th>indx</th>\n",
              "    </tr>\n",
              "    <tr>\n",
              "      <th>Data</th>\n",
              "      <th></th>\n",
              "      <th></th>\n",
              "      <th></th>\n",
              "      <th></th>\n",
              "      <th></th>\n",
              "      <th></th>\n",
              "    </tr>\n",
              "  </thead>\n",
              "  <tbody>\n",
              "    <tr>\n",
              "      <th>2006-07-05</th>\n",
              "      <td>36378.03</td>\n",
              "      <td>-0.026832</td>\n",
              "      <td>11291.64</td>\n",
              "      <td>2276.81</td>\n",
              "      <td>4094.04</td>\n",
              "      <td>5954.59</td>\n",
              "    </tr>\n",
              "    <tr>\n",
              "      <th>2006-07-07</th>\n",
              "      <td>36101.98</td>\n",
              "      <td>-0.011872</td>\n",
              "      <td>11254.17</td>\n",
              "      <td>2260.48</td>\n",
              "      <td>4072.16</td>\n",
              "      <td>5937.99</td>\n",
              "    </tr>\n",
              "    <tr>\n",
              "      <th>2006-07-12</th>\n",
              "      <td>36229.71</td>\n",
              "      <td>-0.008899</td>\n",
              "      <td>11276.11</td>\n",
              "      <td>2232.36</td>\n",
              "      <td>4032.97</td>\n",
              "      <td>5939.00</td>\n",
              "    </tr>\n",
              "    <tr>\n",
              "      <th>2006-07-13</th>\n",
              "      <td>35354.28</td>\n",
              "      <td>-0.024460</td>\n",
              "      <td>10993.54</td>\n",
              "      <td>2180.37</td>\n",
              "      <td>3922.94</td>\n",
              "      <td>5784.00</td>\n",
              "    </tr>\n",
              "    <tr>\n",
              "      <th>2006-07-17</th>\n",
              "      <td>34866.31</td>\n",
              "      <td>-0.013768</td>\n",
              "      <td>10818.56</td>\n",
              "      <td>2124.88</td>\n",
              "      <td>3838.11</td>\n",
              "      <td>5719.06</td>\n",
              "    </tr>\n",
              "    <tr>\n",
              "      <th>...</th>\n",
              "      <td>...</td>\n",
              "      <td>...</td>\n",
              "      <td>...</td>\n",
              "      <td>...</td>\n",
              "      <td>...</td>\n",
              "      <td>...</td>\n",
              "    </tr>\n",
              "    <tr>\n",
              "      <th>2020-10-28</th>\n",
              "      <td>95368.76</td>\n",
              "      <td>-0.043467</td>\n",
              "      <td>70934.95</td>\n",
              "      <td>9535.49</td>\n",
              "      <td>882.27</td>\n",
              "      <td>20486.76</td>\n",
              "    </tr>\n",
              "    <tr>\n",
              "      <th>2020-10-30</th>\n",
              "      <td>93952.40</td>\n",
              "      <td>-0.027606</td>\n",
              "      <td>69951.35</td>\n",
              "      <td>9341.44</td>\n",
              "      <td>863.71</td>\n",
              "      <td>19822.50</td>\n",
              "    </tr>\n",
              "    <tr>\n",
              "      <th>2020-11-12</th>\n",
              "      <td>102507.01</td>\n",
              "      <td>-0.022207</td>\n",
              "      <td>74373.94</td>\n",
              "      <td>10503.44</td>\n",
              "      <td>971.06</td>\n",
              "      <td>21042.44</td>\n",
              "    </tr>\n",
              "    <tr>\n",
              "      <th>2020-11-18</th>\n",
              "      <td>106119.09</td>\n",
              "      <td>-0.010588</td>\n",
              "      <td>76718.79</td>\n",
              "      <td>10910.92</td>\n",
              "      <td>990.52</td>\n",
              "      <td>21542.85</td>\n",
              "    </tr>\n",
              "    <tr>\n",
              "      <th>2020-11-30</th>\n",
              "      <td>108893.32</td>\n",
              "      <td>-0.015330</td>\n",
              "      <td>77283.13</td>\n",
              "      <td>10923.15</td>\n",
              "      <td>1005.95</td>\n",
              "      <td>21867.76</td>\n",
              "    </tr>\n",
              "  </tbody>\n",
              "</table>\n",
              "<p>899 rows × 6 columns</p>\n",
              "</div>"
            ],
            "text/plain": [
              "                 ibov  rlog_ibov       iee      ifnc     imob      indx\n",
              "Data                                                                   \n",
              "2006-07-05   36378.03  -0.026832  11291.64   2276.81  4094.04   5954.59\n",
              "2006-07-07   36101.98  -0.011872  11254.17   2260.48  4072.16   5937.99\n",
              "2006-07-12   36229.71  -0.008899  11276.11   2232.36  4032.97   5939.00\n",
              "2006-07-13   35354.28  -0.024460  10993.54   2180.37  3922.94   5784.00\n",
              "2006-07-17   34866.31  -0.013768  10818.56   2124.88  3838.11   5719.06\n",
              "...               ...        ...       ...       ...      ...       ...\n",
              "2020-10-28   95368.76  -0.043467  70934.95   9535.49   882.27  20486.76\n",
              "2020-10-30   93952.40  -0.027606  69951.35   9341.44   863.71  19822.50\n",
              "2020-11-12  102507.01  -0.022207  74373.94  10503.44   971.06  21042.44\n",
              "2020-11-18  106119.09  -0.010588  76718.79  10910.92   990.52  21542.85\n",
              "2020-11-30  108893.32  -0.015330  77283.13  10923.15  1005.95  21867.76\n",
              "\n",
              "[899 rows x 6 columns]"
            ]
          },
          "metadata": {
            "tags": []
          },
          "execution_count": 50
        }
      ]
    },
    {
      "cell_type": "code",
      "metadata": {
        "id": "Q9LK0mAPUest",
        "colab": {
          "base_uri": "https://localhost:8080/",
          "height": 436
        },
        "outputId": "e5405c77-1d1e-4e0c-f6bd-6c2f1490a417"
      },
      "source": [
        "qc = df.drop(df[df.rlog_ibov < -0.008384].index)\n",
        "qc = qc.drop(df[df.rlog_ibov > 0.009612].index)\n",
        "qc"
      ],
      "execution_count": null,
      "outputs": [
        {
          "output_type": "execute_result",
          "data": {
            "text/html": [
              "<div>\n",
              "<style scoped>\n",
              "    .dataframe tbody tr th:only-of-type {\n",
              "        vertical-align: middle;\n",
              "    }\n",
              "\n",
              "    .dataframe tbody tr th {\n",
              "        vertical-align: top;\n",
              "    }\n",
              "\n",
              "    .dataframe thead th {\n",
              "        text-align: right;\n",
              "    }\n",
              "</style>\n",
              "<table border=\"1\" class=\"dataframe\">\n",
              "  <thead>\n",
              "    <tr style=\"text-align: right;\">\n",
              "      <th></th>\n",
              "      <th>ibov</th>\n",
              "      <th>rlog_ibov</th>\n",
              "      <th>iee</th>\n",
              "      <th>ifnc</th>\n",
              "      <th>imob</th>\n",
              "      <th>indx</th>\n",
              "    </tr>\n",
              "    <tr>\n",
              "      <th>Data</th>\n",
              "      <th></th>\n",
              "      <th></th>\n",
              "      <th></th>\n",
              "      <th></th>\n",
              "      <th></th>\n",
              "      <th></th>\n",
              "    </tr>\n",
              "  </thead>\n",
              "  <tbody>\n",
              "    <tr>\n",
              "      <th>2006-07-04</th>\n",
              "      <td>37367.34</td>\n",
              "      <td>0.000271</td>\n",
              "      <td>11560.73</td>\n",
              "      <td>2355.45</td>\n",
              "      <td>4201.63</td>\n",
              "      <td>6083.40</td>\n",
              "    </tr>\n",
              "    <tr>\n",
              "      <th>2006-07-06</th>\n",
              "      <td>36533.13</td>\n",
              "      <td>0.004254</td>\n",
              "      <td>11380.44</td>\n",
              "      <td>2293.96</td>\n",
              "      <td>4111.49</td>\n",
              "      <td>5977.69</td>\n",
              "    </tr>\n",
              "    <tr>\n",
              "      <th>2006-07-10</th>\n",
              "      <td>36140.64</td>\n",
              "      <td>0.001070</td>\n",
              "      <td>11326.05</td>\n",
              "      <td>2244.01</td>\n",
              "      <td>4062.54</td>\n",
              "      <td>5938.08</td>\n",
              "    </tr>\n",
              "    <tr>\n",
              "      <th>2006-07-14</th>\n",
              "      <td>35349.68</td>\n",
              "      <td>-0.000130</td>\n",
              "      <td>10943.13</td>\n",
              "      <td>2163.19</td>\n",
              "      <td>3897.91</td>\n",
              "      <td>5756.32</td>\n",
              "    </tr>\n",
              "    <tr>\n",
              "      <th>2006-07-18</th>\n",
              "      <td>35130.42</td>\n",
              "      <td>0.007546</td>\n",
              "      <td>11065.02</td>\n",
              "      <td>2121.43</td>\n",
              "      <td>3852.24</td>\n",
              "      <td>5765.04</td>\n",
              "    </tr>\n",
              "    <tr>\n",
              "      <th>...</th>\n",
              "      <td>...</td>\n",
              "      <td>...</td>\n",
              "      <td>...</td>\n",
              "      <td>...</td>\n",
              "      <td>...</td>\n",
              "      <td>...</td>\n",
              "    </tr>\n",
              "    <tr>\n",
              "      <th>2020-12-03</th>\n",
              "      <td>112291.59</td>\n",
              "      <td>0.003685</td>\n",
              "      <td>78475.84</td>\n",
              "      <td>11455.96</td>\n",
              "      <td>1093.40</td>\n",
              "      <td>21908.21</td>\n",
              "    </tr>\n",
              "    <tr>\n",
              "      <th>2020-12-07</th>\n",
              "      <td>113589.77</td>\n",
              "      <td>-0.001412</td>\n",
              "      <td>78415.12</td>\n",
              "      <td>11563.78</td>\n",
              "      <td>1071.93</td>\n",
              "      <td>22002.16</td>\n",
              "    </tr>\n",
              "    <tr>\n",
              "      <th>2020-12-08</th>\n",
              "      <td>113793.06</td>\n",
              "      <td>0.001788</td>\n",
              "      <td>78085.18</td>\n",
              "      <td>11521.06</td>\n",
              "      <td>1074.31</td>\n",
              "      <td>22157.12</td>\n",
              "    </tr>\n",
              "    <tr>\n",
              "      <th>2020-12-09</th>\n",
              "      <td>113001.16</td>\n",
              "      <td>-0.006983</td>\n",
              "      <td>77977.28</td>\n",
              "      <td>11453.69</td>\n",
              "      <td>1072.01</td>\n",
              "      <td>21911.85</td>\n",
              "    </tr>\n",
              "    <tr>\n",
              "      <th>2020-12-11</th>\n",
              "      <td>115128.00</td>\n",
              "      <td>-0.000005</td>\n",
              "      <td>80370.24</td>\n",
              "      <td>11875.62</td>\n",
              "      <td>1083.80</td>\n",
              "      <td>22054.28</td>\n",
              "    </tr>\n",
              "  </tbody>\n",
              "</table>\n",
              "<p>1795 rows × 6 columns</p>\n",
              "</div>"
            ],
            "text/plain": [
              "                 ibov  rlog_ibov       iee      ifnc     imob      indx\n",
              "Data                                                                   \n",
              "2006-07-04   37367.34   0.000271  11560.73   2355.45  4201.63   6083.40\n",
              "2006-07-06   36533.13   0.004254  11380.44   2293.96  4111.49   5977.69\n",
              "2006-07-10   36140.64   0.001070  11326.05   2244.01  4062.54   5938.08\n",
              "2006-07-14   35349.68  -0.000130  10943.13   2163.19  3897.91   5756.32\n",
              "2006-07-18   35130.42   0.007546  11065.02   2121.43  3852.24   5765.04\n",
              "...               ...        ...       ...       ...      ...       ...\n",
              "2020-12-03  112291.59   0.003685  78475.84  11455.96  1093.40  21908.21\n",
              "2020-12-07  113589.77  -0.001412  78415.12  11563.78  1071.93  22002.16\n",
              "2020-12-08  113793.06   0.001788  78085.18  11521.06  1074.31  22157.12\n",
              "2020-12-09  113001.16  -0.006983  77977.28  11453.69  1072.01  21911.85\n",
              "2020-12-11  115128.00  -0.000005  80370.24  11875.62  1083.80  22054.28\n",
              "\n",
              "[1795 rows x 6 columns]"
            ]
          },
          "metadata": {
            "tags": []
          },
          "execution_count": 51
        }
      ]
    },
    {
      "cell_type": "code",
      "metadata": {
        "id": "E3sEwDmBUesw",
        "colab": {
          "base_uri": "https://localhost:8080/",
          "height": 436
        },
        "outputId": "47ae12a0-11b5-4283-940c-94337601d721"
      },
      "source": [
        "q4 = df.drop(df[df.rlog_ibov < 0.009612].index)\n",
        "q4"
      ],
      "execution_count": null,
      "outputs": [
        {
          "output_type": "execute_result",
          "data": {
            "text/html": [
              "<div>\n",
              "<style scoped>\n",
              "    .dataframe tbody tr th:only-of-type {\n",
              "        vertical-align: middle;\n",
              "    }\n",
              "\n",
              "    .dataframe tbody tr th {\n",
              "        vertical-align: top;\n",
              "    }\n",
              "\n",
              "    .dataframe thead th {\n",
              "        text-align: right;\n",
              "    }\n",
              "</style>\n",
              "<table border=\"1\" class=\"dataframe\">\n",
              "  <thead>\n",
              "    <tr style=\"text-align: right;\">\n",
              "      <th></th>\n",
              "      <th>ibov</th>\n",
              "      <th>rlog_ibov</th>\n",
              "      <th>iee</th>\n",
              "      <th>ifnc</th>\n",
              "      <th>imob</th>\n",
              "      <th>indx</th>\n",
              "    </tr>\n",
              "    <tr>\n",
              "      <th>Data</th>\n",
              "      <th></th>\n",
              "      <th></th>\n",
              "      <th></th>\n",
              "      <th></th>\n",
              "      <th></th>\n",
              "      <th></th>\n",
              "    </tr>\n",
              "  </thead>\n",
              "  <tbody>\n",
              "    <tr>\n",
              "      <th>2006-07-11</th>\n",
              "      <td>36553.56</td>\n",
              "      <td>0.011361</td>\n",
              "      <td>11384.82</td>\n",
              "      <td>2265.02</td>\n",
              "      <td>4083.62</td>\n",
              "      <td>6008.85</td>\n",
              "    </tr>\n",
              "    <tr>\n",
              "      <th>2006-07-19</th>\n",
              "      <td>36785.45</td>\n",
              "      <td>0.046035</td>\n",
              "      <td>11567.81</td>\n",
              "      <td>2269.54</td>\n",
              "      <td>4052.88</td>\n",
              "      <td>5946.39</td>\n",
              "    </tr>\n",
              "    <tr>\n",
              "      <th>2006-07-24</th>\n",
              "      <td>36224.39</td>\n",
              "      <td>0.019907</td>\n",
              "      <td>11462.70</td>\n",
              "      <td>2319.23</td>\n",
              "      <td>4041.53</td>\n",
              "      <td>5841.75</td>\n",
              "    </tr>\n",
              "    <tr>\n",
              "      <th>2006-07-25</th>\n",
              "      <td>36680.83</td>\n",
              "      <td>0.012522</td>\n",
              "      <td>11448.14</td>\n",
              "      <td>2351.18</td>\n",
              "      <td>4100.48</td>\n",
              "      <td>5904.44</td>\n",
              "    </tr>\n",
              "    <tr>\n",
              "      <th>2006-07-28</th>\n",
              "      <td>37381.06</td>\n",
              "      <td>0.013285</td>\n",
              "      <td>11373.60</td>\n",
              "      <td>2378.58</td>\n",
              "      <td>4151.11</td>\n",
              "      <td>5938.17</td>\n",
              "    </tr>\n",
              "    <tr>\n",
              "      <th>...</th>\n",
              "      <td>...</td>\n",
              "      <td>...</td>\n",
              "      <td>...</td>\n",
              "      <td>...</td>\n",
              "      <td>...</td>\n",
              "      <td>...</td>\n",
              "    </tr>\n",
              "    <tr>\n",
              "      <th>2020-11-23</th>\n",
              "      <td>107378.92</td>\n",
              "      <td>0.012524</td>\n",
              "      <td>75673.17</td>\n",
              "      <td>10936.69</td>\n",
              "      <td>980.23</td>\n",
              "      <td>21586.77</td>\n",
              "    </tr>\n",
              "    <tr>\n",
              "      <th>2020-11-24</th>\n",
              "      <td>109786.30</td>\n",
              "      <td>0.022172</td>\n",
              "      <td>76235.90</td>\n",
              "      <td>11237.87</td>\n",
              "      <td>1013.03</td>\n",
              "      <td>21738.27</td>\n",
              "    </tr>\n",
              "    <tr>\n",
              "      <th>2020-12-01</th>\n",
              "      <td>111399.91</td>\n",
              "      <td>0.022758</td>\n",
              "      <td>77529.60</td>\n",
              "      <td>11303.75</td>\n",
              "      <td>1045.86</td>\n",
              "      <td>22207.52</td>\n",
              "    </tr>\n",
              "    <tr>\n",
              "      <th>2020-12-04</th>\n",
              "      <td>113750.22</td>\n",
              "      <td>0.012906</td>\n",
              "      <td>78208.45</td>\n",
              "      <td>11521.60</td>\n",
              "      <td>1072.84</td>\n",
              "      <td>21965.55</td>\n",
              "    </tr>\n",
              "    <tr>\n",
              "      <th>2020-12-10</th>\n",
              "      <td>115128.63</td>\n",
              "      <td>0.018652</td>\n",
              "      <td>78527.46</td>\n",
              "      <td>11830.73</td>\n",
              "      <td>1088.37</td>\n",
              "      <td>22016.41</td>\n",
              "    </tr>\n",
              "  </tbody>\n",
              "</table>\n",
              "<p>899 rows × 6 columns</p>\n",
              "</div>"
            ],
            "text/plain": [
              "                 ibov  rlog_ibov       iee      ifnc     imob      indx\n",
              "Data                                                                   \n",
              "2006-07-11   36553.56   0.011361  11384.82   2265.02  4083.62   6008.85\n",
              "2006-07-19   36785.45   0.046035  11567.81   2269.54  4052.88   5946.39\n",
              "2006-07-24   36224.39   0.019907  11462.70   2319.23  4041.53   5841.75\n",
              "2006-07-25   36680.83   0.012522  11448.14   2351.18  4100.48   5904.44\n",
              "2006-07-28   37381.06   0.013285  11373.60   2378.58  4151.11   5938.17\n",
              "...               ...        ...       ...       ...      ...       ...\n",
              "2020-11-23  107378.92   0.012524  75673.17  10936.69   980.23  21586.77\n",
              "2020-11-24  109786.30   0.022172  76235.90  11237.87  1013.03  21738.27\n",
              "2020-12-01  111399.91   0.022758  77529.60  11303.75  1045.86  22207.52\n",
              "2020-12-04  113750.22   0.012906  78208.45  11521.60  1072.84  21965.55\n",
              "2020-12-10  115128.63   0.018652  78527.46  11830.73  1088.37  22016.41\n",
              "\n",
              "[899 rows x 6 columns]"
            ]
          },
          "metadata": {
            "tags": []
          },
          "execution_count": 52
        }
      ]
    },
    {
      "cell_type": "code",
      "metadata": {
        "id": "QaA6xZxnUesw"
      },
      "source": [
        "df = df.drop(columns=['rlog_ibov'])\n",
        "q_var1 = q_var1.drop(columns=['rlog_ibov'])\n",
        "q_var5 = q_var5.drop(columns=['rlog_ibov'])\n",
        "q1 = q1.drop(columns=['rlog_ibov'])\n",
        "qc = qc.drop(columns=['rlog_ibov'])\n",
        "q4 = q4.drop(columns=['rlog_ibov'])"
      ],
      "execution_count": null,
      "outputs": []
    },
    {
      "cell_type": "markdown",
      "metadata": {
        "id": "SmSF4MVBUesx"
      },
      "source": [
        "### Matriz de correlação entre os índices"
      ]
    },
    {
      "cell_type": "code",
      "metadata": {
        "id": "ZQY1mlg1Uesx",
        "colab": {
          "base_uri": "https://localhost:8080/",
          "height": 197
        },
        "outputId": "fc13ee27-a6c3-479e-ea9b-7f62955e325b"
      },
      "source": [
        "# Matriz de correlação incondicional (período todo)\n",
        "corrIncond = df.corr()\n",
        "corrIncond"
      ],
      "execution_count": null,
      "outputs": [
        {
          "output_type": "execute_result",
          "data": {
            "text/html": [
              "<div>\n",
              "<style scoped>\n",
              "    .dataframe tbody tr th:only-of-type {\n",
              "        vertical-align: middle;\n",
              "    }\n",
              "\n",
              "    .dataframe tbody tr th {\n",
              "        vertical-align: top;\n",
              "    }\n",
              "\n",
              "    .dataframe thead th {\n",
              "        text-align: right;\n",
              "    }\n",
              "</style>\n",
              "<table border=\"1\" class=\"dataframe\">\n",
              "  <thead>\n",
              "    <tr style=\"text-align: right;\">\n",
              "      <th></th>\n",
              "      <th>ibov</th>\n",
              "      <th>iee</th>\n",
              "      <th>ifnc</th>\n",
              "      <th>imob</th>\n",
              "      <th>indx</th>\n",
              "    </tr>\n",
              "  </thead>\n",
              "  <tbody>\n",
              "    <tr>\n",
              "      <th>ibov</th>\n",
              "      <td>1.000000</td>\n",
              "      <td>0.892247</td>\n",
              "      <td>0.865902</td>\n",
              "      <td>-0.154946</td>\n",
              "      <td>0.852926</td>\n",
              "    </tr>\n",
              "    <tr>\n",
              "      <th>iee</th>\n",
              "      <td>0.892247</td>\n",
              "      <td>1.000000</td>\n",
              "      <td>0.927813</td>\n",
              "      <td>-0.289411</td>\n",
              "      <td>0.914385</td>\n",
              "    </tr>\n",
              "    <tr>\n",
              "      <th>ifnc</th>\n",
              "      <td>0.865902</td>\n",
              "      <td>0.927813</td>\n",
              "      <td>1.000000</td>\n",
              "      <td>-0.204095</td>\n",
              "      <td>0.924892</td>\n",
              "    </tr>\n",
              "    <tr>\n",
              "      <th>imob</th>\n",
              "      <td>-0.154946</td>\n",
              "      <td>-0.289411</td>\n",
              "      <td>-0.204095</td>\n",
              "      <td>1.000000</td>\n",
              "      <td>-0.282673</td>\n",
              "    </tr>\n",
              "    <tr>\n",
              "      <th>indx</th>\n",
              "      <td>0.852926</td>\n",
              "      <td>0.914385</td>\n",
              "      <td>0.924892</td>\n",
              "      <td>-0.282673</td>\n",
              "      <td>1.000000</td>\n",
              "    </tr>\n",
              "  </tbody>\n",
              "</table>\n",
              "</div>"
            ],
            "text/plain": [
              "          ibov       iee      ifnc      imob      indx\n",
              "ibov  1.000000  0.892247  0.865902 -0.154946  0.852926\n",
              "iee   0.892247  1.000000  0.927813 -0.289411  0.914385\n",
              "ifnc  0.865902  0.927813  1.000000 -0.204095  0.924892\n",
              "imob -0.154946 -0.289411 -0.204095  1.000000 -0.282673\n",
              "indx  0.852926  0.914385  0.924892 -0.282673  1.000000"
            ]
          },
          "metadata": {
            "tags": []
          },
          "execution_count": 54
        }
      ]
    },
    {
      "cell_type": "code",
      "metadata": {
        "id": "kgpNXZhUUesz",
        "colab": {
          "base_uri": "https://localhost:8080/",
          "height": 197
        },
        "outputId": "b059e13d-739a-4300-a33e-b10691168074"
      },
      "source": [
        "# Matriz de correlação condicional (q_VAR1)\n",
        "corrVAR1 = q_var1.corr()\n",
        "corrVAR1"
      ],
      "execution_count": null,
      "outputs": [
        {
          "output_type": "execute_result",
          "data": {
            "text/html": [
              "<div>\n",
              "<style scoped>\n",
              "    .dataframe tbody tr th:only-of-type {\n",
              "        vertical-align: middle;\n",
              "    }\n",
              "\n",
              "    .dataframe tbody tr th {\n",
              "        vertical-align: top;\n",
              "    }\n",
              "\n",
              "    .dataframe thead th {\n",
              "        text-align: right;\n",
              "    }\n",
              "</style>\n",
              "<table border=\"1\" class=\"dataframe\">\n",
              "  <thead>\n",
              "    <tr style=\"text-align: right;\">\n",
              "      <th></th>\n",
              "      <th>ibov</th>\n",
              "      <th>iee</th>\n",
              "      <th>ifnc</th>\n",
              "      <th>imob</th>\n",
              "      <th>indx</th>\n",
              "    </tr>\n",
              "  </thead>\n",
              "  <tbody>\n",
              "    <tr>\n",
              "      <th>ibov</th>\n",
              "      <td>1.000000</td>\n",
              "      <td>0.911899</td>\n",
              "      <td>0.923638</td>\n",
              "      <td>0.226488</td>\n",
              "      <td>0.957740</td>\n",
              "    </tr>\n",
              "    <tr>\n",
              "      <th>iee</th>\n",
              "      <td>0.911899</td>\n",
              "      <td>1.000000</td>\n",
              "      <td>0.984946</td>\n",
              "      <td>0.132823</td>\n",
              "      <td>0.932241</td>\n",
              "    </tr>\n",
              "    <tr>\n",
              "      <th>ifnc</th>\n",
              "      <td>0.923638</td>\n",
              "      <td>0.984946</td>\n",
              "      <td>1.000000</td>\n",
              "      <td>0.204047</td>\n",
              "      <td>0.958991</td>\n",
              "    </tr>\n",
              "    <tr>\n",
              "      <th>imob</th>\n",
              "      <td>0.226488</td>\n",
              "      <td>0.132823</td>\n",
              "      <td>0.204047</td>\n",
              "      <td>1.000000</td>\n",
              "      <td>0.227562</td>\n",
              "    </tr>\n",
              "    <tr>\n",
              "      <th>indx</th>\n",
              "      <td>0.957740</td>\n",
              "      <td>0.932241</td>\n",
              "      <td>0.958991</td>\n",
              "      <td>0.227562</td>\n",
              "      <td>1.000000</td>\n",
              "    </tr>\n",
              "  </tbody>\n",
              "</table>\n",
              "</div>"
            ],
            "text/plain": [
              "          ibov       iee      ifnc      imob      indx\n",
              "ibov  1.000000  0.911899  0.923638  0.226488  0.957740\n",
              "iee   0.911899  1.000000  0.984946  0.132823  0.932241\n",
              "ifnc  0.923638  0.984946  1.000000  0.204047  0.958991\n",
              "imob  0.226488  0.132823  0.204047  1.000000  0.227562\n",
              "indx  0.957740  0.932241  0.958991  0.227562  1.000000"
            ]
          },
          "metadata": {
            "tags": []
          },
          "execution_count": 55
        }
      ]
    },
    {
      "cell_type": "code",
      "metadata": {
        "id": "SUn4WxZVUesz",
        "colab": {
          "base_uri": "https://localhost:8080/",
          "height": 197
        },
        "outputId": "9ae4564e-5231-46cf-8fb9-c204424dc3cd"
      },
      "source": [
        "# Matriz de correlação condicional (q_VAR5)\n",
        "corrVAR5 = q_var5.corr()\n",
        "corrVAR5"
      ],
      "execution_count": null,
      "outputs": [
        {
          "output_type": "execute_result",
          "data": {
            "text/html": [
              "<div>\n",
              "<style scoped>\n",
              "    .dataframe tbody tr th:only-of-type {\n",
              "        vertical-align: middle;\n",
              "    }\n",
              "\n",
              "    .dataframe tbody tr th {\n",
              "        vertical-align: top;\n",
              "    }\n",
              "\n",
              "    .dataframe thead th {\n",
              "        text-align: right;\n",
              "    }\n",
              "</style>\n",
              "<table border=\"1\" class=\"dataframe\">\n",
              "  <thead>\n",
              "    <tr style=\"text-align: right;\">\n",
              "      <th></th>\n",
              "      <th>ibov</th>\n",
              "      <th>iee</th>\n",
              "      <th>ifnc</th>\n",
              "      <th>imob</th>\n",
              "      <th>indx</th>\n",
              "    </tr>\n",
              "  </thead>\n",
              "  <tbody>\n",
              "    <tr>\n",
              "      <th>ibov</th>\n",
              "      <td>1.000000</td>\n",
              "      <td>0.846373</td>\n",
              "      <td>0.850117</td>\n",
              "      <td>0.028546</td>\n",
              "      <td>0.874930</td>\n",
              "    </tr>\n",
              "    <tr>\n",
              "      <th>iee</th>\n",
              "      <td>0.846373</td>\n",
              "      <td>1.000000</td>\n",
              "      <td>0.940119</td>\n",
              "      <td>-0.192671</td>\n",
              "      <td>0.878251</td>\n",
              "    </tr>\n",
              "    <tr>\n",
              "      <th>ifnc</th>\n",
              "      <td>0.850117</td>\n",
              "      <td>0.940119</td>\n",
              "      <td>1.000000</td>\n",
              "      <td>-0.093394</td>\n",
              "      <td>0.926409</td>\n",
              "    </tr>\n",
              "    <tr>\n",
              "      <th>imob</th>\n",
              "      <td>0.028546</td>\n",
              "      <td>-0.192671</td>\n",
              "      <td>-0.093394</td>\n",
              "      <td>1.000000</td>\n",
              "      <td>-0.062788</td>\n",
              "    </tr>\n",
              "    <tr>\n",
              "      <th>indx</th>\n",
              "      <td>0.874930</td>\n",
              "      <td>0.878251</td>\n",
              "      <td>0.926409</td>\n",
              "      <td>-0.062788</td>\n",
              "      <td>1.000000</td>\n",
              "    </tr>\n",
              "  </tbody>\n",
              "</table>\n",
              "</div>"
            ],
            "text/plain": [
              "          ibov       iee      ifnc      imob      indx\n",
              "ibov  1.000000  0.846373  0.850117  0.028546  0.874930\n",
              "iee   0.846373  1.000000  0.940119 -0.192671  0.878251\n",
              "ifnc  0.850117  0.940119  1.000000 -0.093394  0.926409\n",
              "imob  0.028546 -0.192671 -0.093394  1.000000 -0.062788\n",
              "indx  0.874930  0.878251  0.926409 -0.062788  1.000000"
            ]
          },
          "metadata": {
            "tags": []
          },
          "execution_count": 56
        }
      ]
    },
    {
      "cell_type": "code",
      "metadata": {
        "id": "DvH7zDFtUes0",
        "colab": {
          "base_uri": "https://localhost:8080/",
          "height": 197
        },
        "outputId": "aeb0b69e-3471-46e4-d253-a6f509f29994"
      },
      "source": [
        "# Matriz de correlação condicional (q1)\n",
        "corr1 = q1.corr()\n",
        "corr1"
      ],
      "execution_count": null,
      "outputs": [
        {
          "output_type": "execute_result",
          "data": {
            "text/html": [
              "<div>\n",
              "<style scoped>\n",
              "    .dataframe tbody tr th:only-of-type {\n",
              "        vertical-align: middle;\n",
              "    }\n",
              "\n",
              "    .dataframe tbody tr th {\n",
              "        vertical-align: top;\n",
              "    }\n",
              "\n",
              "    .dataframe thead th {\n",
              "        text-align: right;\n",
              "    }\n",
              "</style>\n",
              "<table border=\"1\" class=\"dataframe\">\n",
              "  <thead>\n",
              "    <tr style=\"text-align: right;\">\n",
              "      <th></th>\n",
              "      <th>ibov</th>\n",
              "      <th>iee</th>\n",
              "      <th>ifnc</th>\n",
              "      <th>imob</th>\n",
              "      <th>indx</th>\n",
              "    </tr>\n",
              "  </thead>\n",
              "  <tbody>\n",
              "    <tr>\n",
              "      <th>ibov</th>\n",
              "      <td>1.000000</td>\n",
              "      <td>0.882285</td>\n",
              "      <td>0.855943</td>\n",
              "      <td>-0.103250</td>\n",
              "      <td>0.844848</td>\n",
              "    </tr>\n",
              "    <tr>\n",
              "      <th>iee</th>\n",
              "      <td>0.882285</td>\n",
              "      <td>1.000000</td>\n",
              "      <td>0.923396</td>\n",
              "      <td>-0.237936</td>\n",
              "      <td>0.896197</td>\n",
              "    </tr>\n",
              "    <tr>\n",
              "      <th>ifnc</th>\n",
              "      <td>0.855943</td>\n",
              "      <td>0.923396</td>\n",
              "      <td>1.000000</td>\n",
              "      <td>-0.162605</td>\n",
              "      <td>0.922557</td>\n",
              "    </tr>\n",
              "    <tr>\n",
              "      <th>imob</th>\n",
              "      <td>-0.103250</td>\n",
              "      <td>-0.237936</td>\n",
              "      <td>-0.162605</td>\n",
              "      <td>1.000000</td>\n",
              "      <td>-0.223802</td>\n",
              "    </tr>\n",
              "    <tr>\n",
              "      <th>indx</th>\n",
              "      <td>0.844848</td>\n",
              "      <td>0.896197</td>\n",
              "      <td>0.922557</td>\n",
              "      <td>-0.223802</td>\n",
              "      <td>1.000000</td>\n",
              "    </tr>\n",
              "  </tbody>\n",
              "</table>\n",
              "</div>"
            ],
            "text/plain": [
              "          ibov       iee      ifnc      imob      indx\n",
              "ibov  1.000000  0.882285  0.855943 -0.103250  0.844848\n",
              "iee   0.882285  1.000000  0.923396 -0.237936  0.896197\n",
              "ifnc  0.855943  0.923396  1.000000 -0.162605  0.922557\n",
              "imob -0.103250 -0.237936 -0.162605  1.000000 -0.223802\n",
              "indx  0.844848  0.896197  0.922557 -0.223802  1.000000"
            ]
          },
          "metadata": {
            "tags": []
          },
          "execution_count": 57
        }
      ]
    },
    {
      "cell_type": "code",
      "metadata": {
        "id": "ZADqzGhuUes0",
        "colab": {
          "base_uri": "https://localhost:8080/",
          "height": 197
        },
        "outputId": "ef9e0383-150e-490f-ca24-1ba9554e1f1b"
      },
      "source": [
        "# Matriz de correlação condicional (qc)\n",
        "corrc = qc.corr()\n",
        "corrc"
      ],
      "execution_count": null,
      "outputs": [
        {
          "output_type": "execute_result",
          "data": {
            "text/html": [
              "<div>\n",
              "<style scoped>\n",
              "    .dataframe tbody tr th:only-of-type {\n",
              "        vertical-align: middle;\n",
              "    }\n",
              "\n",
              "    .dataframe tbody tr th {\n",
              "        vertical-align: top;\n",
              "    }\n",
              "\n",
              "    .dataframe thead th {\n",
              "        text-align: right;\n",
              "    }\n",
              "</style>\n",
              "<table border=\"1\" class=\"dataframe\">\n",
              "  <thead>\n",
              "    <tr style=\"text-align: right;\">\n",
              "      <th></th>\n",
              "      <th>ibov</th>\n",
              "      <th>iee</th>\n",
              "      <th>ifnc</th>\n",
              "      <th>imob</th>\n",
              "      <th>indx</th>\n",
              "    </tr>\n",
              "  </thead>\n",
              "  <tbody>\n",
              "    <tr>\n",
              "      <th>ibov</th>\n",
              "      <td>1.000000</td>\n",
              "      <td>0.899100</td>\n",
              "      <td>0.867064</td>\n",
              "      <td>-0.176639</td>\n",
              "      <td>0.848240</td>\n",
              "    </tr>\n",
              "    <tr>\n",
              "      <th>iee</th>\n",
              "      <td>0.899100</td>\n",
              "      <td>1.000000</td>\n",
              "      <td>0.931779</td>\n",
              "      <td>-0.304002</td>\n",
              "      <td>0.924138</td>\n",
              "    </tr>\n",
              "    <tr>\n",
              "      <th>ifnc</th>\n",
              "      <td>0.867064</td>\n",
              "      <td>0.931779</td>\n",
              "      <td>1.000000</td>\n",
              "      <td>-0.214627</td>\n",
              "      <td>0.925274</td>\n",
              "    </tr>\n",
              "    <tr>\n",
              "      <th>imob</th>\n",
              "      <td>-0.176639</td>\n",
              "      <td>-0.304002</td>\n",
              "      <td>-0.214627</td>\n",
              "      <td>1.000000</td>\n",
              "      <td>-0.314911</td>\n",
              "    </tr>\n",
              "    <tr>\n",
              "      <th>indx</th>\n",
              "      <td>0.848240</td>\n",
              "      <td>0.924138</td>\n",
              "      <td>0.925274</td>\n",
              "      <td>-0.314911</td>\n",
              "      <td>1.000000</td>\n",
              "    </tr>\n",
              "  </tbody>\n",
              "</table>\n",
              "</div>"
            ],
            "text/plain": [
              "          ibov       iee      ifnc      imob      indx\n",
              "ibov  1.000000  0.899100  0.867064 -0.176639  0.848240\n",
              "iee   0.899100  1.000000  0.931779 -0.304002  0.924138\n",
              "ifnc  0.867064  0.931779  1.000000 -0.214627  0.925274\n",
              "imob -0.176639 -0.304002 -0.214627  1.000000 -0.314911\n",
              "indx  0.848240  0.924138  0.925274 -0.314911  1.000000"
            ]
          },
          "metadata": {
            "tags": []
          },
          "execution_count": 58
        }
      ]
    },
    {
      "cell_type": "code",
      "metadata": {
        "id": "W2Ku6ZGGUes3",
        "colab": {
          "base_uri": "https://localhost:8080/",
          "height": 197
        },
        "outputId": "a43ce7df-51e1-4ab1-f6f1-2571ca5739c4"
      },
      "source": [
        "# Matriz de correlação condicional (q4)\n",
        "corr4 = q4.corr()\n",
        "corr4"
      ],
      "execution_count": null,
      "outputs": [
        {
          "output_type": "execute_result",
          "data": {
            "text/html": [
              "<div>\n",
              "<style scoped>\n",
              "    .dataframe tbody tr th:only-of-type {\n",
              "        vertical-align: middle;\n",
              "    }\n",
              "\n",
              "    .dataframe tbody tr th {\n",
              "        vertical-align: top;\n",
              "    }\n",
              "\n",
              "    .dataframe thead th {\n",
              "        text-align: right;\n",
              "    }\n",
              "</style>\n",
              "<table border=\"1\" class=\"dataframe\">\n",
              "  <thead>\n",
              "    <tr style=\"text-align: right;\">\n",
              "      <th></th>\n",
              "      <th>ibov</th>\n",
              "      <th>iee</th>\n",
              "      <th>ifnc</th>\n",
              "      <th>imob</th>\n",
              "      <th>indx</th>\n",
              "    </tr>\n",
              "  </thead>\n",
              "  <tbody>\n",
              "    <tr>\n",
              "      <th>ibov</th>\n",
              "      <td>1.000000</td>\n",
              "      <td>0.891101</td>\n",
              "      <td>0.870297</td>\n",
              "      <td>-0.169165</td>\n",
              "      <td>0.868212</td>\n",
              "    </tr>\n",
              "    <tr>\n",
              "      <th>iee</th>\n",
              "      <td>0.891101</td>\n",
              "      <td>1.000000</td>\n",
              "      <td>0.927807</td>\n",
              "      <td>-0.312405</td>\n",
              "      <td>0.914291</td>\n",
              "    </tr>\n",
              "    <tr>\n",
              "      <th>ifnc</th>\n",
              "      <td>0.870297</td>\n",
              "      <td>0.927807</td>\n",
              "      <td>1.000000</td>\n",
              "      <td>-0.227356</td>\n",
              "      <td>0.928125</td>\n",
              "    </tr>\n",
              "    <tr>\n",
              "      <th>imob</th>\n",
              "      <td>-0.169165</td>\n",
              "      <td>-0.312405</td>\n",
              "      <td>-0.227356</td>\n",
              "      <td>1.000000</td>\n",
              "      <td>-0.284773</td>\n",
              "    </tr>\n",
              "    <tr>\n",
              "      <th>indx</th>\n",
              "      <td>0.868212</td>\n",
              "      <td>0.914291</td>\n",
              "      <td>0.928125</td>\n",
              "      <td>-0.284773</td>\n",
              "      <td>1.000000</td>\n",
              "    </tr>\n",
              "  </tbody>\n",
              "</table>\n",
              "</div>"
            ],
            "text/plain": [
              "          ibov       iee      ifnc      imob      indx\n",
              "ibov  1.000000  0.891101  0.870297 -0.169165  0.868212\n",
              "iee   0.891101  1.000000  0.927807 -0.312405  0.914291\n",
              "ifnc  0.870297  0.927807  1.000000 -0.227356  0.928125\n",
              "imob -0.169165 -0.312405 -0.227356  1.000000 -0.284773\n",
              "indx  0.868212  0.914291  0.928125 -0.284773  1.000000"
            ]
          },
          "metadata": {
            "tags": []
          },
          "execution_count": 59
        }
      ]
    },
    {
      "cell_type": "markdown",
      "metadata": {
        "id": "4yf7GO5EUes6"
      },
      "source": [
        "### Matriz de correlação entre os retornos"
      ]
    },
    {
      "cell_type": "code",
      "metadata": {
        "id": "WnybIKw1Ues6"
      },
      "source": [
        "df = df.drop(columns = ['iee', 'ifnc', 'imob', 'indx'])"
      ],
      "execution_count": null,
      "outputs": []
    },
    {
      "cell_type": "code",
      "metadata": {
        "id": "tx15JGLmUes6",
        "colab": {
          "base_uri": "https://localhost:8080/",
          "height": 227
        },
        "outputId": "36fea656-08b3-4369-f548-268799bba5da"
      },
      "source": [
        "df['rlog_ibov'] = np.log(df['ibov']).diff()\n",
        "df.head()"
      ],
      "execution_count": null,
      "outputs": [
        {
          "output_type": "execute_result",
          "data": {
            "text/html": [
              "<div>\n",
              "<style scoped>\n",
              "    .dataframe tbody tr th:only-of-type {\n",
              "        vertical-align: middle;\n",
              "    }\n",
              "\n",
              "    .dataframe tbody tr th {\n",
              "        vertical-align: top;\n",
              "    }\n",
              "\n",
              "    .dataframe thead th {\n",
              "        text-align: right;\n",
              "    }\n",
              "</style>\n",
              "<table border=\"1\" class=\"dataframe\">\n",
              "  <thead>\n",
              "    <tr style=\"text-align: right;\">\n",
              "      <th></th>\n",
              "      <th>ibov</th>\n",
              "      <th>rlog_ibov</th>\n",
              "    </tr>\n",
              "    <tr>\n",
              "      <th>Data</th>\n",
              "      <th></th>\n",
              "      <th></th>\n",
              "    </tr>\n",
              "  </thead>\n",
              "  <tbody>\n",
              "    <tr>\n",
              "      <th>2006-07-04</th>\n",
              "      <td>37367.34</td>\n",
              "      <td>NaN</td>\n",
              "    </tr>\n",
              "    <tr>\n",
              "      <th>2006-07-05</th>\n",
              "      <td>36378.03</td>\n",
              "      <td>-0.026832</td>\n",
              "    </tr>\n",
              "    <tr>\n",
              "      <th>2006-07-06</th>\n",
              "      <td>36533.13</td>\n",
              "      <td>0.004254</td>\n",
              "    </tr>\n",
              "    <tr>\n",
              "      <th>2006-07-07</th>\n",
              "      <td>36101.98</td>\n",
              "      <td>-0.011872</td>\n",
              "    </tr>\n",
              "    <tr>\n",
              "      <th>2006-07-10</th>\n",
              "      <td>36140.64</td>\n",
              "      <td>0.001070</td>\n",
              "    </tr>\n",
              "  </tbody>\n",
              "</table>\n",
              "</div>"
            ],
            "text/plain": [
              "                ibov  rlog_ibov\n",
              "Data                           \n",
              "2006-07-04  37367.34        NaN\n",
              "2006-07-05  36378.03  -0.026832\n",
              "2006-07-06  36533.13   0.004254\n",
              "2006-07-07  36101.98  -0.011872\n",
              "2006-07-10  36140.64   0.001070"
            ]
          },
          "metadata": {
            "tags": []
          },
          "execution_count": 61
        }
      ]
    },
    {
      "cell_type": "code",
      "metadata": {
        "id": "MarZNa8qUes8",
        "colab": {
          "base_uri": "https://localhost:8080/",
          "height": 227
        },
        "outputId": "b184c56a-a32f-412b-e6e8-9f00202e3a89"
      },
      "source": [
        "# Retornos em log\n",
        "df1['rlog_iee'] = np.log(df1['iee']).diff()\n",
        "df1.head()"
      ],
      "execution_count": null,
      "outputs": [
        {
          "output_type": "execute_result",
          "data": {
            "text/html": [
              "<div>\n",
              "<style scoped>\n",
              "    .dataframe tbody tr th:only-of-type {\n",
              "        vertical-align: middle;\n",
              "    }\n",
              "\n",
              "    .dataframe tbody tr th {\n",
              "        vertical-align: top;\n",
              "    }\n",
              "\n",
              "    .dataframe thead th {\n",
              "        text-align: right;\n",
              "    }\n",
              "</style>\n",
              "<table border=\"1\" class=\"dataframe\">\n",
              "  <thead>\n",
              "    <tr style=\"text-align: right;\">\n",
              "      <th></th>\n",
              "      <th>iee</th>\n",
              "      <th>rlog_iee</th>\n",
              "    </tr>\n",
              "    <tr>\n",
              "      <th>Data</th>\n",
              "      <th></th>\n",
              "      <th></th>\n",
              "    </tr>\n",
              "  </thead>\n",
              "  <tbody>\n",
              "    <tr>\n",
              "      <th>2005-01-03</th>\n",
              "      <td>6848.30</td>\n",
              "      <td>NaN</td>\n",
              "    </tr>\n",
              "    <tr>\n",
              "      <th>2005-01-04</th>\n",
              "      <td>6594.56</td>\n",
              "      <td>-0.037755</td>\n",
              "    </tr>\n",
              "    <tr>\n",
              "      <th>2005-01-05</th>\n",
              "      <td>6569.65</td>\n",
              "      <td>-0.003785</td>\n",
              "    </tr>\n",
              "    <tr>\n",
              "      <th>2005-01-06</th>\n",
              "      <td>6511.44</td>\n",
              "      <td>-0.008900</td>\n",
              "    </tr>\n",
              "    <tr>\n",
              "      <th>2005-01-07</th>\n",
              "      <td>6623.89</td>\n",
              "      <td>0.017122</td>\n",
              "    </tr>\n",
              "  </tbody>\n",
              "</table>\n",
              "</div>"
            ],
            "text/plain": [
              "                iee  rlog_iee\n",
              "Data                         \n",
              "2005-01-03  6848.30       NaN\n",
              "2005-01-04  6594.56 -0.037755\n",
              "2005-01-05  6569.65 -0.003785\n",
              "2005-01-06  6511.44 -0.008900\n",
              "2005-01-07  6623.89  0.017122"
            ]
          },
          "metadata": {
            "tags": []
          },
          "execution_count": 62
        }
      ]
    },
    {
      "cell_type": "code",
      "metadata": {
        "id": "eNF2NPrVUes-",
        "colab": {
          "base_uri": "https://localhost:8080/",
          "height": 227
        },
        "outputId": "869d4795-20fb-4590-a916-11b9e267586c"
      },
      "source": [
        "# Retornos em log\n",
        "df3['rlog_ifnc'] = np.log(df3['ifnc']).diff()\n",
        "df3.head()"
      ],
      "execution_count": null,
      "outputs": [
        {
          "output_type": "execute_result",
          "data": {
            "text/html": [
              "<div>\n",
              "<style scoped>\n",
              "    .dataframe tbody tr th:only-of-type {\n",
              "        vertical-align: middle;\n",
              "    }\n",
              "\n",
              "    .dataframe tbody tr th {\n",
              "        vertical-align: top;\n",
              "    }\n",
              "\n",
              "    .dataframe thead th {\n",
              "        text-align: right;\n",
              "    }\n",
              "</style>\n",
              "<table border=\"1\" class=\"dataframe\">\n",
              "  <thead>\n",
              "    <tr style=\"text-align: right;\">\n",
              "      <th></th>\n",
              "      <th>ifnc</th>\n",
              "      <th>rlog_ifnc</th>\n",
              "    </tr>\n",
              "    <tr>\n",
              "      <th>Data</th>\n",
              "      <th></th>\n",
              "      <th></th>\n",
              "    </tr>\n",
              "  </thead>\n",
              "  <tbody>\n",
              "    <tr>\n",
              "      <th>2005-01-04</th>\n",
              "      <td>996.03</td>\n",
              "      <td>NaN</td>\n",
              "    </tr>\n",
              "    <tr>\n",
              "      <th>2005-01-05</th>\n",
              "      <td>978.39</td>\n",
              "      <td>-0.017869</td>\n",
              "    </tr>\n",
              "    <tr>\n",
              "      <th>2005-01-06</th>\n",
              "      <td>962.94</td>\n",
              "      <td>-0.015917</td>\n",
              "    </tr>\n",
              "    <tr>\n",
              "      <th>2005-01-07</th>\n",
              "      <td>962.60</td>\n",
              "      <td>-0.000353</td>\n",
              "    </tr>\n",
              "    <tr>\n",
              "      <th>2005-01-10</th>\n",
              "      <td>954.51</td>\n",
              "      <td>-0.008440</td>\n",
              "    </tr>\n",
              "  </tbody>\n",
              "</table>\n",
              "</div>"
            ],
            "text/plain": [
              "              ifnc  rlog_ifnc\n",
              "Data                         \n",
              "2005-01-04  996.03        NaN\n",
              "2005-01-05  978.39  -0.017869\n",
              "2005-01-06  962.94  -0.015917\n",
              "2005-01-07  962.60  -0.000353\n",
              "2005-01-10  954.51  -0.008440"
            ]
          },
          "metadata": {
            "tags": []
          },
          "execution_count": 63
        }
      ]
    },
    {
      "cell_type": "code",
      "metadata": {
        "id": "7w6z8ltYUes-",
        "colab": {
          "base_uri": "https://localhost:8080/",
          "height": 227
        },
        "outputId": "4e0f273a-b7a8-48b4-b20e-fd26ed711dc8"
      },
      "source": [
        "# Retornos em log\n",
        "df4['rlog_imob'] = np.log(df4['imob']).diff()\n",
        "df4.head()"
      ],
      "execution_count": null,
      "outputs": [
        {
          "output_type": "execute_result",
          "data": {
            "text/html": [
              "<div>\n",
              "<style scoped>\n",
              "    .dataframe tbody tr th:only-of-type {\n",
              "        vertical-align: middle;\n",
              "    }\n",
              "\n",
              "    .dataframe tbody tr th {\n",
              "        vertical-align: top;\n",
              "    }\n",
              "\n",
              "    .dataframe thead th {\n",
              "        text-align: right;\n",
              "    }\n",
              "</style>\n",
              "<table border=\"1\" class=\"dataframe\">\n",
              "  <thead>\n",
              "    <tr style=\"text-align: right;\">\n",
              "      <th></th>\n",
              "      <th>imob</th>\n",
              "      <th>rlog_imob</th>\n",
              "    </tr>\n",
              "    <tr>\n",
              "      <th>Data</th>\n",
              "      <th></th>\n",
              "      <th></th>\n",
              "    </tr>\n",
              "  </thead>\n",
              "  <tbody>\n",
              "    <tr>\n",
              "      <th>2005-01-03</th>\n",
              "      <td>2537.53</td>\n",
              "      <td>NaN</td>\n",
              "    </tr>\n",
              "    <tr>\n",
              "      <th>2005-01-04</th>\n",
              "      <td>2478.76</td>\n",
              "      <td>-0.023433</td>\n",
              "    </tr>\n",
              "    <tr>\n",
              "      <th>2005-01-05</th>\n",
              "      <td>2453.00</td>\n",
              "      <td>-0.010447</td>\n",
              "    </tr>\n",
              "    <tr>\n",
              "      <th>2005-01-06</th>\n",
              "      <td>2427.17</td>\n",
              "      <td>-0.010586</td>\n",
              "    </tr>\n",
              "    <tr>\n",
              "      <th>2005-01-07</th>\n",
              "      <td>2458.28</td>\n",
              "      <td>0.012736</td>\n",
              "    </tr>\n",
              "  </tbody>\n",
              "</table>\n",
              "</div>"
            ],
            "text/plain": [
              "               imob  rlog_imob\n",
              "Data                          \n",
              "2005-01-03  2537.53        NaN\n",
              "2005-01-04  2478.76  -0.023433\n",
              "2005-01-05  2453.00  -0.010447\n",
              "2005-01-06  2427.17  -0.010586\n",
              "2005-01-07  2458.28   0.012736"
            ]
          },
          "metadata": {
            "tags": []
          },
          "execution_count": 64
        }
      ]
    },
    {
      "cell_type": "code",
      "metadata": {
        "id": "kFBdL-L4UetA",
        "colab": {
          "base_uri": "https://localhost:8080/",
          "height": 227
        },
        "outputId": "e9b6841b-38b8-4a3f-ae49-ac549150d85d"
      },
      "source": [
        "# Retornos em log\n",
        "df5['rlog_indx'] = np.log(df5['indx']).diff()\n",
        "df5.head()"
      ],
      "execution_count": null,
      "outputs": [
        {
          "output_type": "execute_result",
          "data": {
            "text/html": [
              "<div>\n",
              "<style scoped>\n",
              "    .dataframe tbody tr th:only-of-type {\n",
              "        vertical-align: middle;\n",
              "    }\n",
              "\n",
              "    .dataframe tbody tr th {\n",
              "        vertical-align: top;\n",
              "    }\n",
              "\n",
              "    .dataframe thead th {\n",
              "        text-align: right;\n",
              "    }\n",
              "</style>\n",
              "<table border=\"1\" class=\"dataframe\">\n",
              "  <thead>\n",
              "    <tr style=\"text-align: right;\">\n",
              "      <th></th>\n",
              "      <th>indx</th>\n",
              "      <th>rlog_indx</th>\n",
              "    </tr>\n",
              "    <tr>\n",
              "      <th>Data</th>\n",
              "      <th></th>\n",
              "      <th></th>\n",
              "    </tr>\n",
              "  </thead>\n",
              "  <tbody>\n",
              "    <tr>\n",
              "      <th>2006-07-04</th>\n",
              "      <td>6083.40</td>\n",
              "      <td>NaN</td>\n",
              "    </tr>\n",
              "    <tr>\n",
              "      <th>2006-07-05</th>\n",
              "      <td>5954.59</td>\n",
              "      <td>-0.021401</td>\n",
              "    </tr>\n",
              "    <tr>\n",
              "      <th>2006-07-06</th>\n",
              "      <td>5977.69</td>\n",
              "      <td>0.003872</td>\n",
              "    </tr>\n",
              "    <tr>\n",
              "      <th>2006-07-07</th>\n",
              "      <td>5937.99</td>\n",
              "      <td>-0.006664</td>\n",
              "    </tr>\n",
              "    <tr>\n",
              "      <th>2006-07-10</th>\n",
              "      <td>5938.08</td>\n",
              "      <td>0.000015</td>\n",
              "    </tr>\n",
              "  </tbody>\n",
              "</table>\n",
              "</div>"
            ],
            "text/plain": [
              "               indx  rlog_indx\n",
              "Data                          \n",
              "2006-07-04  6083.40        NaN\n",
              "2006-07-05  5954.59  -0.021401\n",
              "2006-07-06  5977.69   0.003872\n",
              "2006-07-07  5937.99  -0.006664\n",
              "2006-07-10  5938.08   0.000015"
            ]
          },
          "metadata": {
            "tags": []
          },
          "execution_count": 65
        }
      ]
    },
    {
      "cell_type": "code",
      "metadata": {
        "id": "mYRKSP4TUetB"
      },
      "source": [
        "r_log = pd.concat([df, df1, df3, df4, df5], axis=1)"
      ],
      "execution_count": null,
      "outputs": []
    },
    {
      "cell_type": "code",
      "metadata": {
        "id": "PSUHUfI_UetB"
      },
      "source": [
        "r_log = r_log.drop(columns = ['ibov', 'iee', 'ifnc', 'imob', 'indx'])"
      ],
      "execution_count": null,
      "outputs": []
    },
    {
      "cell_type": "code",
      "metadata": {
        "id": "dcfUlqNKUetC"
      },
      "source": [
        "r_log = r_log.dropna()"
      ],
      "execution_count": null,
      "outputs": []
    },
    {
      "cell_type": "code",
      "metadata": {
        "id": "GYiRU83TUetC",
        "colab": {
          "base_uri": "https://localhost:8080/",
          "height": 227
        },
        "outputId": "4ecd5384-7258-4818-9a3f-d7a77c3df9af"
      },
      "source": [
        "r_log.head()"
      ],
      "execution_count": null,
      "outputs": [
        {
          "output_type": "execute_result",
          "data": {
            "text/html": [
              "<div>\n",
              "<style scoped>\n",
              "    .dataframe tbody tr th:only-of-type {\n",
              "        vertical-align: middle;\n",
              "    }\n",
              "\n",
              "    .dataframe tbody tr th {\n",
              "        vertical-align: top;\n",
              "    }\n",
              "\n",
              "    .dataframe thead th {\n",
              "        text-align: right;\n",
              "    }\n",
              "</style>\n",
              "<table border=\"1\" class=\"dataframe\">\n",
              "  <thead>\n",
              "    <tr style=\"text-align: right;\">\n",
              "      <th></th>\n",
              "      <th>rlog_ibov</th>\n",
              "      <th>rlog_iee</th>\n",
              "      <th>rlog_ifnc</th>\n",
              "      <th>rlog_imob</th>\n",
              "      <th>rlog_indx</th>\n",
              "    </tr>\n",
              "    <tr>\n",
              "      <th>Data</th>\n",
              "      <th></th>\n",
              "      <th></th>\n",
              "      <th></th>\n",
              "      <th></th>\n",
              "      <th></th>\n",
              "    </tr>\n",
              "  </thead>\n",
              "  <tbody>\n",
              "    <tr>\n",
              "      <th>2006-07-05</th>\n",
              "      <td>-0.026832</td>\n",
              "      <td>-0.023551</td>\n",
              "      <td>-0.033956</td>\n",
              "      <td>-0.025940</td>\n",
              "      <td>-0.021401</td>\n",
              "    </tr>\n",
              "    <tr>\n",
              "      <th>2006-07-06</th>\n",
              "      <td>0.004254</td>\n",
              "      <td>0.007833</td>\n",
              "      <td>0.007504</td>\n",
              "      <td>0.004253</td>\n",
              "      <td>0.003872</td>\n",
              "    </tr>\n",
              "    <tr>\n",
              "      <th>2006-07-07</th>\n",
              "      <td>-0.011872</td>\n",
              "      <td>-0.011157</td>\n",
              "      <td>-0.014702</td>\n",
              "      <td>-0.009612</td>\n",
              "      <td>-0.006664</td>\n",
              "    </tr>\n",
              "    <tr>\n",
              "      <th>2006-07-10</th>\n",
              "      <td>0.001070</td>\n",
              "      <td>0.006367</td>\n",
              "      <td>-0.007313</td>\n",
              "      <td>-0.002365</td>\n",
              "      <td>0.000015</td>\n",
              "    </tr>\n",
              "    <tr>\n",
              "      <th>2006-07-11</th>\n",
              "      <td>0.011361</td>\n",
              "      <td>0.005176</td>\n",
              "      <td>0.009319</td>\n",
              "      <td>0.005175</td>\n",
              "      <td>0.011848</td>\n",
              "    </tr>\n",
              "  </tbody>\n",
              "</table>\n",
              "</div>"
            ],
            "text/plain": [
              "            rlog_ibov  rlog_iee  rlog_ifnc  rlog_imob  rlog_indx\n",
              "Data                                                            \n",
              "2006-07-05  -0.026832 -0.023551  -0.033956  -0.025940  -0.021401\n",
              "2006-07-06   0.004254  0.007833   0.007504   0.004253   0.003872\n",
              "2006-07-07  -0.011872 -0.011157  -0.014702  -0.009612  -0.006664\n",
              "2006-07-10   0.001070  0.006367  -0.007313  -0.002365   0.000015\n",
              "2006-07-11   0.011361  0.005176   0.009319   0.005175   0.011848"
            ]
          },
          "metadata": {
            "tags": []
          },
          "execution_count": 69
        }
      ]
    },
    {
      "cell_type": "markdown",
      "metadata": {
        "id": "tg498_ZBUetD"
      },
      "source": [
        "#### Intervalos do retorno do Ibovespa, de acordo com o quantil\n",
        "- q_var1 (calda de queda 1%): prob(-0.159938 <= rlog_ibov <= -0.047697) = 1%\n",
        "- q_var5 (calda de queda 5%): prob(-0.159938 <= rlog_ibov <=  -0.026713) = 5%\n",
        "- q1 (calda de queda): prob(-0.159938 <= rlog_ibov <= -0.008384) = 25%\n",
        "- qc (central): prob(-0.008384 <= rlog_ibov <= 0.009612) = 50%\n",
        "- q4 (calda de alta): prob(0.009612 <= rlog_ibov <= 0.136782) = 25%"
      ]
    },
    {
      "cell_type": "code",
      "metadata": {
        "id": "Zc69V6wqUetD",
        "colab": {
          "base_uri": "https://localhost:8080/",
          "height": 1000
        },
        "outputId": "d7222a50-4a98-4d07-d21a-4935b7190d83"
      },
      "source": [
        "q_var1 = r_log.drop(df[df.rlog_ibov > -0.047697].index)\n",
        "q_var1"
      ],
      "execution_count": null,
      "outputs": [
        {
          "output_type": "execute_result",
          "data": {
            "text/html": [
              "<div>\n",
              "<style scoped>\n",
              "    .dataframe tbody tr th:only-of-type {\n",
              "        vertical-align: middle;\n",
              "    }\n",
              "\n",
              "    .dataframe tbody tr th {\n",
              "        vertical-align: top;\n",
              "    }\n",
              "\n",
              "    .dataframe thead th {\n",
              "        text-align: right;\n",
              "    }\n",
              "</style>\n",
              "<table border=\"1\" class=\"dataframe\">\n",
              "  <thead>\n",
              "    <tr style=\"text-align: right;\">\n",
              "      <th></th>\n",
              "      <th>rlog_ibov</th>\n",
              "      <th>rlog_iee</th>\n",
              "      <th>rlog_ifnc</th>\n",
              "      <th>rlog_imob</th>\n",
              "      <th>rlog_indx</th>\n",
              "    </tr>\n",
              "    <tr>\n",
              "      <th>Data</th>\n",
              "      <th></th>\n",
              "      <th></th>\n",
              "      <th></th>\n",
              "      <th></th>\n",
              "      <th></th>\n",
              "    </tr>\n",
              "  </thead>\n",
              "  <tbody>\n",
              "    <tr>\n",
              "      <th>2007-02-27</th>\n",
              "      <td>-0.068566</td>\n",
              "      <td>-0.051053</td>\n",
              "      <td>-0.050315</td>\n",
              "      <td>-0.059568</td>\n",
              "      <td>-0.058213</td>\n",
              "    </tr>\n",
              "    <tr>\n",
              "      <th>2008-01-21</th>\n",
              "      <td>-0.068315</td>\n",
              "      <td>-0.048539</td>\n",
              "      <td>-0.039141</td>\n",
              "      <td>-0.065357</td>\n",
              "      <td>-0.059838</td>\n",
              "    </tr>\n",
              "    <tr>\n",
              "      <th>2008-03-19</th>\n",
              "      <td>-0.051443</td>\n",
              "      <td>-0.017373</td>\n",
              "      <td>-0.044510</td>\n",
              "      <td>-0.037710</td>\n",
              "      <td>-0.041139</td>\n",
              "    </tr>\n",
              "    <tr>\n",
              "      <th>2008-09-15</th>\n",
              "      <td>-0.078933</td>\n",
              "      <td>-0.029901</td>\n",
              "      <td>-0.078817</td>\n",
              "      <td>-0.069330</td>\n",
              "      <td>-0.066752</td>\n",
              "    </tr>\n",
              "    <tr>\n",
              "      <th>2008-09-17</th>\n",
              "      <td>-0.069831</td>\n",
              "      <td>-0.049282</td>\n",
              "      <td>-0.058904</td>\n",
              "      <td>-0.089151</td>\n",
              "      <td>-0.073722</td>\n",
              "    </tr>\n",
              "    <tr>\n",
              "      <th>2008-09-29</th>\n",
              "      <td>-0.098310</td>\n",
              "      <td>-0.069476</td>\n",
              "      <td>-0.092069</td>\n",
              "      <td>-0.122631</td>\n",
              "      <td>-0.104538</td>\n",
              "    </tr>\n",
              "    <tr>\n",
              "      <th>2008-10-02</th>\n",
              "      <td>-0.076197</td>\n",
              "      <td>-0.030430</td>\n",
              "      <td>-0.066907</td>\n",
              "      <td>-0.088298</td>\n",
              "      <td>-0.063856</td>\n",
              "    </tr>\n",
              "    <tr>\n",
              "      <th>2008-10-06</th>\n",
              "      <td>-0.055812</td>\n",
              "      <td>-0.042334</td>\n",
              "      <td>-0.048280</td>\n",
              "      <td>-0.091672</td>\n",
              "      <td>-0.059473</td>\n",
              "    </tr>\n",
              "    <tr>\n",
              "      <th>2008-10-15</th>\n",
              "      <td>-0.120961</td>\n",
              "      <td>-0.066663</td>\n",
              "      <td>-0.109894</td>\n",
              "      <td>-0.157778</td>\n",
              "      <td>-0.118152</td>\n",
              "    </tr>\n",
              "    <tr>\n",
              "      <th>2008-10-22</th>\n",
              "      <td>-0.107335</td>\n",
              "      <td>-0.072160</td>\n",
              "      <td>-0.128484</td>\n",
              "      <td>-0.162905</td>\n",
              "      <td>-0.108073</td>\n",
              "    </tr>\n",
              "    <tr>\n",
              "      <th>2008-10-24</th>\n",
              "      <td>-0.071606</td>\n",
              "      <td>-0.051053</td>\n",
              "      <td>-0.082181</td>\n",
              "      <td>-0.088548</td>\n",
              "      <td>-0.063319</td>\n",
              "    </tr>\n",
              "    <tr>\n",
              "      <th>2008-10-27</th>\n",
              "      <td>-0.067213</td>\n",
              "      <td>-0.018769</td>\n",
              "      <td>-0.039714</td>\n",
              "      <td>-0.092653</td>\n",
              "      <td>-0.049411</td>\n",
              "    </tr>\n",
              "    <tr>\n",
              "      <th>2008-11-05</th>\n",
              "      <td>-0.063300</td>\n",
              "      <td>-0.033912</td>\n",
              "      <td>-0.087560</td>\n",
              "      <td>-0.072244</td>\n",
              "      <td>-0.060429</td>\n",
              "    </tr>\n",
              "    <tr>\n",
              "      <th>2008-11-12</th>\n",
              "      <td>-0.080671</td>\n",
              "      <td>-0.017747</td>\n",
              "      <td>-0.075628</td>\n",
              "      <td>-0.070992</td>\n",
              "      <td>-0.062128</td>\n",
              "    </tr>\n",
              "    <tr>\n",
              "      <th>2008-11-21</th>\n",
              "      <td>-0.066654</td>\n",
              "      <td>-0.017490</td>\n",
              "      <td>-0.087679</td>\n",
              "      <td>-0.079610</td>\n",
              "      <td>-0.034248</td>\n",
              "    </tr>\n",
              "    <tr>\n",
              "      <th>2008-12-01</th>\n",
              "      <td>-0.052029</td>\n",
              "      <td>-0.030919</td>\n",
              "      <td>-0.036300</td>\n",
              "      <td>-0.069254</td>\n",
              "      <td>-0.043241</td>\n",
              "    </tr>\n",
              "    <tr>\n",
              "      <th>2009-01-12</th>\n",
              "      <td>-0.053836</td>\n",
              "      <td>-0.010191</td>\n",
              "      <td>-0.033668</td>\n",
              "      <td>-0.072576</td>\n",
              "      <td>-0.048884</td>\n",
              "    </tr>\n",
              "    <tr>\n",
              "      <th>2009-02-17</th>\n",
              "      <td>-0.048838</td>\n",
              "      <td>-0.007612</td>\n",
              "      <td>-0.048055</td>\n",
              "      <td>-0.036369</td>\n",
              "      <td>-0.043861</td>\n",
              "    </tr>\n",
              "    <tr>\n",
              "      <th>2009-03-02</th>\n",
              "      <td>-0.052382</td>\n",
              "      <td>-0.028360</td>\n",
              "      <td>-0.046560</td>\n",
              "      <td>-0.066051</td>\n",
              "      <td>-0.059431</td>\n",
              "    </tr>\n",
              "    <tr>\n",
              "      <th>2009-10-28</th>\n",
              "      <td>-0.048642</td>\n",
              "      <td>-0.022193</td>\n",
              "      <td>-0.049094</td>\n",
              "      <td>-0.061458</td>\n",
              "      <td>-0.048906</td>\n",
              "    </tr>\n",
              "    <tr>\n",
              "      <th>2010-02-04</th>\n",
              "      <td>-0.048460</td>\n",
              "      <td>-0.018553</td>\n",
              "      <td>-0.041214</td>\n",
              "      <td>-0.055263</td>\n",
              "      <td>-0.040039</td>\n",
              "    </tr>\n",
              "    <tr>\n",
              "      <th>2011-08-04</th>\n",
              "      <td>-0.058933</td>\n",
              "      <td>-0.028773</td>\n",
              "      <td>-0.039679</td>\n",
              "      <td>-0.071269</td>\n",
              "      <td>-0.056549</td>\n",
              "    </tr>\n",
              "    <tr>\n",
              "      <th>2011-08-08</th>\n",
              "      <td>-0.084306</td>\n",
              "      <td>-0.051859</td>\n",
              "      <td>-0.080862</td>\n",
              "      <td>-0.073492</td>\n",
              "      <td>-0.073683</td>\n",
              "    </tr>\n",
              "    <tr>\n",
              "      <th>2011-09-22</th>\n",
              "      <td>-0.049462</td>\n",
              "      <td>-0.035087</td>\n",
              "      <td>-0.040417</td>\n",
              "      <td>-0.043744</td>\n",
              "      <td>-0.044830</td>\n",
              "    </tr>\n",
              "    <tr>\n",
              "      <th>2016-02-02</th>\n",
              "      <td>-0.049877</td>\n",
              "      <td>-0.048199</td>\n",
              "      <td>-0.060447</td>\n",
              "      <td>-0.016376</td>\n",
              "      <td>-0.027264</td>\n",
              "    </tr>\n",
              "    <tr>\n",
              "      <th>2017-05-18</th>\n",
              "      <td>-0.092110</td>\n",
              "      <td>-0.106145</td>\n",
              "      <td>-0.122799</td>\n",
              "      <td>-0.144227</td>\n",
              "      <td>-0.051222</td>\n",
              "    </tr>\n",
              "    <tr>\n",
              "      <th>2020-02-26</th>\n",
              "      <td>-0.072622</td>\n",
              "      <td>-0.043448</td>\n",
              "      <td>-0.061472</td>\n",
              "      <td>-0.070474</td>\n",
              "      <td>-0.069169</td>\n",
              "    </tr>\n",
              "    <tr>\n",
              "      <th>2020-03-09</th>\n",
              "      <td>-0.129806</td>\n",
              "      <td>-0.083178</td>\n",
              "      <td>-0.100055</td>\n",
              "      <td>-0.122673</td>\n",
              "      <td>-0.114599</td>\n",
              "    </tr>\n",
              "    <tr>\n",
              "      <th>2020-03-11</th>\n",
              "      <td>-0.079455</td>\n",
              "      <td>-0.055343</td>\n",
              "      <td>-0.078830</td>\n",
              "      <td>-0.078078</td>\n",
              "      <td>-0.077417</td>\n",
              "    </tr>\n",
              "    <tr>\n",
              "      <th>2020-03-12</th>\n",
              "      <td>-0.159938</td>\n",
              "      <td>-0.123209</td>\n",
              "      <td>-0.139076</td>\n",
              "      <td>-0.179205</td>\n",
              "      <td>-0.183383</td>\n",
              "    </tr>\n",
              "    <tr>\n",
              "      <th>2020-03-16</th>\n",
              "      <td>-0.149908</td>\n",
              "      <td>-0.096192</td>\n",
              "      <td>-0.142505</td>\n",
              "      <td>-0.194627</td>\n",
              "      <td>-0.162321</td>\n",
              "    </tr>\n",
              "    <tr>\n",
              "      <th>2020-03-18</th>\n",
              "      <td>-0.109248</td>\n",
              "      <td>-0.102344</td>\n",
              "      <td>-0.091858</td>\n",
              "      <td>-0.194322</td>\n",
              "      <td>-0.116613</td>\n",
              "    </tr>\n",
              "    <tr>\n",
              "      <th>2020-03-23</th>\n",
              "      <td>-0.053592</td>\n",
              "      <td>-0.058776</td>\n",
              "      <td>-0.078036</td>\n",
              "      <td>-0.071099</td>\n",
              "      <td>-0.022004</td>\n",
              "    </tr>\n",
              "    <tr>\n",
              "      <th>2020-03-27</th>\n",
              "      <td>-0.056664</td>\n",
              "      <td>-0.034925</td>\n",
              "      <td>-0.056421</td>\n",
              "      <td>-0.066625</td>\n",
              "      <td>-0.026707</td>\n",
              "    </tr>\n",
              "    <tr>\n",
              "      <th>2020-04-24</th>\n",
              "      <td>-0.056048</td>\n",
              "      <td>-0.061972</td>\n",
              "      <td>-0.082554</td>\n",
              "      <td>-0.112817</td>\n",
              "      <td>-0.033899</td>\n",
              "    </tr>\n",
              "  </tbody>\n",
              "</table>\n",
              "</div>"
            ],
            "text/plain": [
              "            rlog_ibov  rlog_iee  rlog_ifnc  rlog_imob  rlog_indx\n",
              "Data                                                            \n",
              "2007-02-27  -0.068566 -0.051053  -0.050315  -0.059568  -0.058213\n",
              "2008-01-21  -0.068315 -0.048539  -0.039141  -0.065357  -0.059838\n",
              "2008-03-19  -0.051443 -0.017373  -0.044510  -0.037710  -0.041139\n",
              "2008-09-15  -0.078933 -0.029901  -0.078817  -0.069330  -0.066752\n",
              "2008-09-17  -0.069831 -0.049282  -0.058904  -0.089151  -0.073722\n",
              "2008-09-29  -0.098310 -0.069476  -0.092069  -0.122631  -0.104538\n",
              "2008-10-02  -0.076197 -0.030430  -0.066907  -0.088298  -0.063856\n",
              "2008-10-06  -0.055812 -0.042334  -0.048280  -0.091672  -0.059473\n",
              "2008-10-15  -0.120961 -0.066663  -0.109894  -0.157778  -0.118152\n",
              "2008-10-22  -0.107335 -0.072160  -0.128484  -0.162905  -0.108073\n",
              "2008-10-24  -0.071606 -0.051053  -0.082181  -0.088548  -0.063319\n",
              "2008-10-27  -0.067213 -0.018769  -0.039714  -0.092653  -0.049411\n",
              "2008-11-05  -0.063300 -0.033912  -0.087560  -0.072244  -0.060429\n",
              "2008-11-12  -0.080671 -0.017747  -0.075628  -0.070992  -0.062128\n",
              "2008-11-21  -0.066654 -0.017490  -0.087679  -0.079610  -0.034248\n",
              "2008-12-01  -0.052029 -0.030919  -0.036300  -0.069254  -0.043241\n",
              "2009-01-12  -0.053836 -0.010191  -0.033668  -0.072576  -0.048884\n",
              "2009-02-17  -0.048838 -0.007612  -0.048055  -0.036369  -0.043861\n",
              "2009-03-02  -0.052382 -0.028360  -0.046560  -0.066051  -0.059431\n",
              "2009-10-28  -0.048642 -0.022193  -0.049094  -0.061458  -0.048906\n",
              "2010-02-04  -0.048460 -0.018553  -0.041214  -0.055263  -0.040039\n",
              "2011-08-04  -0.058933 -0.028773  -0.039679  -0.071269  -0.056549\n",
              "2011-08-08  -0.084306 -0.051859  -0.080862  -0.073492  -0.073683\n",
              "2011-09-22  -0.049462 -0.035087  -0.040417  -0.043744  -0.044830\n",
              "2016-02-02  -0.049877 -0.048199  -0.060447  -0.016376  -0.027264\n",
              "2017-05-18  -0.092110 -0.106145  -0.122799  -0.144227  -0.051222\n",
              "2020-02-26  -0.072622 -0.043448  -0.061472  -0.070474  -0.069169\n",
              "2020-03-09  -0.129806 -0.083178  -0.100055  -0.122673  -0.114599\n",
              "2020-03-11  -0.079455 -0.055343  -0.078830  -0.078078  -0.077417\n",
              "2020-03-12  -0.159938 -0.123209  -0.139076  -0.179205  -0.183383\n",
              "2020-03-16  -0.149908 -0.096192  -0.142505  -0.194627  -0.162321\n",
              "2020-03-18  -0.109248 -0.102344  -0.091858  -0.194322  -0.116613\n",
              "2020-03-23  -0.053592 -0.058776  -0.078036  -0.071099  -0.022004\n",
              "2020-03-27  -0.056664 -0.034925  -0.056421  -0.066625  -0.026707\n",
              "2020-04-24  -0.056048 -0.061972  -0.082554  -0.112817  -0.033899"
            ]
          },
          "metadata": {
            "tags": []
          },
          "execution_count": 70
        }
      ]
    },
    {
      "cell_type": "code",
      "metadata": {
        "id": "mQU1cngbUetE",
        "colab": {
          "base_uri": "https://localhost:8080/",
          "height": 436
        },
        "outputId": "54a1e862-be48-46e3-b674-86f58e026f65"
      },
      "source": [
        "q_var5 = r_log.drop(df[df.rlog_ibov > -0.026713].index)\n",
        "q_var5"
      ],
      "execution_count": null,
      "outputs": [
        {
          "output_type": "execute_result",
          "data": {
            "text/html": [
              "<div>\n",
              "<style scoped>\n",
              "    .dataframe tbody tr th:only-of-type {\n",
              "        vertical-align: middle;\n",
              "    }\n",
              "\n",
              "    .dataframe tbody tr th {\n",
              "        vertical-align: top;\n",
              "    }\n",
              "\n",
              "    .dataframe thead th {\n",
              "        text-align: right;\n",
              "    }\n",
              "</style>\n",
              "<table border=\"1\" class=\"dataframe\">\n",
              "  <thead>\n",
              "    <tr style=\"text-align: right;\">\n",
              "      <th></th>\n",
              "      <th>rlog_ibov</th>\n",
              "      <th>rlog_iee</th>\n",
              "      <th>rlog_ifnc</th>\n",
              "      <th>rlog_imob</th>\n",
              "      <th>rlog_indx</th>\n",
              "    </tr>\n",
              "    <tr>\n",
              "      <th>Data</th>\n",
              "      <th></th>\n",
              "      <th></th>\n",
              "      <th></th>\n",
              "      <th></th>\n",
              "      <th></th>\n",
              "    </tr>\n",
              "  </thead>\n",
              "  <tbody>\n",
              "    <tr>\n",
              "      <th>2006-07-05</th>\n",
              "      <td>-0.026832</td>\n",
              "      <td>-0.023551</td>\n",
              "      <td>-0.033956</td>\n",
              "      <td>-0.025940</td>\n",
              "      <td>-0.021401</td>\n",
              "    </tr>\n",
              "    <tr>\n",
              "      <th>2006-08-23</th>\n",
              "      <td>-0.032290</td>\n",
              "      <td>-0.023561</td>\n",
              "      <td>-0.027762</td>\n",
              "      <td>-0.023915</td>\n",
              "      <td>-0.021780</td>\n",
              "    </tr>\n",
              "    <tr>\n",
              "      <th>2007-01-05</th>\n",
              "      <td>-0.041149</td>\n",
              "      <td>-0.036166</td>\n",
              "      <td>-0.040059</td>\n",
              "      <td>-0.036433</td>\n",
              "      <td>-0.031818</td>\n",
              "    </tr>\n",
              "    <tr>\n",
              "      <th>2007-02-27</th>\n",
              "      <td>-0.068566</td>\n",
              "      <td>-0.051053</td>\n",
              "      <td>-0.050315</td>\n",
              "      <td>-0.059568</td>\n",
              "      <td>-0.058213</td>\n",
              "    </tr>\n",
              "    <tr>\n",
              "      <th>2007-03-05</th>\n",
              "      <td>-0.028504</td>\n",
              "      <td>-0.027165</td>\n",
              "      <td>-0.020123</td>\n",
              "      <td>-0.027577</td>\n",
              "      <td>-0.021163</td>\n",
              "    </tr>\n",
              "    <tr>\n",
              "      <th>...</th>\n",
              "      <td>...</td>\n",
              "      <td>...</td>\n",
              "      <td>...</td>\n",
              "      <td>...</td>\n",
              "      <td>...</td>\n",
              "    </tr>\n",
              "    <tr>\n",
              "      <th>2020-04-24</th>\n",
              "      <td>-0.056048</td>\n",
              "      <td>-0.061972</td>\n",
              "      <td>-0.082554</td>\n",
              "      <td>-0.112817</td>\n",
              "      <td>-0.033899</td>\n",
              "    </tr>\n",
              "    <tr>\n",
              "      <th>2020-04-30</th>\n",
              "      <td>-0.032566</td>\n",
              "      <td>-0.018023</td>\n",
              "      <td>-0.041619</td>\n",
              "      <td>-0.061273</td>\n",
              "      <td>-0.024426</td>\n",
              "    </tr>\n",
              "    <tr>\n",
              "      <th>2020-08-31</th>\n",
              "      <td>-0.027531</td>\n",
              "      <td>-0.017233</td>\n",
              "      <td>-0.034706</td>\n",
              "      <td>-0.029585</td>\n",
              "      <td>-0.024054</td>\n",
              "    </tr>\n",
              "    <tr>\n",
              "      <th>2020-10-28</th>\n",
              "      <td>-0.043467</td>\n",
              "      <td>-0.025800</td>\n",
              "      <td>-0.047801</td>\n",
              "      <td>-0.056379</td>\n",
              "      <td>-0.038294</td>\n",
              "    </tr>\n",
              "    <tr>\n",
              "      <th>2020-10-30</th>\n",
              "      <td>-0.027606</td>\n",
              "      <td>-0.015179</td>\n",
              "      <td>-0.027699</td>\n",
              "      <td>-0.032901</td>\n",
              "      <td>-0.032747</td>\n",
              "    </tr>\n",
              "  </tbody>\n",
              "</table>\n",
              "<p>179 rows × 5 columns</p>\n",
              "</div>"
            ],
            "text/plain": [
              "            rlog_ibov  rlog_iee  rlog_ifnc  rlog_imob  rlog_indx\n",
              "Data                                                            \n",
              "2006-07-05  -0.026832 -0.023551  -0.033956  -0.025940  -0.021401\n",
              "2006-08-23  -0.032290 -0.023561  -0.027762  -0.023915  -0.021780\n",
              "2007-01-05  -0.041149 -0.036166  -0.040059  -0.036433  -0.031818\n",
              "2007-02-27  -0.068566 -0.051053  -0.050315  -0.059568  -0.058213\n",
              "2007-03-05  -0.028504 -0.027165  -0.020123  -0.027577  -0.021163\n",
              "...               ...       ...        ...        ...        ...\n",
              "2020-04-24  -0.056048 -0.061972  -0.082554  -0.112817  -0.033899\n",
              "2020-04-30  -0.032566 -0.018023  -0.041619  -0.061273  -0.024426\n",
              "2020-08-31  -0.027531 -0.017233  -0.034706  -0.029585  -0.024054\n",
              "2020-10-28  -0.043467 -0.025800  -0.047801  -0.056379  -0.038294\n",
              "2020-10-30  -0.027606 -0.015179  -0.027699  -0.032901  -0.032747\n",
              "\n",
              "[179 rows x 5 columns]"
            ]
          },
          "metadata": {
            "tags": []
          },
          "execution_count": 71
        }
      ]
    },
    {
      "cell_type": "code",
      "metadata": {
        "id": "m7VoPOwHUetG",
        "colab": {
          "base_uri": "https://localhost:8080/",
          "height": 436
        },
        "outputId": "8eb406d9-f21b-4d5a-fbc6-72219d5ad849"
      },
      "source": [
        "q1 = r_log.drop(df[df.rlog_ibov > -0.008384].index)\n",
        "q1"
      ],
      "execution_count": null,
      "outputs": [
        {
          "output_type": "execute_result",
          "data": {
            "text/html": [
              "<div>\n",
              "<style scoped>\n",
              "    .dataframe tbody tr th:only-of-type {\n",
              "        vertical-align: middle;\n",
              "    }\n",
              "\n",
              "    .dataframe tbody tr th {\n",
              "        vertical-align: top;\n",
              "    }\n",
              "\n",
              "    .dataframe thead th {\n",
              "        text-align: right;\n",
              "    }\n",
              "</style>\n",
              "<table border=\"1\" class=\"dataframe\">\n",
              "  <thead>\n",
              "    <tr style=\"text-align: right;\">\n",
              "      <th></th>\n",
              "      <th>rlog_ibov</th>\n",
              "      <th>rlog_iee</th>\n",
              "      <th>rlog_ifnc</th>\n",
              "      <th>rlog_imob</th>\n",
              "      <th>rlog_indx</th>\n",
              "    </tr>\n",
              "    <tr>\n",
              "      <th>Data</th>\n",
              "      <th></th>\n",
              "      <th></th>\n",
              "      <th></th>\n",
              "      <th></th>\n",
              "      <th></th>\n",
              "    </tr>\n",
              "  </thead>\n",
              "  <tbody>\n",
              "    <tr>\n",
              "      <th>2006-07-05</th>\n",
              "      <td>-0.026832</td>\n",
              "      <td>-0.023551</td>\n",
              "      <td>-0.033956</td>\n",
              "      <td>-0.025940</td>\n",
              "      <td>-0.021401</td>\n",
              "    </tr>\n",
              "    <tr>\n",
              "      <th>2006-07-07</th>\n",
              "      <td>-0.011872</td>\n",
              "      <td>-0.011157</td>\n",
              "      <td>-0.014702</td>\n",
              "      <td>-0.009612</td>\n",
              "      <td>-0.006664</td>\n",
              "    </tr>\n",
              "    <tr>\n",
              "      <th>2006-07-12</th>\n",
              "      <td>-0.008899</td>\n",
              "      <td>-0.009595</td>\n",
              "      <td>-0.014524</td>\n",
              "      <td>-0.012481</td>\n",
              "      <td>-0.011693</td>\n",
              "    </tr>\n",
              "    <tr>\n",
              "      <th>2006-07-13</th>\n",
              "      <td>-0.024460</td>\n",
              "      <td>-0.025379</td>\n",
              "      <td>-0.023565</td>\n",
              "      <td>-0.027662</td>\n",
              "      <td>-0.026445</td>\n",
              "    </tr>\n",
              "    <tr>\n",
              "      <th>2006-07-17</th>\n",
              "      <td>-0.013768</td>\n",
              "      <td>-0.011449</td>\n",
              "      <td>-0.017869</td>\n",
              "      <td>-0.015460</td>\n",
              "      <td>-0.006494</td>\n",
              "    </tr>\n",
              "    <tr>\n",
              "      <th>...</th>\n",
              "      <td>...</td>\n",
              "      <td>...</td>\n",
              "      <td>...</td>\n",
              "      <td>...</td>\n",
              "      <td>...</td>\n",
              "    </tr>\n",
              "    <tr>\n",
              "      <th>2020-10-28</th>\n",
              "      <td>-0.043467</td>\n",
              "      <td>-0.025800</td>\n",
              "      <td>-0.047801</td>\n",
              "      <td>-0.056379</td>\n",
              "      <td>-0.038294</td>\n",
              "    </tr>\n",
              "    <tr>\n",
              "      <th>2020-10-30</th>\n",
              "      <td>-0.027606</td>\n",
              "      <td>-0.015179</td>\n",
              "      <td>-0.027699</td>\n",
              "      <td>-0.032901</td>\n",
              "      <td>-0.032747</td>\n",
              "    </tr>\n",
              "    <tr>\n",
              "      <th>2020-11-12</th>\n",
              "      <td>-0.022207</td>\n",
              "      <td>-0.014277</td>\n",
              "      <td>-0.026878</td>\n",
              "      <td>-0.037077</td>\n",
              "      <td>-0.009252</td>\n",
              "    </tr>\n",
              "    <tr>\n",
              "      <th>2020-11-18</th>\n",
              "      <td>-0.010588</td>\n",
              "      <td>-0.006091</td>\n",
              "      <td>-0.013378</td>\n",
              "      <td>-0.026933</td>\n",
              "      <td>-0.011839</td>\n",
              "    </tr>\n",
              "    <tr>\n",
              "      <th>2020-11-30</th>\n",
              "      <td>-0.015330</td>\n",
              "      <td>-0.004575</td>\n",
              "      <td>-0.017483</td>\n",
              "      <td>-0.032461</td>\n",
              "      <td>-0.016671</td>\n",
              "    </tr>\n",
              "  </tbody>\n",
              "</table>\n",
              "<p>899 rows × 5 columns</p>\n",
              "</div>"
            ],
            "text/plain": [
              "            rlog_ibov  rlog_iee  rlog_ifnc  rlog_imob  rlog_indx\n",
              "Data                                                            \n",
              "2006-07-05  -0.026832 -0.023551  -0.033956  -0.025940  -0.021401\n",
              "2006-07-07  -0.011872 -0.011157  -0.014702  -0.009612  -0.006664\n",
              "2006-07-12  -0.008899 -0.009595  -0.014524  -0.012481  -0.011693\n",
              "2006-07-13  -0.024460 -0.025379  -0.023565  -0.027662  -0.026445\n",
              "2006-07-17  -0.013768 -0.011449  -0.017869  -0.015460  -0.006494\n",
              "...               ...       ...        ...        ...        ...\n",
              "2020-10-28  -0.043467 -0.025800  -0.047801  -0.056379  -0.038294\n",
              "2020-10-30  -0.027606 -0.015179  -0.027699  -0.032901  -0.032747\n",
              "2020-11-12  -0.022207 -0.014277  -0.026878  -0.037077  -0.009252\n",
              "2020-11-18  -0.010588 -0.006091  -0.013378  -0.026933  -0.011839\n",
              "2020-11-30  -0.015330 -0.004575  -0.017483  -0.032461  -0.016671\n",
              "\n",
              "[899 rows x 5 columns]"
            ]
          },
          "metadata": {
            "tags": []
          },
          "execution_count": 72
        }
      ]
    },
    {
      "cell_type": "code",
      "metadata": {
        "id": "WR97ewF2UetH",
        "colab": {
          "base_uri": "https://localhost:8080/",
          "height": 436
        },
        "outputId": "cad0851f-b8d7-4d43-a7ca-92bf0de63459"
      },
      "source": [
        "qc = r_log.drop(df[df.rlog_ibov < -0.008384].index)\n",
        "qc = qc.drop(df[df.rlog_ibov > 0.009612].index)\n",
        "qc"
      ],
      "execution_count": null,
      "outputs": [
        {
          "output_type": "execute_result",
          "data": {
            "text/html": [
              "<div>\n",
              "<style scoped>\n",
              "    .dataframe tbody tr th:only-of-type {\n",
              "        vertical-align: middle;\n",
              "    }\n",
              "\n",
              "    .dataframe tbody tr th {\n",
              "        vertical-align: top;\n",
              "    }\n",
              "\n",
              "    .dataframe thead th {\n",
              "        text-align: right;\n",
              "    }\n",
              "</style>\n",
              "<table border=\"1\" class=\"dataframe\">\n",
              "  <thead>\n",
              "    <tr style=\"text-align: right;\">\n",
              "      <th></th>\n",
              "      <th>rlog_ibov</th>\n",
              "      <th>rlog_iee</th>\n",
              "      <th>rlog_ifnc</th>\n",
              "      <th>rlog_imob</th>\n",
              "      <th>rlog_indx</th>\n",
              "    </tr>\n",
              "    <tr>\n",
              "      <th>Data</th>\n",
              "      <th></th>\n",
              "      <th></th>\n",
              "      <th></th>\n",
              "      <th></th>\n",
              "      <th></th>\n",
              "    </tr>\n",
              "  </thead>\n",
              "  <tbody>\n",
              "    <tr>\n",
              "      <th>2006-07-06</th>\n",
              "      <td>0.004254</td>\n",
              "      <td>0.007833</td>\n",
              "      <td>0.007504</td>\n",
              "      <td>0.004253</td>\n",
              "      <td>0.003872</td>\n",
              "    </tr>\n",
              "    <tr>\n",
              "      <th>2006-07-10</th>\n",
              "      <td>0.001070</td>\n",
              "      <td>0.006367</td>\n",
              "      <td>-0.007313</td>\n",
              "      <td>-0.002365</td>\n",
              "      <td>0.000015</td>\n",
              "    </tr>\n",
              "    <tr>\n",
              "      <th>2006-07-14</th>\n",
              "      <td>-0.000130</td>\n",
              "      <td>-0.004596</td>\n",
              "      <td>-0.007911</td>\n",
              "      <td>-0.006401</td>\n",
              "      <td>-0.004797</td>\n",
              "    </tr>\n",
              "    <tr>\n",
              "      <th>2006-07-18</th>\n",
              "      <td>0.007546</td>\n",
              "      <td>0.022526</td>\n",
              "      <td>-0.001625</td>\n",
              "      <td>0.003675</td>\n",
              "      <td>0.008008</td>\n",
              "    </tr>\n",
              "    <tr>\n",
              "      <th>2006-07-26</th>\n",
              "      <td>-0.002362</td>\n",
              "      <td>-0.015178</td>\n",
              "      <td>-0.001767</td>\n",
              "      <td>-0.004309</td>\n",
              "      <td>-0.008456</td>\n",
              "    </tr>\n",
              "    <tr>\n",
              "      <th>...</th>\n",
              "      <td>...</td>\n",
              "      <td>...</td>\n",
              "      <td>...</td>\n",
              "      <td>...</td>\n",
              "      <td>...</td>\n",
              "    </tr>\n",
              "    <tr>\n",
              "      <th>2020-12-03</th>\n",
              "      <td>0.003685</td>\n",
              "      <td>0.004226</td>\n",
              "      <td>0.000466</td>\n",
              "      <td>0.028630</td>\n",
              "      <td>-0.009634</td>\n",
              "    </tr>\n",
              "    <tr>\n",
              "      <th>2020-12-07</th>\n",
              "      <td>-0.001412</td>\n",
              "      <td>0.002639</td>\n",
              "      <td>0.003654</td>\n",
              "      <td>-0.000849</td>\n",
              "      <td>0.001665</td>\n",
              "    </tr>\n",
              "    <tr>\n",
              "      <th>2020-12-08</th>\n",
              "      <td>0.001788</td>\n",
              "      <td>-0.004216</td>\n",
              "      <td>-0.003701</td>\n",
              "      <td>0.002218</td>\n",
              "      <td>0.007018</td>\n",
              "    </tr>\n",
              "    <tr>\n",
              "      <th>2020-12-09</th>\n",
              "      <td>-0.006983</td>\n",
              "      <td>-0.001383</td>\n",
              "      <td>-0.005865</td>\n",
              "      <td>-0.002143</td>\n",
              "      <td>-0.011131</td>\n",
              "    </tr>\n",
              "    <tr>\n",
              "      <th>2020-12-11</th>\n",
              "      <td>-0.000005</td>\n",
              "      <td>0.023196</td>\n",
              "      <td>0.003787</td>\n",
              "      <td>-0.004208</td>\n",
              "      <td>0.001719</td>\n",
              "    </tr>\n",
              "  </tbody>\n",
              "</table>\n",
              "<p>1794 rows × 5 columns</p>\n",
              "</div>"
            ],
            "text/plain": [
              "            rlog_ibov  rlog_iee  rlog_ifnc  rlog_imob  rlog_indx\n",
              "Data                                                            \n",
              "2006-07-06   0.004254  0.007833   0.007504   0.004253   0.003872\n",
              "2006-07-10   0.001070  0.006367  -0.007313  -0.002365   0.000015\n",
              "2006-07-14  -0.000130 -0.004596  -0.007911  -0.006401  -0.004797\n",
              "2006-07-18   0.007546  0.022526  -0.001625   0.003675   0.008008\n",
              "2006-07-26  -0.002362 -0.015178  -0.001767  -0.004309  -0.008456\n",
              "...               ...       ...        ...        ...        ...\n",
              "2020-12-03   0.003685  0.004226   0.000466   0.028630  -0.009634\n",
              "2020-12-07  -0.001412  0.002639   0.003654  -0.000849   0.001665\n",
              "2020-12-08   0.001788 -0.004216  -0.003701   0.002218   0.007018\n",
              "2020-12-09  -0.006983 -0.001383  -0.005865  -0.002143  -0.011131\n",
              "2020-12-11  -0.000005  0.023196   0.003787  -0.004208   0.001719\n",
              "\n",
              "[1794 rows x 5 columns]"
            ]
          },
          "metadata": {
            "tags": []
          },
          "execution_count": 73
        }
      ]
    },
    {
      "cell_type": "code",
      "metadata": {
        "id": "TCDdETDYUetJ",
        "colab": {
          "base_uri": "https://localhost:8080/",
          "height": 436
        },
        "outputId": "5768e17b-c696-4a9f-bf07-e5f5738a000d"
      },
      "source": [
        "q4 = r_log.drop(df[df.rlog_ibov < 0.009612].index)\n",
        "q4"
      ],
      "execution_count": null,
      "outputs": [
        {
          "output_type": "execute_result",
          "data": {
            "text/html": [
              "<div>\n",
              "<style scoped>\n",
              "    .dataframe tbody tr th:only-of-type {\n",
              "        vertical-align: middle;\n",
              "    }\n",
              "\n",
              "    .dataframe tbody tr th {\n",
              "        vertical-align: top;\n",
              "    }\n",
              "\n",
              "    .dataframe thead th {\n",
              "        text-align: right;\n",
              "    }\n",
              "</style>\n",
              "<table border=\"1\" class=\"dataframe\">\n",
              "  <thead>\n",
              "    <tr style=\"text-align: right;\">\n",
              "      <th></th>\n",
              "      <th>rlog_ibov</th>\n",
              "      <th>rlog_iee</th>\n",
              "      <th>rlog_ifnc</th>\n",
              "      <th>rlog_imob</th>\n",
              "      <th>rlog_indx</th>\n",
              "    </tr>\n",
              "    <tr>\n",
              "      <th>Data</th>\n",
              "      <th></th>\n",
              "      <th></th>\n",
              "      <th></th>\n",
              "      <th></th>\n",
              "      <th></th>\n",
              "    </tr>\n",
              "  </thead>\n",
              "  <tbody>\n",
              "    <tr>\n",
              "      <th>2006-07-11</th>\n",
              "      <td>0.011361</td>\n",
              "      <td>0.005176</td>\n",
              "      <td>0.009319</td>\n",
              "      <td>0.005175</td>\n",
              "      <td>0.011848</td>\n",
              "    </tr>\n",
              "    <tr>\n",
              "      <th>2006-07-19</th>\n",
              "      <td>0.046035</td>\n",
              "      <td>0.044437</td>\n",
              "      <td>0.067487</td>\n",
              "      <td>0.050773</td>\n",
              "      <td>0.030972</td>\n",
              "    </tr>\n",
              "    <tr>\n",
              "      <th>2006-07-24</th>\n",
              "      <td>0.019907</td>\n",
              "      <td>0.011853</td>\n",
              "      <td>0.032147</td>\n",
              "      <td>0.023376</td>\n",
              "      <td>0.014284</td>\n",
              "    </tr>\n",
              "    <tr>\n",
              "      <th>2006-07-25</th>\n",
              "      <td>0.012522</td>\n",
              "      <td>-0.001271</td>\n",
              "      <td>0.013682</td>\n",
              "      <td>0.014481</td>\n",
              "      <td>0.010674</td>\n",
              "    </tr>\n",
              "    <tr>\n",
              "      <th>2006-07-28</th>\n",
              "      <td>0.013285</td>\n",
              "      <td>0.011909</td>\n",
              "      <td>0.013873</td>\n",
              "      <td>0.011928</td>\n",
              "      <td>0.006176</td>\n",
              "    </tr>\n",
              "    <tr>\n",
              "      <th>...</th>\n",
              "      <td>...</td>\n",
              "      <td>...</td>\n",
              "      <td>...</td>\n",
              "      <td>...</td>\n",
              "      <td>...</td>\n",
              "    </tr>\n",
              "    <tr>\n",
              "      <th>2020-11-23</th>\n",
              "      <td>0.012524</td>\n",
              "      <td>0.000709</td>\n",
              "      <td>0.004143</td>\n",
              "      <td>0.003516</td>\n",
              "      <td>0.008347</td>\n",
              "    </tr>\n",
              "    <tr>\n",
              "      <th>2020-11-24</th>\n",
              "      <td>0.022172</td>\n",
              "      <td>0.007409</td>\n",
              "      <td>0.027166</td>\n",
              "      <td>0.032914</td>\n",
              "      <td>0.006994</td>\n",
              "    </tr>\n",
              "    <tr>\n",
              "      <th>2020-12-01</th>\n",
              "      <td>0.022758</td>\n",
              "      <td>0.003184</td>\n",
              "      <td>0.034250</td>\n",
              "      <td>0.038907</td>\n",
              "      <td>0.015418</td>\n",
              "    </tr>\n",
              "    <tr>\n",
              "      <th>2020-12-04</th>\n",
              "      <td>0.012906</td>\n",
              "      <td>-0.003413</td>\n",
              "      <td>0.005713</td>\n",
              "      <td>-0.018983</td>\n",
              "      <td>0.002614</td>\n",
              "    </tr>\n",
              "    <tr>\n",
              "      <th>2020-12-10</th>\n",
              "      <td>0.018652</td>\n",
              "      <td>0.007031</td>\n",
              "      <td>0.032388</td>\n",
              "      <td>0.015146</td>\n",
              "      <td>0.004760</td>\n",
              "    </tr>\n",
              "  </tbody>\n",
              "</table>\n",
              "<p>899 rows × 5 columns</p>\n",
              "</div>"
            ],
            "text/plain": [
              "            rlog_ibov  rlog_iee  rlog_ifnc  rlog_imob  rlog_indx\n",
              "Data                                                            \n",
              "2006-07-11   0.011361  0.005176   0.009319   0.005175   0.011848\n",
              "2006-07-19   0.046035  0.044437   0.067487   0.050773   0.030972\n",
              "2006-07-24   0.019907  0.011853   0.032147   0.023376   0.014284\n",
              "2006-07-25   0.012522 -0.001271   0.013682   0.014481   0.010674\n",
              "2006-07-28   0.013285  0.011909   0.013873   0.011928   0.006176\n",
              "...               ...       ...        ...        ...        ...\n",
              "2020-11-23   0.012524  0.000709   0.004143   0.003516   0.008347\n",
              "2020-11-24   0.022172  0.007409   0.027166   0.032914   0.006994\n",
              "2020-12-01   0.022758  0.003184   0.034250   0.038907   0.015418\n",
              "2020-12-04   0.012906 -0.003413   0.005713  -0.018983   0.002614\n",
              "2020-12-10   0.018652  0.007031   0.032388   0.015146   0.004760\n",
              "\n",
              "[899 rows x 5 columns]"
            ]
          },
          "metadata": {
            "tags": []
          },
          "execution_count": 74
        }
      ]
    },
    {
      "cell_type": "code",
      "metadata": {
        "id": "S2HPJzNsUetL",
        "colab": {
          "base_uri": "https://localhost:8080/",
          "height": 197
        },
        "outputId": "875eebe3-d96e-49b4-9817-4a45793545f1"
      },
      "source": [
        "# Matriz de correlação incondicional (período todo)\n",
        "corrIncond = r_log.corr()\n",
        "corrIncond"
      ],
      "execution_count": null,
      "outputs": [
        {
          "output_type": "execute_result",
          "data": {
            "text/html": [
              "<div>\n",
              "<style scoped>\n",
              "    .dataframe tbody tr th:only-of-type {\n",
              "        vertical-align: middle;\n",
              "    }\n",
              "\n",
              "    .dataframe tbody tr th {\n",
              "        vertical-align: top;\n",
              "    }\n",
              "\n",
              "    .dataframe thead th {\n",
              "        text-align: right;\n",
              "    }\n",
              "</style>\n",
              "<table border=\"1\" class=\"dataframe\">\n",
              "  <thead>\n",
              "    <tr style=\"text-align: right;\">\n",
              "      <th></th>\n",
              "      <th>rlog_ibov</th>\n",
              "      <th>rlog_iee</th>\n",
              "      <th>rlog_ifnc</th>\n",
              "      <th>rlog_imob</th>\n",
              "      <th>rlog_indx</th>\n",
              "    </tr>\n",
              "  </thead>\n",
              "  <tbody>\n",
              "    <tr>\n",
              "      <th>rlog_ibov</th>\n",
              "      <td>1.000000</td>\n",
              "      <td>0.778089</td>\n",
              "      <td>0.893762</td>\n",
              "      <td>0.485636</td>\n",
              "      <td>0.902046</td>\n",
              "    </tr>\n",
              "    <tr>\n",
              "      <th>rlog_iee</th>\n",
              "      <td>0.778089</td>\n",
              "      <td>1.000000</td>\n",
              "      <td>0.713067</td>\n",
              "      <td>0.407539</td>\n",
              "      <td>0.707744</td>\n",
              "    </tr>\n",
              "    <tr>\n",
              "      <th>rlog_ifnc</th>\n",
              "      <td>0.893762</td>\n",
              "      <td>0.713067</td>\n",
              "      <td>1.000000</td>\n",
              "      <td>0.463466</td>\n",
              "      <td>0.767030</td>\n",
              "    </tr>\n",
              "    <tr>\n",
              "      <th>rlog_imob</th>\n",
              "      <td>0.485636</td>\n",
              "      <td>0.407539</td>\n",
              "      <td>0.463466</td>\n",
              "      <td>1.000000</td>\n",
              "      <td>0.457999</td>\n",
              "    </tr>\n",
              "    <tr>\n",
              "      <th>rlog_indx</th>\n",
              "      <td>0.902046</td>\n",
              "      <td>0.707744</td>\n",
              "      <td>0.767030</td>\n",
              "      <td>0.457999</td>\n",
              "      <td>1.000000</td>\n",
              "    </tr>\n",
              "  </tbody>\n",
              "</table>\n",
              "</div>"
            ],
            "text/plain": [
              "           rlog_ibov  rlog_iee  rlog_ifnc  rlog_imob  rlog_indx\n",
              "rlog_ibov   1.000000  0.778089   0.893762   0.485636   0.902046\n",
              "rlog_iee    0.778089  1.000000   0.713067   0.407539   0.707744\n",
              "rlog_ifnc   0.893762  0.713067   1.000000   0.463466   0.767030\n",
              "rlog_imob   0.485636  0.407539   0.463466   1.000000   0.457999\n",
              "rlog_indx   0.902046  0.707744   0.767030   0.457999   1.000000"
            ]
          },
          "metadata": {
            "tags": []
          },
          "execution_count": 75
        }
      ]
    },
    {
      "cell_type": "code",
      "metadata": {
        "id": "agCPSRmGUetQ",
        "colab": {
          "base_uri": "https://localhost:8080/",
          "height": 197
        },
        "outputId": "ad862f40-42c4-462e-9602-9f87f0cf7ab3"
      },
      "source": [
        "# Matriz de correlação condicional (q_VAR1)\n",
        "corrVAR1 = q_var1.corr()\n",
        "corrVAR1"
      ],
      "execution_count": null,
      "outputs": [
        {
          "output_type": "execute_result",
          "data": {
            "text/html": [
              "<div>\n",
              "<style scoped>\n",
              "    .dataframe tbody tr th:only-of-type {\n",
              "        vertical-align: middle;\n",
              "    }\n",
              "\n",
              "    .dataframe tbody tr th {\n",
              "        vertical-align: top;\n",
              "    }\n",
              "\n",
              "    .dataframe thead th {\n",
              "        text-align: right;\n",
              "    }\n",
              "</style>\n",
              "<table border=\"1\" class=\"dataframe\">\n",
              "  <thead>\n",
              "    <tr style=\"text-align: right;\">\n",
              "      <th></th>\n",
              "      <th>rlog_ibov</th>\n",
              "      <th>rlog_iee</th>\n",
              "      <th>rlog_ifnc</th>\n",
              "      <th>rlog_imob</th>\n",
              "      <th>rlog_indx</th>\n",
              "    </tr>\n",
              "  </thead>\n",
              "  <tbody>\n",
              "    <tr>\n",
              "      <th>rlog_ibov</th>\n",
              "      <td>1.000000</td>\n",
              "      <td>0.803488</td>\n",
              "      <td>0.852434</td>\n",
              "      <td>0.860406</td>\n",
              "      <td>0.941419</td>\n",
              "    </tr>\n",
              "    <tr>\n",
              "      <th>rlog_iee</th>\n",
              "      <td>0.803488</td>\n",
              "      <td>1.000000</td>\n",
              "      <td>0.799064</td>\n",
              "      <td>0.815317</td>\n",
              "      <td>0.725484</td>\n",
              "    </tr>\n",
              "    <tr>\n",
              "      <th>rlog_ifnc</th>\n",
              "      <td>0.852434</td>\n",
              "      <td>0.799064</td>\n",
              "      <td>1.000000</td>\n",
              "      <td>0.810752</td>\n",
              "      <td>0.726590</td>\n",
              "    </tr>\n",
              "    <tr>\n",
              "      <th>rlog_imob</th>\n",
              "      <td>0.860406</td>\n",
              "      <td>0.815317</td>\n",
              "      <td>0.810752</td>\n",
              "      <td>1.000000</td>\n",
              "      <td>0.815731</td>\n",
              "    </tr>\n",
              "    <tr>\n",
              "      <th>rlog_indx</th>\n",
              "      <td>0.941419</td>\n",
              "      <td>0.725484</td>\n",
              "      <td>0.726590</td>\n",
              "      <td>0.815731</td>\n",
              "      <td>1.000000</td>\n",
              "    </tr>\n",
              "  </tbody>\n",
              "</table>\n",
              "</div>"
            ],
            "text/plain": [
              "           rlog_ibov  rlog_iee  rlog_ifnc  rlog_imob  rlog_indx\n",
              "rlog_ibov   1.000000  0.803488   0.852434   0.860406   0.941419\n",
              "rlog_iee    0.803488  1.000000   0.799064   0.815317   0.725484\n",
              "rlog_ifnc   0.852434  0.799064   1.000000   0.810752   0.726590\n",
              "rlog_imob   0.860406  0.815317   0.810752   1.000000   0.815731\n",
              "rlog_indx   0.941419  0.725484   0.726590   0.815731   1.000000"
            ]
          },
          "metadata": {
            "tags": []
          },
          "execution_count": 76
        }
      ]
    },
    {
      "cell_type": "code",
      "metadata": {
        "id": "AoZbFa64UetR",
        "colab": {
          "base_uri": "https://localhost:8080/",
          "height": 197
        },
        "outputId": "aaa28323-2aff-4003-d16a-d7ae25f1ff76"
      },
      "source": [
        "# Matriz de correlação condicional (q_VAR5)\n",
        "corrVAR5 = q_var5.corr()\n",
        "corrVAR5"
      ],
      "execution_count": null,
      "outputs": [
        {
          "output_type": "execute_result",
          "data": {
            "text/html": [
              "<div>\n",
              "<style scoped>\n",
              "    .dataframe tbody tr th:only-of-type {\n",
              "        vertical-align: middle;\n",
              "    }\n",
              "\n",
              "    .dataframe tbody tr th {\n",
              "        vertical-align: top;\n",
              "    }\n",
              "\n",
              "    .dataframe thead th {\n",
              "        text-align: right;\n",
              "    }\n",
              "</style>\n",
              "<table border=\"1\" class=\"dataframe\">\n",
              "  <thead>\n",
              "    <tr style=\"text-align: right;\">\n",
              "      <th></th>\n",
              "      <th>rlog_ibov</th>\n",
              "      <th>rlog_iee</th>\n",
              "      <th>rlog_ifnc</th>\n",
              "      <th>rlog_imob</th>\n",
              "      <th>rlog_indx</th>\n",
              "    </tr>\n",
              "  </thead>\n",
              "  <tbody>\n",
              "    <tr>\n",
              "      <th>rlog_ibov</th>\n",
              "      <td>1.000000</td>\n",
              "      <td>0.753357</td>\n",
              "      <td>0.835876</td>\n",
              "      <td>0.852341</td>\n",
              "      <td>0.917459</td>\n",
              "    </tr>\n",
              "    <tr>\n",
              "      <th>rlog_iee</th>\n",
              "      <td>0.753357</td>\n",
              "      <td>1.000000</td>\n",
              "      <td>0.655527</td>\n",
              "      <td>0.694991</td>\n",
              "      <td>0.678197</td>\n",
              "    </tr>\n",
              "    <tr>\n",
              "      <th>rlog_ifnc</th>\n",
              "      <td>0.835876</td>\n",
              "      <td>0.655527</td>\n",
              "      <td>1.000000</td>\n",
              "      <td>0.791950</td>\n",
              "      <td>0.692233</td>\n",
              "    </tr>\n",
              "    <tr>\n",
              "      <th>rlog_imob</th>\n",
              "      <td>0.852341</td>\n",
              "      <td>0.694991</td>\n",
              "      <td>0.791950</td>\n",
              "      <td>1.000000</td>\n",
              "      <td>0.785946</td>\n",
              "    </tr>\n",
              "    <tr>\n",
              "      <th>rlog_indx</th>\n",
              "      <td>0.917459</td>\n",
              "      <td>0.678197</td>\n",
              "      <td>0.692233</td>\n",
              "      <td>0.785946</td>\n",
              "      <td>1.000000</td>\n",
              "    </tr>\n",
              "  </tbody>\n",
              "</table>\n",
              "</div>"
            ],
            "text/plain": [
              "           rlog_ibov  rlog_iee  rlog_ifnc  rlog_imob  rlog_indx\n",
              "rlog_ibov   1.000000  0.753357   0.835876   0.852341   0.917459\n",
              "rlog_iee    0.753357  1.000000   0.655527   0.694991   0.678197\n",
              "rlog_ifnc   0.835876  0.655527   1.000000   0.791950   0.692233\n",
              "rlog_imob   0.852341  0.694991   0.791950   1.000000   0.785946\n",
              "rlog_indx   0.917459  0.678197   0.692233   0.785946   1.000000"
            ]
          },
          "metadata": {
            "tags": []
          },
          "execution_count": 77
        }
      ]
    },
    {
      "cell_type": "code",
      "metadata": {
        "id": "LyNHQc4MUetR",
        "colab": {
          "base_uri": "https://localhost:8080/",
          "height": 197
        },
        "outputId": "5599b443-91eb-4f25-b52a-f6fd2bc20562"
      },
      "source": [
        "# Matriz de correlação condicional (q1)\n",
        "corr1 = q1.corr()\n",
        "corr1"
      ],
      "execution_count": null,
      "outputs": [
        {
          "output_type": "execute_result",
          "data": {
            "text/html": [
              "<div>\n",
              "<style scoped>\n",
              "    .dataframe tbody tr th:only-of-type {\n",
              "        vertical-align: middle;\n",
              "    }\n",
              "\n",
              "    .dataframe tbody tr th {\n",
              "        vertical-align: top;\n",
              "    }\n",
              "\n",
              "    .dataframe thead th {\n",
              "        text-align: right;\n",
              "    }\n",
              "</style>\n",
              "<table border=\"1\" class=\"dataframe\">\n",
              "  <thead>\n",
              "    <tr style=\"text-align: right;\">\n",
              "      <th></th>\n",
              "      <th>rlog_ibov</th>\n",
              "      <th>rlog_iee</th>\n",
              "      <th>rlog_ifnc</th>\n",
              "      <th>rlog_imob</th>\n",
              "      <th>rlog_indx</th>\n",
              "    </tr>\n",
              "  </thead>\n",
              "  <tbody>\n",
              "    <tr>\n",
              "      <th>rlog_ibov</th>\n",
              "      <td>1.000000</td>\n",
              "      <td>0.734581</td>\n",
              "      <td>0.826434</td>\n",
              "      <td>0.262129</td>\n",
              "      <td>0.893694</td>\n",
              "    </tr>\n",
              "    <tr>\n",
              "      <th>rlog_iee</th>\n",
              "      <td>0.734581</td>\n",
              "      <td>1.000000</td>\n",
              "      <td>0.632384</td>\n",
              "      <td>0.229635</td>\n",
              "      <td>0.642452</td>\n",
              "    </tr>\n",
              "    <tr>\n",
              "      <th>rlog_ifnc</th>\n",
              "      <td>0.826434</td>\n",
              "      <td>0.632384</td>\n",
              "      <td>1.000000</td>\n",
              "      <td>0.274018</td>\n",
              "      <td>0.676048</td>\n",
              "    </tr>\n",
              "    <tr>\n",
              "      <th>rlog_imob</th>\n",
              "      <td>0.262129</td>\n",
              "      <td>0.229635</td>\n",
              "      <td>0.274018</td>\n",
              "      <td>1.000000</td>\n",
              "      <td>0.252603</td>\n",
              "    </tr>\n",
              "    <tr>\n",
              "      <th>rlog_indx</th>\n",
              "      <td>0.893694</td>\n",
              "      <td>0.642452</td>\n",
              "      <td>0.676048</td>\n",
              "      <td>0.252603</td>\n",
              "      <td>1.000000</td>\n",
              "    </tr>\n",
              "  </tbody>\n",
              "</table>\n",
              "</div>"
            ],
            "text/plain": [
              "           rlog_ibov  rlog_iee  rlog_ifnc  rlog_imob  rlog_indx\n",
              "rlog_ibov   1.000000  0.734581   0.826434   0.262129   0.893694\n",
              "rlog_iee    0.734581  1.000000   0.632384   0.229635   0.642452\n",
              "rlog_ifnc   0.826434  0.632384   1.000000   0.274018   0.676048\n",
              "rlog_imob   0.262129  0.229635   0.274018   1.000000   0.252603\n",
              "rlog_indx   0.893694  0.642452   0.676048   0.252603   1.000000"
            ]
          },
          "metadata": {
            "tags": []
          },
          "execution_count": 78
        }
      ]
    },
    {
      "cell_type": "code",
      "metadata": {
        "id": "L49juwA3UetS",
        "colab": {
          "base_uri": "https://localhost:8080/",
          "height": 197
        },
        "outputId": "6312f780-29f5-48e2-8a09-433cdaed2a5c"
      },
      "source": [
        "# Matriz de correlação condicional (qc)\n",
        "corrc = qc.corr()\n",
        "corrc"
      ],
      "execution_count": null,
      "outputs": [
        {
          "output_type": "execute_result",
          "data": {
            "text/html": [
              "<div>\n",
              "<style scoped>\n",
              "    .dataframe tbody tr th:only-of-type {\n",
              "        vertical-align: middle;\n",
              "    }\n",
              "\n",
              "    .dataframe tbody tr th {\n",
              "        vertical-align: top;\n",
              "    }\n",
              "\n",
              "    .dataframe thead th {\n",
              "        text-align: right;\n",
              "    }\n",
              "</style>\n",
              "<table border=\"1\" class=\"dataframe\">\n",
              "  <thead>\n",
              "    <tr style=\"text-align: right;\">\n",
              "      <th></th>\n",
              "      <th>rlog_ibov</th>\n",
              "      <th>rlog_iee</th>\n",
              "      <th>rlog_ifnc</th>\n",
              "      <th>rlog_imob</th>\n",
              "      <th>rlog_indx</th>\n",
              "    </tr>\n",
              "  </thead>\n",
              "  <tbody>\n",
              "    <tr>\n",
              "      <th>rlog_ibov</th>\n",
              "      <td>1.000000</td>\n",
              "      <td>0.355487</td>\n",
              "      <td>0.537857</td>\n",
              "      <td>0.383669</td>\n",
              "      <td>0.543976</td>\n",
              "    </tr>\n",
              "    <tr>\n",
              "      <th>rlog_iee</th>\n",
              "      <td>0.355487</td>\n",
              "      <td>1.000000</td>\n",
              "      <td>0.230056</td>\n",
              "      <td>0.223436</td>\n",
              "      <td>0.196750</td>\n",
              "    </tr>\n",
              "    <tr>\n",
              "      <th>rlog_ifnc</th>\n",
              "      <td>0.537857</td>\n",
              "      <td>0.230056</td>\n",
              "      <td>1.000000</td>\n",
              "      <td>0.251954</td>\n",
              "      <td>0.202738</td>\n",
              "    </tr>\n",
              "    <tr>\n",
              "      <th>rlog_imob</th>\n",
              "      <td>0.383669</td>\n",
              "      <td>0.223436</td>\n",
              "      <td>0.251954</td>\n",
              "      <td>1.000000</td>\n",
              "      <td>0.277652</td>\n",
              "    </tr>\n",
              "    <tr>\n",
              "      <th>rlog_indx</th>\n",
              "      <td>0.543976</td>\n",
              "      <td>0.196750</td>\n",
              "      <td>0.202738</td>\n",
              "      <td>0.277652</td>\n",
              "      <td>1.000000</td>\n",
              "    </tr>\n",
              "  </tbody>\n",
              "</table>\n",
              "</div>"
            ],
            "text/plain": [
              "           rlog_ibov  rlog_iee  rlog_ifnc  rlog_imob  rlog_indx\n",
              "rlog_ibov   1.000000  0.355487   0.537857   0.383669   0.543976\n",
              "rlog_iee    0.355487  1.000000   0.230056   0.223436   0.196750\n",
              "rlog_ifnc   0.537857  0.230056   1.000000   0.251954   0.202738\n",
              "rlog_imob   0.383669  0.223436   0.251954   1.000000   0.277652\n",
              "rlog_indx   0.543976  0.196750   0.202738   0.277652   1.000000"
            ]
          },
          "metadata": {
            "tags": []
          },
          "execution_count": 79
        }
      ]
    },
    {
      "cell_type": "code",
      "metadata": {
        "id": "zLvvfyRDUetU",
        "colab": {
          "base_uri": "https://localhost:8080/",
          "height": 197
        },
        "outputId": "fc2ae7f2-764f-4552-c6ef-2ac974a60f36"
      },
      "source": [
        "# Matriz de correlação condicional (q4)\n",
        "corr4 = q4.corr()\n",
        "corr4"
      ],
      "execution_count": null,
      "outputs": [
        {
          "output_type": "execute_result",
          "data": {
            "text/html": [
              "<div>\n",
              "<style scoped>\n",
              "    .dataframe tbody tr th:only-of-type {\n",
              "        vertical-align: middle;\n",
              "    }\n",
              "\n",
              "    .dataframe tbody tr th {\n",
              "        vertical-align: top;\n",
              "    }\n",
              "\n",
              "    .dataframe thead th {\n",
              "        text-align: right;\n",
              "    }\n",
              "</style>\n",
              "<table border=\"1\" class=\"dataframe\">\n",
              "  <thead>\n",
              "    <tr style=\"text-align: right;\">\n",
              "      <th></th>\n",
              "      <th>rlog_ibov</th>\n",
              "      <th>rlog_iee</th>\n",
              "      <th>rlog_ifnc</th>\n",
              "      <th>rlog_imob</th>\n",
              "      <th>rlog_indx</th>\n",
              "    </tr>\n",
              "  </thead>\n",
              "  <tbody>\n",
              "    <tr>\n",
              "      <th>rlog_ibov</th>\n",
              "      <td>1.000000</td>\n",
              "      <td>0.581410</td>\n",
              "      <td>0.796353</td>\n",
              "      <td>0.705760</td>\n",
              "      <td>0.773232</td>\n",
              "    </tr>\n",
              "    <tr>\n",
              "      <th>rlog_iee</th>\n",
              "      <td>0.581410</td>\n",
              "      <td>1.000000</td>\n",
              "      <td>0.511834</td>\n",
              "      <td>0.450792</td>\n",
              "      <td>0.474480</td>\n",
              "    </tr>\n",
              "    <tr>\n",
              "      <th>rlog_ifnc</th>\n",
              "      <td>0.796353</td>\n",
              "      <td>0.511834</td>\n",
              "      <td>1.000000</td>\n",
              "      <td>0.617872</td>\n",
              "      <td>0.530666</td>\n",
              "    </tr>\n",
              "    <tr>\n",
              "      <th>rlog_imob</th>\n",
              "      <td>0.705760</td>\n",
              "      <td>0.450792</td>\n",
              "      <td>0.617872</td>\n",
              "      <td>1.000000</td>\n",
              "      <td>0.597524</td>\n",
              "    </tr>\n",
              "    <tr>\n",
              "      <th>rlog_indx</th>\n",
              "      <td>0.773232</td>\n",
              "      <td>0.474480</td>\n",
              "      <td>0.530666</td>\n",
              "      <td>0.597524</td>\n",
              "      <td>1.000000</td>\n",
              "    </tr>\n",
              "  </tbody>\n",
              "</table>\n",
              "</div>"
            ],
            "text/plain": [
              "           rlog_ibov  rlog_iee  rlog_ifnc  rlog_imob  rlog_indx\n",
              "rlog_ibov   1.000000  0.581410   0.796353   0.705760   0.773232\n",
              "rlog_iee    0.581410  1.000000   0.511834   0.450792   0.474480\n",
              "rlog_ifnc   0.796353  0.511834   1.000000   0.617872   0.530666\n",
              "rlog_imob   0.705760  0.450792   0.617872   1.000000   0.597524\n",
              "rlog_indx   0.773232  0.474480   0.530666   0.597524   1.000000"
            ]
          },
          "metadata": {
            "tags": []
          },
          "execution_count": 80
        }
      ]
    },
    {
      "cell_type": "markdown",
      "metadata": {
        "id": "avRzw59DUetW"
      },
      "source": [
        "### Alocação ótima - Modelo Média Variância Markowitz (1952)"
      ]
    },
    {
      "cell_type": "code",
      "metadata": {
        "id": "_K_Q-uROUetW"
      },
      "source": [
        "corr_incond = 0.196750"
      ],
      "execution_count": null,
      "outputs": []
    },
    {
      "cell_type": "code",
      "metadata": {
        "id": "tq3IWL9XUetW"
      },
      "source": [
        "corr_var1 = 0.725484"
      ],
      "execution_count": null,
      "outputs": []
    },
    {
      "cell_type": "code",
      "metadata": {
        "id": "NvU2ejUyUetX",
        "colab": {
          "base_uri": "https://localhost:8080/"
        },
        "outputId": "cb5feba4-d9aa-479e-ba4e-0bd8ea64996d"
      },
      "source": [
        "# desvio padrão de rlog_iee incondicional\n",
        "sigma_a = round(np.std(qc.rlog_iee),4)\n",
        "sigma_a"
      ],
      "execution_count": null,
      "outputs": [
        {
          "output_type": "execute_result",
          "data": {
            "text/plain": [
              "0.008"
            ]
          },
          "metadata": {
            "tags": []
          },
          "execution_count": 83
        }
      ]
    },
    {
      "cell_type": "code",
      "metadata": {
        "id": "_jXR4-88UetZ",
        "colab": {
          "base_uri": "https://localhost:8080/"
        },
        "outputId": "34d95dcb-5adf-4fc6-a618-3932a4545a2a"
      },
      "source": [
        "# desvio padrão de rlog_indx incondicional\n",
        "sigma_b = round(np.std(qc.rlog_indx),4)\n",
        "sigma_b"
      ],
      "execution_count": null,
      "outputs": [
        {
          "output_type": "execute_result",
          "data": {
            "text/plain": [
              "0.0066"
            ]
          },
          "metadata": {
            "tags": []
          },
          "execution_count": 84
        }
      ]
    },
    {
      "cell_type": "code",
      "metadata": {
        "id": "uCvZj3KWUetZ",
        "colab": {
          "base_uri": "https://localhost:8080/"
        },
        "outputId": "7924f6ca-74a5-4914-f5eb-2973b94c03a5"
      },
      "source": [
        "# desvio padrão de rlog_iee condicional (q_VAR1)\n",
        "sigma_a_var = round(np.std(q_var1.rlog_iee),4)\n",
        "sigma_a_var"
      ],
      "execution_count": null,
      "outputs": [
        {
          "output_type": "execute_result",
          "data": {
            "text/plain": [
              "0.0282"
            ]
          },
          "metadata": {
            "tags": []
          },
          "execution_count": 85
        }
      ]
    },
    {
      "cell_type": "code",
      "metadata": {
        "id": "9zooMp1HUeta",
        "colab": {
          "base_uri": "https://localhost:8080/"
        },
        "outputId": "63baae46-3dcf-4c03-ba14-889d48535578"
      },
      "source": [
        "# desvio padrão de rlog_indx condicional (q_VAR1)\n",
        "sigma_b_var = round(np.std(q_var1.rlog_indx),4)\n",
        "sigma_b_var"
      ],
      "execution_count": null,
      "outputs": [
        {
          "output_type": "execute_result",
          "data": {
            "text/plain": [
              "0.036"
            ]
          },
          "metadata": {
            "tags": []
          },
          "execution_count": 86
        }
      ]
    },
    {
      "cell_type": "code",
      "metadata": {
        "id": "Zarsj6ZYUetb",
        "colab": {
          "base_uri": "https://localhost:8080/"
        },
        "outputId": "2fa0286d-489f-416f-be68-5efe80876ab9"
      },
      "source": [
        "# alpha incondicional\n",
        "round((-(sigma_a*sigma_b*corr_incond)+(sigma_b**2))/((sigma_a**2)-(2*sigma_a*sigma_b*corr_incond)+(sigma_b**2)),6)"
      ],
      "execution_count": null,
      "outputs": [
        {
          "output_type": "execute_result",
          "data": {
            "text/plain": [
              "0.382235"
            ]
          },
          "metadata": {
            "tags": []
          },
          "execution_count": 87
        }
      ]
    },
    {
      "cell_type": "code",
      "metadata": {
        "id": "2Z6F0ipdUetb",
        "colab": {
          "base_uri": "https://localhost:8080/"
        },
        "outputId": "4064a2fd-6c19-4581-a80f-e1d1e66447b7"
      },
      "source": [
        "# 1 - alpha incondicional\n",
        "round((-(sigma_a*sigma_b*corr_incond)+(sigma_a**2))/((sigma_a**2)-(2*sigma_a*sigma_b*corr_incond)+(sigma_b**2)),6)"
      ],
      "execution_count": null,
      "outputs": [
        {
          "output_type": "execute_result",
          "data": {
            "text/plain": [
              "0.617765"
            ]
          },
          "metadata": {
            "tags": []
          },
          "execution_count": 88
        }
      ]
    },
    {
      "cell_type": "code",
      "metadata": {
        "id": "G4larhq8Uetc",
        "colab": {
          "base_uri": "https://localhost:8080/"
        },
        "outputId": "5228f587-f1a9-41d3-a150-00c39ce63781"
      },
      "source": [
        "# alpha condicional VAR 1%\n",
        "round((-(sigma_a_var*sigma_b_var*corr_var1)+(sigma_b_var**2))/\n",
        "      ((sigma_a_var**2)-(2*sigma_a_var*sigma_b_var*corr_var1)+(sigma_b_var**2)),6)"
      ],
      "execution_count": null,
      "outputs": [
        {
          "output_type": "execute_result",
          "data": {
            "text/plain": [
              "0.905003"
            ]
          },
          "metadata": {
            "tags": []
          },
          "execution_count": 89
        }
      ]
    },
    {
      "cell_type": "code",
      "metadata": {
        "id": "QZ0DNs9-Uetd",
        "colab": {
          "base_uri": "https://localhost:8080/"
        },
        "outputId": "48d8a9da-a04e-458f-9c7b-f079cf1aff26"
      },
      "source": [
        "# 1 - alpha condicional VAR 1%\n",
        "round((-(sigma_a_var*sigma_b_var*corr_var1)+(sigma_a_var**2))/\n",
        "      ((sigma_a_var**2)-(2*sigma_a_var*sigma_b_var*corr_var1)+(sigma_b_var**2)),6)"
      ],
      "execution_count": null,
      "outputs": [
        {
          "output_type": "execute_result",
          "data": {
            "text/plain": [
              "0.094997"
            ]
          },
          "metadata": {
            "tags": []
          },
          "execution_count": 90
        }
      ]
    },
    {
      "cell_type": "markdown",
      "metadata": {
        "id": "Zwtx7RF9Uetd"
      },
      "source": [
        "### Download"
      ]
    },
    {
      "cell_type": "code",
      "metadata": {
        "id": "oR0fnS-JfUst"
      },
      "source": [
        "from google.colab import files"
      ],
      "execution_count": null,
      "outputs": []
    },
    {
      "cell_type": "code",
      "metadata": {
        "id": "zB8X2EWZUete",
        "colab": {
          "base_uri": "https://localhost:8080/",
          "height": 16
        },
        "outputId": "fd5ee987-04f5-42ab-a34b-293dbc1fa814"
      },
      "source": [
        "corrIncond.to_excel(\"corrIncond.xlsx\")\n",
        "files.download(\"corrIncond.xlsx\")"
      ],
      "execution_count": null,
      "outputs": [
        {
          "output_type": "display_data",
          "data": {
            "application/javascript": [
              "\n",
              "    async function download(id, filename, size) {\n",
              "      if (!google.colab.kernel.accessAllowed) {\n",
              "        return;\n",
              "      }\n",
              "      const div = document.createElement('div');\n",
              "      const label = document.createElement('label');\n",
              "      label.textContent = `Downloading \"${filename}\": `;\n",
              "      div.appendChild(label);\n",
              "      const progress = document.createElement('progress');\n",
              "      progress.max = size;\n",
              "      div.appendChild(progress);\n",
              "      document.body.appendChild(div);\n",
              "\n",
              "      const buffers = [];\n",
              "      let downloaded = 0;\n",
              "\n",
              "      const channel = await google.colab.kernel.comms.open(id);\n",
              "      // Send a message to notify the kernel that we're ready.\n",
              "      channel.send({})\n",
              "\n",
              "      for await (const message of channel.messages) {\n",
              "        // Send a message to notify the kernel that we're ready.\n",
              "        channel.send({})\n",
              "        if (message.buffers) {\n",
              "          for (const buffer of message.buffers) {\n",
              "            buffers.push(buffer);\n",
              "            downloaded += buffer.byteLength;\n",
              "            progress.value = downloaded;\n",
              "          }\n",
              "        }\n",
              "      }\n",
              "      const blob = new Blob(buffers, {type: 'application/binary'});\n",
              "      const a = document.createElement('a');\n",
              "      a.href = window.URL.createObjectURL(blob);\n",
              "      a.download = filename;\n",
              "      div.appendChild(a);\n",
              "      a.click();\n",
              "      div.remove();\n",
              "    }\n",
              "  "
            ],
            "text/plain": [
              "<IPython.core.display.Javascript object>"
            ]
          },
          "metadata": {
            "tags": []
          }
        },
        {
          "output_type": "display_data",
          "data": {
            "application/javascript": [
              "download(\"download_4d8ac2a4-5ac1-439c-b44b-cbb08afe3d05\", \"corrIncond.xlsx\", 5237)"
            ],
            "text/plain": [
              "<IPython.core.display.Javascript object>"
            ]
          },
          "metadata": {
            "tags": []
          }
        }
      ]
    },
    {
      "cell_type": "code",
      "metadata": {
        "id": "KkXuUQlRUete",
        "colab": {
          "base_uri": "https://localhost:8080/",
          "height": 16
        },
        "outputId": "8d3fd98e-de19-4b3b-b102-9b2bc4cd156e"
      },
      "source": [
        "corrVAR1.to_excel(\"corrVAR1.xlsx\")\n",
        "files.download(\"corrVAR1.xlsx\")"
      ],
      "execution_count": null,
      "outputs": [
        {
          "output_type": "display_data",
          "data": {
            "application/javascript": [
              "\n",
              "    async function download(id, filename, size) {\n",
              "      if (!google.colab.kernel.accessAllowed) {\n",
              "        return;\n",
              "      }\n",
              "      const div = document.createElement('div');\n",
              "      const label = document.createElement('label');\n",
              "      label.textContent = `Downloading \"${filename}\": `;\n",
              "      div.appendChild(label);\n",
              "      const progress = document.createElement('progress');\n",
              "      progress.max = size;\n",
              "      div.appendChild(progress);\n",
              "      document.body.appendChild(div);\n",
              "\n",
              "      const buffers = [];\n",
              "      let downloaded = 0;\n",
              "\n",
              "      const channel = await google.colab.kernel.comms.open(id);\n",
              "      // Send a message to notify the kernel that we're ready.\n",
              "      channel.send({})\n",
              "\n",
              "      for await (const message of channel.messages) {\n",
              "        // Send a message to notify the kernel that we're ready.\n",
              "        channel.send({})\n",
              "        if (message.buffers) {\n",
              "          for (const buffer of message.buffers) {\n",
              "            buffers.push(buffer);\n",
              "            downloaded += buffer.byteLength;\n",
              "            progress.value = downloaded;\n",
              "          }\n",
              "        }\n",
              "      }\n",
              "      const blob = new Blob(buffers, {type: 'application/binary'});\n",
              "      const a = document.createElement('a');\n",
              "      a.href = window.URL.createObjectURL(blob);\n",
              "      a.download = filename;\n",
              "      div.appendChild(a);\n",
              "      a.click();\n",
              "      div.remove();\n",
              "    }\n",
              "  "
            ],
            "text/plain": [
              "<IPython.core.display.Javascript object>"
            ]
          },
          "metadata": {
            "tags": []
          }
        },
        {
          "output_type": "display_data",
          "data": {
            "application/javascript": [
              "download(\"download_16e4a9fc-12d1-4da3-8e27-13d6394cd3b9\", \"corrVAR1.xlsx\", 5239)"
            ],
            "text/plain": [
              "<IPython.core.display.Javascript object>"
            ]
          },
          "metadata": {
            "tags": []
          }
        }
      ]
    },
    {
      "cell_type": "code",
      "metadata": {
        "id": "VdrhqO3OUetf",
        "colab": {
          "base_uri": "https://localhost:8080/",
          "height": 16
        },
        "outputId": "7ff0166b-e24e-421a-b82e-ca1fd57eb7d4"
      },
      "source": [
        "corrVAR5.to_excel(\"corrVAR5.xlsx\")\n",
        "files.download(\"corrVAR5.xlsx\")"
      ],
      "execution_count": null,
      "outputs": [
        {
          "output_type": "display_data",
          "data": {
            "application/javascript": [
              "\n",
              "    async function download(id, filename, size) {\n",
              "      if (!google.colab.kernel.accessAllowed) {\n",
              "        return;\n",
              "      }\n",
              "      const div = document.createElement('div');\n",
              "      const label = document.createElement('label');\n",
              "      label.textContent = `Downloading \"${filename}\": `;\n",
              "      div.appendChild(label);\n",
              "      const progress = document.createElement('progress');\n",
              "      progress.max = size;\n",
              "      div.appendChild(progress);\n",
              "      document.body.appendChild(div);\n",
              "\n",
              "      const buffers = [];\n",
              "      let downloaded = 0;\n",
              "\n",
              "      const channel = await google.colab.kernel.comms.open(id);\n",
              "      // Send a message to notify the kernel that we're ready.\n",
              "      channel.send({})\n",
              "\n",
              "      for await (const message of channel.messages) {\n",
              "        // Send a message to notify the kernel that we're ready.\n",
              "        channel.send({})\n",
              "        if (message.buffers) {\n",
              "          for (const buffer of message.buffers) {\n",
              "            buffers.push(buffer);\n",
              "            downloaded += buffer.byteLength;\n",
              "            progress.value = downloaded;\n",
              "          }\n",
              "        }\n",
              "      }\n",
              "      const blob = new Blob(buffers, {type: 'application/binary'});\n",
              "      const a = document.createElement('a');\n",
              "      a.href = window.URL.createObjectURL(blob);\n",
              "      a.download = filename;\n",
              "      div.appendChild(a);\n",
              "      a.click();\n",
              "      div.remove();\n",
              "    }\n",
              "  "
            ],
            "text/plain": [
              "<IPython.core.display.Javascript object>"
            ]
          },
          "metadata": {
            "tags": []
          }
        },
        {
          "output_type": "display_data",
          "data": {
            "application/javascript": [
              "download(\"download_3a7c64b0-fda7-4132-b868-451a224a8236\", \"corrVAR5.xlsx\", 5236)"
            ],
            "text/plain": [
              "<IPython.core.display.Javascript object>"
            ]
          },
          "metadata": {
            "tags": []
          }
        }
      ]
    },
    {
      "cell_type": "code",
      "metadata": {
        "id": "jgZ31SEyUetf",
        "colab": {
          "base_uri": "https://localhost:8080/",
          "height": 16
        },
        "outputId": "520f1e75-1318-4b9f-ef73-fc194b755404"
      },
      "source": [
        "corr1.to_excel(\"corr1.xlsx\")\n",
        "files.download(\"corr1.xlsx\")"
      ],
      "execution_count": null,
      "outputs": [
        {
          "output_type": "display_data",
          "data": {
            "application/javascript": [
              "\n",
              "    async function download(id, filename, size) {\n",
              "      if (!google.colab.kernel.accessAllowed) {\n",
              "        return;\n",
              "      }\n",
              "      const div = document.createElement('div');\n",
              "      const label = document.createElement('label');\n",
              "      label.textContent = `Downloading \"${filename}\": `;\n",
              "      div.appendChild(label);\n",
              "      const progress = document.createElement('progress');\n",
              "      progress.max = size;\n",
              "      div.appendChild(progress);\n",
              "      document.body.appendChild(div);\n",
              "\n",
              "      const buffers = [];\n",
              "      let downloaded = 0;\n",
              "\n",
              "      const channel = await google.colab.kernel.comms.open(id);\n",
              "      // Send a message to notify the kernel that we're ready.\n",
              "      channel.send({})\n",
              "\n",
              "      for await (const message of channel.messages) {\n",
              "        // Send a message to notify the kernel that we're ready.\n",
              "        channel.send({})\n",
              "        if (message.buffers) {\n",
              "          for (const buffer of message.buffers) {\n",
              "            buffers.push(buffer);\n",
              "            downloaded += buffer.byteLength;\n",
              "            progress.value = downloaded;\n",
              "          }\n",
              "        }\n",
              "      }\n",
              "      const blob = new Blob(buffers, {type: 'application/binary'});\n",
              "      const a = document.createElement('a');\n",
              "      a.href = window.URL.createObjectURL(blob);\n",
              "      a.download = filename;\n",
              "      div.appendChild(a);\n",
              "      a.click();\n",
              "      div.remove();\n",
              "    }\n",
              "  "
            ],
            "text/plain": [
              "<IPython.core.display.Javascript object>"
            ]
          },
          "metadata": {
            "tags": []
          }
        },
        {
          "output_type": "display_data",
          "data": {
            "application/javascript": [
              "download(\"download_92dcf9ad-a4b9-4bab-ba10-0c007c5ce5af\", \"corr1.xlsx\", 5238)"
            ],
            "text/plain": [
              "<IPython.core.display.Javascript object>"
            ]
          },
          "metadata": {
            "tags": []
          }
        }
      ]
    },
    {
      "cell_type": "code",
      "metadata": {
        "id": "DmVGkNUKUetf",
        "colab": {
          "base_uri": "https://localhost:8080/",
          "height": 16
        },
        "outputId": "9775382f-f724-495e-9fa1-022878aa3d6e"
      },
      "source": [
        "corrc.to_excel(\"corrc.xlsx\")\n",
        "files.download(\"corrc.xlsx\")"
      ],
      "execution_count": null,
      "outputs": [
        {
          "output_type": "display_data",
          "data": {
            "application/javascript": [
              "\n",
              "    async function download(id, filename, size) {\n",
              "      if (!google.colab.kernel.accessAllowed) {\n",
              "        return;\n",
              "      }\n",
              "      const div = document.createElement('div');\n",
              "      const label = document.createElement('label');\n",
              "      label.textContent = `Downloading \"${filename}\": `;\n",
              "      div.appendChild(label);\n",
              "      const progress = document.createElement('progress');\n",
              "      progress.max = size;\n",
              "      div.appendChild(progress);\n",
              "      document.body.appendChild(div);\n",
              "\n",
              "      const buffers = [];\n",
              "      let downloaded = 0;\n",
              "\n",
              "      const channel = await google.colab.kernel.comms.open(id);\n",
              "      // Send a message to notify the kernel that we're ready.\n",
              "      channel.send({})\n",
              "\n",
              "      for await (const message of channel.messages) {\n",
              "        // Send a message to notify the kernel that we're ready.\n",
              "        channel.send({})\n",
              "        if (message.buffers) {\n",
              "          for (const buffer of message.buffers) {\n",
              "            buffers.push(buffer);\n",
              "            downloaded += buffer.byteLength;\n",
              "            progress.value = downloaded;\n",
              "          }\n",
              "        }\n",
              "      }\n",
              "      const blob = new Blob(buffers, {type: 'application/binary'});\n",
              "      const a = document.createElement('a');\n",
              "      a.href = window.URL.createObjectURL(blob);\n",
              "      a.download = filename;\n",
              "      div.appendChild(a);\n",
              "      a.click();\n",
              "      div.remove();\n",
              "    }\n",
              "  "
            ],
            "text/plain": [
              "<IPython.core.display.Javascript object>"
            ]
          },
          "metadata": {
            "tags": []
          }
        },
        {
          "output_type": "display_data",
          "data": {
            "application/javascript": [
              "download(\"download_569a80c5-1836-45e7-b430-e071f6793045\", \"corrc.xlsx\", 5236)"
            ],
            "text/plain": [
              "<IPython.core.display.Javascript object>"
            ]
          },
          "metadata": {
            "tags": []
          }
        }
      ]
    },
    {
      "cell_type": "code",
      "metadata": {
        "id": "gH8T2CMtUetg",
        "colab": {
          "base_uri": "https://localhost:8080/",
          "height": 16
        },
        "outputId": "6cd06531-0b54-473d-f44d-a79fbbb7e0d0"
      },
      "source": [
        "corr4.to_excel(\"corr4.xlsx\")\n",
        "files.download(\"corr4.xlsx\")"
      ],
      "execution_count": null,
      "outputs": [
        {
          "output_type": "display_data",
          "data": {
            "application/javascript": [
              "\n",
              "    async function download(id, filename, size) {\n",
              "      if (!google.colab.kernel.accessAllowed) {\n",
              "        return;\n",
              "      }\n",
              "      const div = document.createElement('div');\n",
              "      const label = document.createElement('label');\n",
              "      label.textContent = `Downloading \"${filename}\": `;\n",
              "      div.appendChild(label);\n",
              "      const progress = document.createElement('progress');\n",
              "      progress.max = size;\n",
              "      div.appendChild(progress);\n",
              "      document.body.appendChild(div);\n",
              "\n",
              "      const buffers = [];\n",
              "      let downloaded = 0;\n",
              "\n",
              "      const channel = await google.colab.kernel.comms.open(id);\n",
              "      // Send a message to notify the kernel that we're ready.\n",
              "      channel.send({})\n",
              "\n",
              "      for await (const message of channel.messages) {\n",
              "        // Send a message to notify the kernel that we're ready.\n",
              "        channel.send({})\n",
              "        if (message.buffers) {\n",
              "          for (const buffer of message.buffers) {\n",
              "            buffers.push(buffer);\n",
              "            downloaded += buffer.byteLength;\n",
              "            progress.value = downloaded;\n",
              "          }\n",
              "        }\n",
              "      }\n",
              "      const blob = new Blob(buffers, {type: 'application/binary'});\n",
              "      const a = document.createElement('a');\n",
              "      a.href = window.URL.createObjectURL(blob);\n",
              "      a.download = filename;\n",
              "      div.appendChild(a);\n",
              "      a.click();\n",
              "      div.remove();\n",
              "    }\n",
              "  "
            ],
            "text/plain": [
              "<IPython.core.display.Javascript object>"
            ]
          },
          "metadata": {
            "tags": []
          }
        },
        {
          "output_type": "display_data",
          "data": {
            "application/javascript": [
              "download(\"download_7a52a5fc-cf79-40ef-a3ef-3f7d3f37284b\", \"corr4.xlsx\", 5235)"
            ],
            "text/plain": [
              "<IPython.core.display.Javascript object>"
            ]
          },
          "metadata": {
            "tags": []
          }
        }
      ]
    },
    {
      "cell_type": "markdown",
      "metadata": {
        "id": "Zv9VnCmMUetw"
      },
      "source": [
        "#### Obrigado. Tenha um ótimo dia! :)"
      ]
    }
  ]
}